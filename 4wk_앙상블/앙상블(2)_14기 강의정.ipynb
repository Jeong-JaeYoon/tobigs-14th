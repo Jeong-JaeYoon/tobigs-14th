{
 "cells": [
  {
   "cell_type": "markdown",
   "metadata": {},
   "source": [
    "# Kaggle - Bike Sharing Demand\n",
    "https://www.kaggle.com/c/bike-sharing-demand"
   ]
  },
  {
   "cell_type": "markdown",
   "metadata": {},
   "source": [
    "## configuration"
   ]
  },
  {
   "cell_type": "code",
   "execution_count": 19,
   "metadata": {},
   "outputs": [],
   "source": [
    "import pandas as pd\n",
    "import numpy as np\n",
    "import warnings\n",
    "warnings.filterwarnings('ignore')\n",
    "pd.options.display.max_rows = 9999\n",
    "pd.options.display.max_columns = 9999\n",
    "pd.options.display.float_format = '{:.5f}'.format\n",
    "\n",
    "import matplotlib as mpl\n",
    "from matplotlib import pyplot as plt\n",
    "plt.style.use('seaborn')\n",
    "import seaborn as sns\n",
    "%matplotlib inline"
   ]
  },
  {
   "cell_type": "markdown",
   "metadata": {},
   "source": [
    "## Load Dataset"
   ]
  },
  {
   "cell_type": "markdown",
   "metadata": {},
   "source": [
    "* datetime - hourly date + timestamp  \n",
    "* season -  1 = spring, 2 = summer, 3 = fall, 4 = winter \n",
    "* holiday - whether the day is considered a holiday\n",
    "* workingday - whether the day is neither a weekend nor holiday\n",
    "* weather - 1: Clear, Few clouds, Partly cloudy, Partly cloudy\n",
    "2: Mist + Cloudy, Mist + Broken clouds, Mist + Few clouds, Mist\n",
    "3: Light Snow, Light Rain + Thunderstorm + Scattered clouds, Light Rain + Scattered clouds\n",
    "4: Heavy Rain + Ice Pallets + Thunderstorm + Mist, Snow + Fog \n",
    "* temp - temperature in Celsius\n",
    "* atemp - \"feels like\" temperature in Celsius\n",
    "* humidity - relative humidity\n",
    "* windspeed - wind speed\n",
    "* casual - number of non-registered user rentals initiated\n",
    "* registered - number of registered user rentals initiated\n",
    "* count - number of total rentals"
   ]
  },
  {
   "cell_type": "markdown",
   "metadata": {},
   "source": [
    "**train**"
   ]
  },
  {
   "cell_type": "code",
   "execution_count": 20,
   "metadata": {},
   "outputs": [
    {
     "name": "stdout",
     "output_type": "stream",
     "text": [
      "(10886, 12)\n"
     ]
    },
    {
     "data": {
      "text/html": [
       "<div>\n",
       "<style scoped>\n",
       "    .dataframe tbody tr th:only-of-type {\n",
       "        vertical-align: middle;\n",
       "    }\n",
       "\n",
       "    .dataframe tbody tr th {\n",
       "        vertical-align: top;\n",
       "    }\n",
       "\n",
       "    .dataframe thead th {\n",
       "        text-align: right;\n",
       "    }\n",
       "</style>\n",
       "<table border=\"1\" class=\"dataframe\">\n",
       "  <thead>\n",
       "    <tr style=\"text-align: right;\">\n",
       "      <th></th>\n",
       "      <th>datetime</th>\n",
       "      <th>season</th>\n",
       "      <th>holiday</th>\n",
       "      <th>workingday</th>\n",
       "      <th>weather</th>\n",
       "      <th>temp</th>\n",
       "      <th>atemp</th>\n",
       "      <th>humidity</th>\n",
       "      <th>windspeed</th>\n",
       "      <th>casual</th>\n",
       "      <th>registered</th>\n",
       "      <th>count</th>\n",
       "    </tr>\n",
       "  </thead>\n",
       "  <tbody>\n",
       "    <tr>\n",
       "      <th>0</th>\n",
       "      <td>2011-01-01 00:00:00</td>\n",
       "      <td>1</td>\n",
       "      <td>0</td>\n",
       "      <td>0</td>\n",
       "      <td>1</td>\n",
       "      <td>9.84000</td>\n",
       "      <td>14.39500</td>\n",
       "      <td>81</td>\n",
       "      <td>0.00000</td>\n",
       "      <td>3</td>\n",
       "      <td>13</td>\n",
       "      <td>16</td>\n",
       "    </tr>\n",
       "    <tr>\n",
       "      <th>1</th>\n",
       "      <td>2011-01-01 01:00:00</td>\n",
       "      <td>1</td>\n",
       "      <td>0</td>\n",
       "      <td>0</td>\n",
       "      <td>1</td>\n",
       "      <td>9.02000</td>\n",
       "      <td>13.63500</td>\n",
       "      <td>80</td>\n",
       "      <td>0.00000</td>\n",
       "      <td>8</td>\n",
       "      <td>32</td>\n",
       "      <td>40</td>\n",
       "    </tr>\n",
       "    <tr>\n",
       "      <th>2</th>\n",
       "      <td>2011-01-01 02:00:00</td>\n",
       "      <td>1</td>\n",
       "      <td>0</td>\n",
       "      <td>0</td>\n",
       "      <td>1</td>\n",
       "      <td>9.02000</td>\n",
       "      <td>13.63500</td>\n",
       "      <td>80</td>\n",
       "      <td>0.00000</td>\n",
       "      <td>5</td>\n",
       "      <td>27</td>\n",
       "      <td>32</td>\n",
       "    </tr>\n",
       "    <tr>\n",
       "      <th>3</th>\n",
       "      <td>2011-01-01 03:00:00</td>\n",
       "      <td>1</td>\n",
       "      <td>0</td>\n",
       "      <td>0</td>\n",
       "      <td>1</td>\n",
       "      <td>9.84000</td>\n",
       "      <td>14.39500</td>\n",
       "      <td>75</td>\n",
       "      <td>0.00000</td>\n",
       "      <td>3</td>\n",
       "      <td>10</td>\n",
       "      <td>13</td>\n",
       "    </tr>\n",
       "    <tr>\n",
       "      <th>4</th>\n",
       "      <td>2011-01-01 04:00:00</td>\n",
       "      <td>1</td>\n",
       "      <td>0</td>\n",
       "      <td>0</td>\n",
       "      <td>1</td>\n",
       "      <td>9.84000</td>\n",
       "      <td>14.39500</td>\n",
       "      <td>75</td>\n",
       "      <td>0.00000</td>\n",
       "      <td>0</td>\n",
       "      <td>1</td>\n",
       "      <td>1</td>\n",
       "    </tr>\n",
       "  </tbody>\n",
       "</table>\n",
       "</div>"
      ],
      "text/plain": [
       "             datetime  season  holiday  workingday  weather    temp    atemp  \\\n",
       "0 2011-01-01 00:00:00       1        0           0        1 9.84000 14.39500   \n",
       "1 2011-01-01 01:00:00       1        0           0        1 9.02000 13.63500   \n",
       "2 2011-01-01 02:00:00       1        0           0        1 9.02000 13.63500   \n",
       "3 2011-01-01 03:00:00       1        0           0        1 9.84000 14.39500   \n",
       "4 2011-01-01 04:00:00       1        0           0        1 9.84000 14.39500   \n",
       "\n",
       "   humidity  windspeed  casual  registered  count  \n",
       "0        81    0.00000       3          13     16  \n",
       "1        80    0.00000       8          32     40  \n",
       "2        80    0.00000       5          27     32  \n",
       "3        75    0.00000       3          10     13  \n",
       "4        75    0.00000       0           1      1  "
      ]
     },
     "execution_count": 20,
     "metadata": {},
     "output_type": "execute_result"
    }
   ],
   "source": [
    "train = pd.read_csv(\"bike_train.csv\", parse_dates=[\"datetime\"])\n",
    "\n",
    "print(train.shape)\n",
    "train.head()"
   ]
  },
  {
   "cell_type": "markdown",
   "metadata": {},
   "source": [
    "**test**"
   ]
  },
  {
   "cell_type": "code",
   "execution_count": 21,
   "metadata": {},
   "outputs": [
    {
     "name": "stdout",
     "output_type": "stream",
     "text": [
      "(6493, 9)\n"
     ]
    },
    {
     "data": {
      "text/html": [
       "<div>\n",
       "<style scoped>\n",
       "    .dataframe tbody tr th:only-of-type {\n",
       "        vertical-align: middle;\n",
       "    }\n",
       "\n",
       "    .dataframe tbody tr th {\n",
       "        vertical-align: top;\n",
       "    }\n",
       "\n",
       "    .dataframe thead th {\n",
       "        text-align: right;\n",
       "    }\n",
       "</style>\n",
       "<table border=\"1\" class=\"dataframe\">\n",
       "  <thead>\n",
       "    <tr style=\"text-align: right;\">\n",
       "      <th></th>\n",
       "      <th>datetime</th>\n",
       "      <th>season</th>\n",
       "      <th>holiday</th>\n",
       "      <th>workingday</th>\n",
       "      <th>weather</th>\n",
       "      <th>temp</th>\n",
       "      <th>atemp</th>\n",
       "      <th>humidity</th>\n",
       "      <th>windspeed</th>\n",
       "    </tr>\n",
       "  </thead>\n",
       "  <tbody>\n",
       "    <tr>\n",
       "      <th>0</th>\n",
       "      <td>2011-01-20 00:00:00</td>\n",
       "      <td>1</td>\n",
       "      <td>0</td>\n",
       "      <td>1</td>\n",
       "      <td>1</td>\n",
       "      <td>10.66000</td>\n",
       "      <td>11.36500</td>\n",
       "      <td>56</td>\n",
       "      <td>26.00270</td>\n",
       "    </tr>\n",
       "    <tr>\n",
       "      <th>1</th>\n",
       "      <td>2011-01-20 01:00:00</td>\n",
       "      <td>1</td>\n",
       "      <td>0</td>\n",
       "      <td>1</td>\n",
       "      <td>1</td>\n",
       "      <td>10.66000</td>\n",
       "      <td>13.63500</td>\n",
       "      <td>56</td>\n",
       "      <td>0.00000</td>\n",
       "    </tr>\n",
       "    <tr>\n",
       "      <th>2</th>\n",
       "      <td>2011-01-20 02:00:00</td>\n",
       "      <td>1</td>\n",
       "      <td>0</td>\n",
       "      <td>1</td>\n",
       "      <td>1</td>\n",
       "      <td>10.66000</td>\n",
       "      <td>13.63500</td>\n",
       "      <td>56</td>\n",
       "      <td>0.00000</td>\n",
       "    </tr>\n",
       "    <tr>\n",
       "      <th>3</th>\n",
       "      <td>2011-01-20 03:00:00</td>\n",
       "      <td>1</td>\n",
       "      <td>0</td>\n",
       "      <td>1</td>\n",
       "      <td>1</td>\n",
       "      <td>10.66000</td>\n",
       "      <td>12.88000</td>\n",
       "      <td>56</td>\n",
       "      <td>11.00140</td>\n",
       "    </tr>\n",
       "    <tr>\n",
       "      <th>4</th>\n",
       "      <td>2011-01-20 04:00:00</td>\n",
       "      <td>1</td>\n",
       "      <td>0</td>\n",
       "      <td>1</td>\n",
       "      <td>1</td>\n",
       "      <td>10.66000</td>\n",
       "      <td>12.88000</td>\n",
       "      <td>56</td>\n",
       "      <td>11.00140</td>\n",
       "    </tr>\n",
       "  </tbody>\n",
       "</table>\n",
       "</div>"
      ],
      "text/plain": [
       "             datetime  season  holiday  workingday  weather     temp    atemp  \\\n",
       "0 2011-01-20 00:00:00       1        0           1        1 10.66000 11.36500   \n",
       "1 2011-01-20 01:00:00       1        0           1        1 10.66000 13.63500   \n",
       "2 2011-01-20 02:00:00       1        0           1        1 10.66000 13.63500   \n",
       "3 2011-01-20 03:00:00       1        0           1        1 10.66000 12.88000   \n",
       "4 2011-01-20 04:00:00       1        0           1        1 10.66000 12.88000   \n",
       "\n",
       "   humidity  windspeed  \n",
       "0        56   26.00270  \n",
       "1        56    0.00000  \n",
       "2        56    0.00000  \n",
       "3        56   11.00140  \n",
       "4        56   11.00140  "
      ]
     },
     "execution_count": 21,
     "metadata": {},
     "output_type": "execute_result"
    }
   ],
   "source": [
    "test = pd.read_csv(\"bike_test.csv\", parse_dates=[\"datetime\"])\n",
    "\n",
    "print(test.shape)\n",
    "test.head()"
   ]
  },
  {
   "cell_type": "markdown",
   "metadata": {},
   "source": [
    "# 1. EDA & Data Processing"
   ]
  },
  {
   "cell_type": "code",
   "execution_count": 22,
   "metadata": {},
   "outputs": [
    {
     "name": "stdout",
     "output_type": "stream",
     "text": [
      "<class 'pandas.core.frame.DataFrame'>\n",
      "RangeIndex: 10886 entries, 0 to 10885\n",
      "Data columns (total 12 columns):\n",
      " #   Column      Non-Null Count  Dtype         \n",
      "---  ------      --------------  -----         \n",
      " 0   datetime    10886 non-null  datetime64[ns]\n",
      " 1   season      10886 non-null  int64         \n",
      " 2   holiday     10886 non-null  int64         \n",
      " 3   workingday  10886 non-null  int64         \n",
      " 4   weather     10886 non-null  int64         \n",
      " 5   temp        10886 non-null  float64       \n",
      " 6   atemp       10886 non-null  float64       \n",
      " 7   humidity    10886 non-null  int64         \n",
      " 8   windspeed   10886 non-null  float64       \n",
      " 9   casual      10886 non-null  int64         \n",
      " 10  registered  10886 non-null  int64         \n",
      " 11  count       10886 non-null  int64         \n",
      "dtypes: datetime64[ns](1), float64(3), int64(8)\n",
      "memory usage: 1020.7 KB\n"
     ]
    }
   ],
   "source": [
    "train.info()"
   ]
  },
  {
   "cell_type": "code",
   "execution_count": 23,
   "metadata": {},
   "outputs": [
    {
     "name": "stdout",
     "output_type": "stream",
     "text": [
      "<class 'pandas.core.frame.DataFrame'>\n",
      "RangeIndex: 6493 entries, 0 to 6492\n",
      "Data columns (total 9 columns):\n",
      " #   Column      Non-Null Count  Dtype         \n",
      "---  ------      --------------  -----         \n",
      " 0   datetime    6493 non-null   datetime64[ns]\n",
      " 1   season      6493 non-null   int64         \n",
      " 2   holiday     6493 non-null   int64         \n",
      " 3   workingday  6493 non-null   int64         \n",
      " 4   weather     6493 non-null   int64         \n",
      " 5   temp        6493 non-null   float64       \n",
      " 6   atemp       6493 non-null   float64       \n",
      " 7   humidity    6493 non-null   int64         \n",
      " 8   windspeed   6493 non-null   float64       \n",
      "dtypes: datetime64[ns](1), float64(3), int64(5)\n",
      "memory usage: 456.7 KB\n"
     ]
    }
   ],
   "source": [
    "test.info()"
   ]
  },
  {
   "cell_type": "markdown",
   "metadata": {},
   "source": [
    "**결과**\n",
    "* train데이터 총 10886개 중 10886개 모두 non-null이다.\n",
    "* test데이터 총 6493개 중 6493개 모두 non-null이다."
   ]
  },
  {
   "cell_type": "code",
   "execution_count": 24,
   "metadata": {},
   "outputs": [
    {
     "data": {
      "text/plain": [
       "<matplotlib.axes._subplots.AxesSubplot at 0x7ffa32232e90>"
      ]
     },
     "execution_count": 24,
     "metadata": {},
     "output_type": "execute_result"
    },
    {
     "data": {
      "image/png": "[encoded data removed]",
      "text/plain": [
       "<Figure size 1152x720 with 2 Axes>"
      ]
     },
     "metadata": {
      "needs_background": "light"
     },
     "output_type": "display_data"
    }
   ],
   "source": [
    "plt.figure(figsize=(16,10))\n",
    "sns.heatmap(train.corr(), annot=True)"
   ]
  },
  {
   "cell_type": "markdown",
   "metadata": {},
   "source": [
    "### 1. datetime"
   ]
  },
  {
   "cell_type": "code",
   "execution_count": 25,
   "metadata": {},
   "outputs": [
    {
     "data": {
      "text/plain": [
       "0       2011-01-01 00:00:00\n",
       "1       2011-01-01 01:00:00\n",
       "2       2011-01-01 02:00:00\n",
       "3       2011-01-01 03:00:00\n",
       "4       2011-01-01 04:00:00\n",
       "                ...        \n",
       "10881   2012-12-19 19:00:00\n",
       "10882   2012-12-19 20:00:00\n",
       "10883   2012-12-19 21:00:00\n",
       "10884   2012-12-19 22:00:00\n",
       "10885   2012-12-19 23:00:00\n",
       "Name: datetime, Length: 10886, dtype: datetime64[ns]"
      ]
     },
     "execution_count": 25,
     "metadata": {},
     "output_type": "execute_result"
    }
   ],
   "source": [
    "train['datetime']"
   ]
  },
  {
   "cell_type": "markdown",
   "metadata": {},
   "source": [
    "* 2011년 1월 1일 12시부터 2012년 12월 19일 23시까지 한시간 간격으로 표현되는 것으로 보인다."
   ]
  },
  {
   "cell_type": "code",
   "execution_count": 26,
   "metadata": {},
   "outputs": [
    {
     "name": "stdout",
     "output_type": "stream",
     "text": [
      "(10886, 18)\n"
     ]
    },
    {
     "data": {
      "text/html": [
       "<div>\n",
       "<style scoped>\n",
       "    .dataframe tbody tr th:only-of-type {\n",
       "        vertical-align: middle;\n",
       "    }\n",
       "\n",
       "    .dataframe tbody tr th {\n",
       "        vertical-align: top;\n",
       "    }\n",
       "\n",
       "    .dataframe thead th {\n",
       "        text-align: right;\n",
       "    }\n",
       "</style>\n",
       "<table border=\"1\" class=\"dataframe\">\n",
       "  <thead>\n",
       "    <tr style=\"text-align: right;\">\n",
       "      <th></th>\n",
       "      <th>datetime</th>\n",
       "      <th>datetime-year</th>\n",
       "      <th>datetime-month</th>\n",
       "      <th>datetime-day</th>\n",
       "      <th>datetime-hour</th>\n",
       "      <th>datetime-dayofweek</th>\n",
       "      <th>datetime-year-month</th>\n",
       "    </tr>\n",
       "  </thead>\n",
       "  <tbody>\n",
       "    <tr>\n",
       "      <th>0</th>\n",
       "      <td>2011-01-01 00:00:00</td>\n",
       "      <td>2011</td>\n",
       "      <td>1</td>\n",
       "      <td>1</td>\n",
       "      <td>0</td>\n",
       "      <td>5</td>\n",
       "      <td>2011-01</td>\n",
       "    </tr>\n",
       "    <tr>\n",
       "      <th>1</th>\n",
       "      <td>2011-01-01 01:00:00</td>\n",
       "      <td>2011</td>\n",
       "      <td>1</td>\n",
       "      <td>1</td>\n",
       "      <td>1</td>\n",
       "      <td>5</td>\n",
       "      <td>2011-01</td>\n",
       "    </tr>\n",
       "    <tr>\n",
       "      <th>2</th>\n",
       "      <td>2011-01-01 02:00:00</td>\n",
       "      <td>2011</td>\n",
       "      <td>1</td>\n",
       "      <td>1</td>\n",
       "      <td>2</td>\n",
       "      <td>5</td>\n",
       "      <td>2011-01</td>\n",
       "    </tr>\n",
       "    <tr>\n",
       "      <th>3</th>\n",
       "      <td>2011-01-01 03:00:00</td>\n",
       "      <td>2011</td>\n",
       "      <td>1</td>\n",
       "      <td>1</td>\n",
       "      <td>3</td>\n",
       "      <td>5</td>\n",
       "      <td>2011-01</td>\n",
       "    </tr>\n",
       "    <tr>\n",
       "      <th>4</th>\n",
       "      <td>2011-01-01 04:00:00</td>\n",
       "      <td>2011</td>\n",
       "      <td>1</td>\n",
       "      <td>1</td>\n",
       "      <td>4</td>\n",
       "      <td>5</td>\n",
       "      <td>2011-01</td>\n",
       "    </tr>\n",
       "  </tbody>\n",
       "</table>\n",
       "</div>"
      ],
      "text/plain": [
       "             datetime  datetime-year  datetime-month  datetime-day  \\\n",
       "0 2011-01-01 00:00:00           2011               1             1   \n",
       "1 2011-01-01 01:00:00           2011               1             1   \n",
       "2 2011-01-01 02:00:00           2011               1             1   \n",
       "3 2011-01-01 03:00:00           2011               1             1   \n",
       "4 2011-01-01 04:00:00           2011               1             1   \n",
       "\n",
       "   datetime-hour  datetime-dayofweek datetime-year-month  \n",
       "0              0                   5             2011-01  \n",
       "1              1                   5             2011-01  \n",
       "2              2                   5             2011-01  \n",
       "3              3                   5             2011-01  \n",
       "4              4                   5             2011-01  "
      ]
     },
     "execution_count": 26,
     "metadata": {},
     "output_type": "execute_result"
    }
   ],
   "source": [
    "train[\"datetime-year\"] = train[\"datetime\"].dt.year\n",
    "train[\"datetime-month\"] = train[\"datetime\"].dt.month\n",
    "train[\"datetime-day\"] = train[\"datetime\"].dt.day\n",
    "train[\"datetime-hour\"] = train[\"datetime\"].dt.hour\n",
    "train[\"datetime-dayofweek\"] = train[\"datetime\"].dt.dayofweek\n",
    "train[\"datetime-year-month\"] = train[\"datetime\"].dt.strftime(\"%Y-%m\")\n",
    "\n",
    "print(train.shape)\n",
    "train[[\"datetime\", \n",
    "       \"datetime-year\", \"datetime-month\", \"datetime-day\", \"datetime-hour\", \n",
    "       \"datetime-dayofweek\", \"datetime-year-month\"]].head()"
   ]
  },
  {
   "cell_type": "markdown",
   "metadata": {},
   "source": [
    "* year, month, day, hour, dayofweek를 각각 뽑아내어 분석한다.\n",
    "* year-month 칼럼을 생성해준다."
   ]
  },
  {
   "cell_type": "code",
   "execution_count": 27,
   "metadata": {},
   "outputs": [
    {
     "name": "stdout",
     "output_type": "stream",
     "text": [
      "(6493, 15)\n"
     ]
    },
    {
     "data": {
      "text/html": [
       "<div>\n",
       "<style scoped>\n",
       "    .dataframe tbody tr th:only-of-type {\n",
       "        vertical-align: middle;\n",
       "    }\n",
       "\n",
       "    .dataframe tbody tr th {\n",
       "        vertical-align: top;\n",
       "    }\n",
       "\n",
       "    .dataframe thead th {\n",
       "        text-align: right;\n",
       "    }\n",
       "</style>\n",
       "<table border=\"1\" class=\"dataframe\">\n",
       "  <thead>\n",
       "    <tr style=\"text-align: right;\">\n",
       "      <th></th>\n",
       "      <th>datetime</th>\n",
       "      <th>datetime-year</th>\n",
       "      <th>datetime-month</th>\n",
       "      <th>datetime-day</th>\n",
       "      <th>datetime-hour</th>\n",
       "      <th>datetime-dayofweek</th>\n",
       "      <th>datetime-year-month</th>\n",
       "    </tr>\n",
       "  </thead>\n",
       "  <tbody>\n",
       "    <tr>\n",
       "      <th>0</th>\n",
       "      <td>2011-01-20 00:00:00</td>\n",
       "      <td>2011</td>\n",
       "      <td>1</td>\n",
       "      <td>20</td>\n",
       "      <td>0</td>\n",
       "      <td>3</td>\n",
       "      <td>2011-01</td>\n",
       "    </tr>\n",
       "    <tr>\n",
       "      <th>1</th>\n",
       "      <td>2011-01-20 01:00:00</td>\n",
       "      <td>2011</td>\n",
       "      <td>1</td>\n",
       "      <td>20</td>\n",
       "      <td>1</td>\n",
       "      <td>3</td>\n",
       "      <td>2011-01</td>\n",
       "    </tr>\n",
       "    <tr>\n",
       "      <th>2</th>\n",
       "      <td>2011-01-20 02:00:00</td>\n",
       "      <td>2011</td>\n",
       "      <td>1</td>\n",
       "      <td>20</td>\n",
       "      <td>2</td>\n",
       "      <td>3</td>\n",
       "      <td>2011-01</td>\n",
       "    </tr>\n",
       "    <tr>\n",
       "      <th>3</th>\n",
       "      <td>2011-01-20 03:00:00</td>\n",
       "      <td>2011</td>\n",
       "      <td>1</td>\n",
       "      <td>20</td>\n",
       "      <td>3</td>\n",
       "      <td>3</td>\n",
       "      <td>2011-01</td>\n",
       "    </tr>\n",
       "    <tr>\n",
       "      <th>4</th>\n",
       "      <td>2011-01-20 04:00:00</td>\n",
       "      <td>2011</td>\n",
       "      <td>1</td>\n",
       "      <td>20</td>\n",
       "      <td>4</td>\n",
       "      <td>3</td>\n",
       "      <td>2011-01</td>\n",
       "    </tr>\n",
       "  </tbody>\n",
       "</table>\n",
       "</div>"
      ],
      "text/plain": [
       "             datetime  datetime-year  datetime-month  datetime-day  \\\n",
       "0 2011-01-20 00:00:00           2011               1            20   \n",
       "1 2011-01-20 01:00:00           2011               1            20   \n",
       "2 2011-01-20 02:00:00           2011               1            20   \n",
       "3 2011-01-20 03:00:00           2011               1            20   \n",
       "4 2011-01-20 04:00:00           2011               1            20   \n",
       "\n",
       "   datetime-hour  datetime-dayofweek datetime-year-month  \n",
       "0              0                   3             2011-01  \n",
       "1              1                   3             2011-01  \n",
       "2              2                   3             2011-01  \n",
       "3              3                   3             2011-01  \n",
       "4              4                   3             2011-01  "
      ]
     },
     "execution_count": 27,
     "metadata": {},
     "output_type": "execute_result"
    }
   ],
   "source": [
    "test[\"datetime-year\"] = test[\"datetime\"].dt.year\n",
    "test[\"datetime-month\"] = test[\"datetime\"].dt.month\n",
    "test[\"datetime-day\"] = test[\"datetime\"].dt.day\n",
    "test[\"datetime-hour\"] = test[\"datetime\"].dt.hour\n",
    "test[\"datetime-dayofweek\"] = test[\"datetime\"].dt.dayofweek\n",
    "test[\"datetime-year-month\"] = test[\"datetime\"].dt.strftime(\"%Y-%m\")\n",
    "\n",
    "print(test.shape)\n",
    "test[[\"datetime\", \n",
    "       \"datetime-year\", \"datetime-month\", \"datetime-day\", \"datetime-hour\", \n",
    "       \"datetime-dayofweek\", \"datetime-year-month\"]].head()"
   ]
  },
  {
   "cell_type": "code",
   "execution_count": 28,
   "metadata": {},
   "outputs": [
    {
     "data": {
      "text/plain": [
       "<matplotlib.axes._subplots.AxesSubplot at 0x7ffa339f7a90>"
      ]
     },
     "execution_count": 28,
     "metadata": {},
     "output_type": "execute_result"
    },
    {
     "data": {
      "image/png": "[encoded data removed]",
      "text/plain": [
       "<Figure size 1296x576 with 4 Axes>"
      ]
     },
     "metadata": {
      "needs_background": "light"
     },
     "output_type": "display_data"
    }
   ],
   "source": [
    "figure, ((ax1, ax2), (ax3, ax4)) = plt.subplots(nrows=2, ncols=2)\n",
    "\n",
    "figure.set_size_inches(18, 8)\n",
    "\n",
    "sns.pointplot(data=train, x=\"datetime-year\", y=\"count\", ax=ax1)\n",
    "sns.pointplot(data=train, x=\"datetime-month\", y=\"count\", ax=ax2)\n",
    "sns.pointplot(data=train, x=\"datetime-day\", y=\"count\", ax=ax3)\n",
    "sns.pointplot(data=train, x=\"datetime-hour\", y=\"count\", ax=ax4)"
   ]
  },
  {
   "cell_type": "markdown",
   "metadata": {},
   "source": [
    "* year를 보았을 때 2011년도 보다 2012년에 대여량이 많은 것으로 보인다.\n",
    "* month를 보았을 때 대체로 여름에 겨울보다 대여량이 많은 것으로 보인다.\n",
    "* hout칼럼을 확인했을 때 주로 출퇴근으로 짐작되는 시간에 대여량이 많은 것으로 보인다."
   ]
  },
  {
   "cell_type": "code",
   "execution_count": 29,
   "metadata": {},
   "outputs": [
    {
     "data": {
      "text/plain": [
       "<matplotlib.axes._subplots.AxesSubplot at 0x7ffa33fc74d0>"
      ]
     },
     "execution_count": 29,
     "metadata": {},
     "output_type": "execute_result"
    },
    {
     "data": {
      "image/png": "[encoded data removed]",
      "text/plain": [
       "<Figure size 1152x432 with 1 Axes>"
      ]
     },
     "metadata": {
      "needs_background": "light"
     },
     "output_type": "display_data"
    }
   ],
   "source": [
    "plt.figure(figsize=(16, 6))\n",
    "sns.pointplot(data=train, x=\"datetime-year-month\", y=\"count\")"
   ]
  },
  {
   "cell_type": "markdown",
   "metadata": {},
   "source": [
    "* 2012년으로 가면서 대여량이 늘어났으나 계절의 영향을 받고 있다."
   ]
  },
  {
   "cell_type": "markdown",
   "metadata": {},
   "source": [
    "**year, month**"
   ]
  },
  {
   "cell_type": "code",
   "execution_count": 30,
   "metadata": {},
   "outputs": [
    {
     "data": {
      "text/plain": [
       "<matplotlib.axes._subplots.AxesSubplot at 0x7ffa32281b90>"
      ]
     },
     "execution_count": 30,
     "metadata": {},
     "output_type": "execute_result"
    },
    {
     "data": {
      "image/png": "[encoded data removed]",
      "text/plain": [
       "<Figure size 1152x432 with 1 Axes>"
      ]
     },
     "metadata": {
      "needs_background": "light"
     },
     "output_type": "display_data"
    }
   ],
   "source": [
    "plt.figure(figsize=(16, 6))\n",
    "sns.pointplot(data=train, x=\"datetime-year-month\", y=\"registered\", color=\"#bb3f3f\")\n",
    "sns.pointplot(data=train, x=\"datetime-year-month\", y=\"casual\", color = 'green')\n",
    "sns.pointplot(data=train, x=\"datetime-year-month\", y=\"count\")"
   ]
  },
  {
   "cell_type": "markdown",
   "metadata": {},
   "source": [
    "* registered가 casual보다 많으며 월별로 띄는 형태는 비슷한 것으로 보인다.\n",
    "* 2011-1 ~ 2011-4, 2011-5 ~ 2011-11, 2011-12 ~ 2012-2, 2012-03 ~ 2012-02로 범주화 할 수 있을 것으로 보인다."
   ]
  },
  {
   "cell_type": "code",
   "execution_count": 31,
   "metadata": {},
   "outputs": [],
   "source": [
    "year_month = train['datetime-year-month'].unique()\n",
    "train['year_month1'] = train['datetime-year-month'].isin(year_month[0:4])\n",
    "train['year_month2'] = train['datetime-year-month'].isin(year_month[4:11])\n",
    "train['year_month3'] = train['datetime-year-month'].isin(year_month[11:14])\n",
    "train['year_month4'] = train['datetime-year-month'].isin(year_month[14:])"
   ]
  },
  {
   "cell_type": "code",
   "execution_count": 32,
   "metadata": {},
   "outputs": [],
   "source": [
    "test['year_month1'] = test['datetime-year-month'].isin(year_month[0:4])\n",
    "test['year_month2'] = test['datetime-year-month'].isin(year_month[4:11])\n",
    "test['year_month3'] = test['datetime-year-month'].isin(year_month[11:14])\n",
    "test['year_month4'] = test['datetime-year-month'].isin(year_month[14:])"
   ]
  },
  {
   "cell_type": "markdown",
   "metadata": {},
   "source": [
    "**hour**"
   ]
  },
  {
   "cell_type": "code",
   "execution_count": 33,
   "metadata": {},
   "outputs": [
    {
     "data": {
      "text/plain": [
       "<matplotlib.axes._subplots.AxesSubplot at 0x7ffa343b1290>"
      ]
     },
     "execution_count": 33,
     "metadata": {},
     "output_type": "execute_result"
    },
    {
     "data": {
      "image/png": "[encoded data removed]",
      "text/plain": [
       "<Figure size 1152x432 with 1 Axes>"
      ]
     },
     "metadata": {
      "needs_background": "light"
     },
     "output_type": "display_data"
    }
   ],
   "source": [
    "plt.figure(figsize=(16, 6))\n",
    "sns.pointplot(data=train, x=\"datetime-hour\", y=\"registered\", color=\"#bb3f3f\")\n",
    "sns.pointplot(data=train, x=\"datetime-hour\", y=\"casual\", color = 'green')"
   ]
  },
  {
   "cell_type": "markdown",
   "metadata": {},
   "source": [
    "* 출퇴근, 활동시간, 새벽시간으로 나누면 좋을 것 같다.\n",
    "* 23시 ~ 6시\n",
    "* 7, 8, 16~19시\n",
    "* 9 ~ 15시, 20 ~ 22시 "
   ]
  },
  {
   "cell_type": "code",
   "execution_count": 34,
   "metadata": {},
   "outputs": [],
   "source": [
    "train['hour1'] = train['datetime-hour'].isin([23, 0, 1, 2, 3 , 4, 5, 6])\n",
    "train['hour2'] = train['datetime-hour'].isin([9, 10, 11, 12, 13, 14, 15, 20, 21, 22])\n",
    "train['hour3'] = train['datetime-hour'].isin([7, 8, 16, 17, 18, 19])"
   ]
  },
  {
   "cell_type": "code",
   "execution_count": 35,
   "metadata": {},
   "outputs": [],
   "source": [
    "test['hour1'] = test['datetime-hour'].isin([23, 0, 1, 2, 3 , 4, 5, 6])\n",
    "test['hour2'] = test['datetime-hour'].isin([9, 10, 11, 12, 13, 14, 15, 20, 21, 22])\n",
    "test['hour3'] = test['datetime-hour'].isin([7, 8, 16, 17, 18, 19])"
   ]
  },
  {
   "cell_type": "markdown",
   "metadata": {},
   "source": [
    "### Season"
   ]
  },
  {
   "cell_type": "code",
   "execution_count": 36,
   "metadata": {},
   "outputs": [
    {
     "data": {
      "text/plain": [
       "<matplotlib.axes._subplots.AxesSubplot at 0x7ffa3486ead0>"
      ]
     },
     "execution_count": 36,
     "metadata": {},
     "output_type": "execute_result"
    },
    {
     "data": {
      "image/png": "[encoded data removed]",
      "text/plain": [
       "<Figure size 720x288 with 1 Axes>"
      ]
     },
     "metadata": {
      "needs_background": "light"
     },
     "output_type": "display_data"
    }
   ],
   "source": [
    "plt.figure(figsize=(10, 4))\n",
    "sns.pointplot(data=train, x=\"season\", y=\"count\", color=\"#bb3f3f\")"
   ]
  },
  {
   "cell_type": "markdown",
   "metadata": {},
   "source": [
    "* 겨울을 제외하고는 대여량이 높다."
   ]
  },
  {
   "cell_type": "code",
   "execution_count": 37,
   "metadata": {},
   "outputs": [
    {
     "name": "stdout",
     "output_type": "stream",
     "text": [
      "[1 2 3]\n",
      "[4 5 6]\n",
      "[7 8 9]\n",
      "[10 11 12]\n"
     ]
    }
   ],
   "source": [
    "print(train.loc[train['season']==1, 'datetime-month'].unique())\n",
    "print(train.loc[train['season']==2, 'datetime-month'].unique())\n",
    "print(train.loc[train['season']==3, 'datetime-month'].unique())\n",
    "print(train.loc[train['season']==4, 'datetime-month'].unique())"
   ]
  },
  {
   "cell_type": "markdown",
   "metadata": {},
   "source": [
    "* 계절 기준이 약간 모호해보인다."
   ]
  },
  {
   "cell_type": "markdown",
   "metadata": {},
   "source": [
    "### holiday, workingday"
   ]
  },
  {
   "cell_type": "code",
   "execution_count": 38,
   "metadata": {},
   "outputs": [
    {
     "data": {
      "text/plain": [
       "<matplotlib.axes._subplots.AxesSubplot at 0x7ffa34a28e90>"
      ]
     },
     "execution_count": 38,
     "metadata": {},
     "output_type": "execute_result"
    },
    {
     "data": {
      "image/png": "[encoded data removed]",
      "text/plain": [
       "<Figure size 864x288 with 1 Axes>"
      ]
     },
     "metadata": {
      "needs_background": "light"
     },
     "output_type": "display_data"
    }
   ],
   "source": [
    "plt.figure(figsize=(12, 4))\n",
    "sns.pointplot(data=train, x=\"holiday\", y=\"registered\", color=\"#bb3f3f\")\n",
    "sns.pointplot(data=train, x=\"holiday\", y=\"casual\", color = 'green')\n",
    "sns.pointplot(data=train, x=\"holiday\", y=\"count\")"
   ]
  },
  {
   "cell_type": "code",
   "execution_count": 39,
   "metadata": {},
   "outputs": [
    {
     "data": {
      "text/plain": [
       "<matplotlib.axes._subplots.AxesSubplot at 0x7ffa34d12c10>"
      ]
     },
     "execution_count": 39,
     "metadata": {},
     "output_type": "execute_result"
    },
    {
     "data": {
      "image/png": "[encoded data removed]",
      "text/plain": [
       "<Figure size 864x288 with 1 Axes>"
      ]
     },
     "metadata": {
      "needs_background": "light"
     },
     "output_type": "display_data"
    }
   ],
   "source": [
    "plt.figure(figsize=(12, 4))\n",
    "sns.pointplot(data=train, x=\"workingday\", y=\"registered\", color=\"#bb3f3f\")\n",
    "sns.pointplot(data=train, x=\"workingday\", y=\"casual\", color = 'green')\n",
    "sns.pointplot(data=train, x=\"workingday\", y=\"count\")"
   ]
  },
  {
   "cell_type": "code",
   "execution_count": 40,
   "metadata": {},
   "outputs": [],
   "source": [
    "train['h-w'] = train['holiday'].astype('str') + train['workingday'].astype('str')\n",
    "test['h-w'] = test['holiday'].astype('str') + test['workingday'].astype('str')"
   ]
  },
  {
   "cell_type": "code",
   "execution_count": 41,
   "metadata": {},
   "outputs": [
    {
     "data": {
      "text/plain": [
       "<matplotlib.axes._subplots.AxesSubplot at 0x7ffa34b00f90>"
      ]
     },
     "execution_count": 41,
     "metadata": {},
     "output_type": "execute_result"
    },
    {
     "data": {
      "image/png": "[encoded data removed]",
      "text/plain": [
       "<Figure size 864x432 with 1 Axes>"
      ]
     },
     "metadata": {
      "needs_background": "light"
     },
     "output_type": "display_data"
    }
   ],
   "source": [
    "plt.figure(figsize=(12, 6))\n",
    "sns.pointplot(data=train, x=\"h-w\", y=\"registered\", color=\"#bb3f3f\")\n",
    "sns.pointplot(data=train, x=\"h-w\", y=\"casual\", color = 'green')\n",
    "sns.pointplot(data=train, x=\"h-w\", y=\"count\")"
   ]
  },
  {
   "cell_type": "markdown",
   "metadata": {},
   "source": [
    "* holiday, workingday 정보를 합쳤을 때 가장 count변화가 있는 것으로 보인다."
   ]
  },
  {
   "cell_type": "code",
   "execution_count": 42,
   "metadata": {},
   "outputs": [],
   "source": [
    "train['h_w1'] = train['h-w'] == '00'\n",
    "train['h_w2'] = train['h-w'] == '10'\n",
    "train['h_w3'] = train['h-w'] == '01'"
   ]
  },
  {
   "cell_type": "code",
   "execution_count": 43,
   "metadata": {},
   "outputs": [],
   "source": [
    "test['h_w1'] = test['h-w'] == '00'\n",
    "test['h_w2'] = test['h-w'] == '10'\n",
    "test['h_w3'] = test['h-w'] == '01'"
   ]
  },
  {
   "cell_type": "markdown",
   "metadata": {},
   "source": [
    "# weather"
   ]
  },
  {
   "cell_type": "code",
   "execution_count": 44,
   "metadata": {},
   "outputs": [
    {
     "data": {
      "text/plain": [
       "<matplotlib.axes._subplots.AxesSubplot at 0x7ffa34da4ad0>"
      ]
     },
     "execution_count": 44,
     "metadata": {},
     "output_type": "execute_result"
    },
    {
     "data": {
      "image/png": "[encoded data removed]",
      "text/plain": [
       "<Figure size 864x432 with 1 Axes>"
      ]
     },
     "metadata": {
      "needs_background": "light"
     },
     "output_type": "display_data"
    }
   ],
   "source": [
    "plt.figure(figsize=(12, 6))\n",
    "sns.pointplot(data=train, x=\"weather\", y=\"registered\", color=\"#bb3f3f\")\n",
    "sns.pointplot(data=train, x=\"weather\", y=\"casual\", color = 'green')\n",
    "sns.pointplot(data=train, x=\"weather\", y=\"count\")"
   ]
  },
  {
   "cell_type": "markdown",
   "metadata": {},
   "source": [
    "* weather가 가장 안좋은 날(4) 대여량이 꽤 있다.."
   ]
  },
  {
   "cell_type": "code",
   "execution_count": 45,
   "metadata": {},
   "outputs": [
    {
     "data": {
      "text/plain": [
       "<matplotlib.axes._subplots.AxesSubplot at 0x7ffa34eaa210>"
      ]
     },
     "execution_count": 45,
     "metadata": {},
     "output_type": "execute_result"
    },
    {
     "data": {
      "image/png": "[encoded data removed]",
      "text/plain": [
       "<Figure size 1152x432 with 1 Axes>"
      ]
     },
     "metadata": {
      "needs_background": "light"
     },
     "output_type": "display_data"
    }
   ],
   "source": [
    "plt.figure(figsize=(16, 6))\n",
    "sns.pointplot(data=train, x=\"temp\", y=\"registered\", color=\"#bb3f3f\")\n",
    "sns.pointplot(data=train, x=\"temp\", y=\"casual\", color = 'green')\n",
    "sns.pointplot(data=train, x=\"temp\", y=\"count\")"
   ]
  },
  {
   "cell_type": "markdown",
   "metadata": {},
   "source": [
    "* 날씨가 따뜻할 수록 대여량이 많은 것으로 보인다."
   ]
  },
  {
   "cell_type": "markdown",
   "metadata": {
    "collapsed": true
   },
   "source": [
    "# 2. Regression Modeling "
   ]
  },
  {
   "cell_type": "markdown",
   "metadata": {},
   "source": [
    "## configuration"
   ]
  },
  {
   "cell_type": "code",
   "execution_count": 46,
   "metadata": {},
   "outputs": [],
   "source": [
    "# sklearn \n",
    "from sklearn.linear_model import LinearRegression\n",
    "from sklearn.tree import DecisionTreeRegressor\n",
    "#from sklearn.naive_bayes import GaussianNB\n",
    "from sklearn.neighbors import KNeighborsRegressor\n",
    "from sklearn.svm import SVR\n",
    "from sklearn.ensemble import RandomForestRegressor, GradientBoostingRegressor\n",
    "import xgboost as xgb\n",
    "import lightgbm as lgb\n",
    "\n",
    "from sklearn.pipeline import make_pipeline\n",
    "from sklearn.preprocessing import RobustScaler\n",
    "from sklearn.base import BaseEstimator, TransformerMixin, RegressorMixin, clone\n",
    "from sklearn.model_selection import KFold, cross_val_score, train_test_split\n",
    "from sklearn.metrics import mean_squared_error\n",
    "from sklearn.metrics import accuracy_score"
   ]
  },
  {
   "cell_type": "code",
   "execution_count": 47,
   "metadata": {},
   "outputs": [
    {
     "data": {
      "text/html": [
       "<div>\n",
       "<style scoped>\n",
       "    .dataframe tbody tr th:only-of-type {\n",
       "        vertical-align: middle;\n",
       "    }\n",
       "\n",
       "    .dataframe tbody tr th {\n",
       "        vertical-align: top;\n",
       "    }\n",
       "\n",
       "    .dataframe thead th {\n",
       "        text-align: right;\n",
       "    }\n",
       "</style>\n",
       "<table border=\"1\" class=\"dataframe\">\n",
       "  <thead>\n",
       "    <tr style=\"text-align: right;\">\n",
       "      <th></th>\n",
       "      <th>datetime</th>\n",
       "      <th>season</th>\n",
       "      <th>holiday</th>\n",
       "      <th>workingday</th>\n",
       "      <th>weather</th>\n",
       "      <th>temp</th>\n",
       "      <th>atemp</th>\n",
       "      <th>humidity</th>\n",
       "      <th>windspeed</th>\n",
       "      <th>casual</th>\n",
       "      <th>registered</th>\n",
       "      <th>count</th>\n",
       "      <th>datetime-year</th>\n",
       "      <th>datetime-month</th>\n",
       "      <th>datetime-day</th>\n",
       "      <th>datetime-hour</th>\n",
       "      <th>datetime-dayofweek</th>\n",
       "      <th>datetime-year-month</th>\n",
       "      <th>year_month1</th>\n",
       "      <th>year_month2</th>\n",
       "      <th>year_month3</th>\n",
       "      <th>year_month4</th>\n",
       "      <th>hour1</th>\n",
       "      <th>hour2</th>\n",
       "      <th>hour3</th>\n",
       "      <th>h-w</th>\n",
       "      <th>h_w1</th>\n",
       "      <th>h_w2</th>\n",
       "      <th>h_w3</th>\n",
       "    </tr>\n",
       "  </thead>\n",
       "  <tbody>\n",
       "    <tr>\n",
       "      <th>0</th>\n",
       "      <td>2011-01-01</td>\n",
       "      <td>1</td>\n",
       "      <td>0</td>\n",
       "      <td>0</td>\n",
       "      <td>1</td>\n",
       "      <td>9.84000</td>\n",
       "      <td>14.39500</td>\n",
       "      <td>81</td>\n",
       "      <td>0.00000</td>\n",
       "      <td>3</td>\n",
       "      <td>13</td>\n",
       "      <td>16</td>\n",
       "      <td>2011</td>\n",
       "      <td>1</td>\n",
       "      <td>1</td>\n",
       "      <td>0</td>\n",
       "      <td>5</td>\n",
       "      <td>2011-01</td>\n",
       "      <td>True</td>\n",
       "      <td>False</td>\n",
       "      <td>False</td>\n",
       "      <td>False</td>\n",
       "      <td>True</td>\n",
       "      <td>False</td>\n",
       "      <td>False</td>\n",
       "      <td>00</td>\n",
       "      <td>True</td>\n",
       "      <td>False</td>\n",
       "      <td>False</td>\n",
       "    </tr>\n",
       "  </tbody>\n",
       "</table>\n",
       "</div>"
      ],
      "text/plain": [
       "    datetime  season  holiday  workingday  weather    temp    atemp  humidity  \\\n",
       "0 2011-01-01       1        0           0        1 9.84000 14.39500        81   \n",
       "\n",
       "   windspeed  casual  registered  count  datetime-year  datetime-month  \\\n",
       "0    0.00000       3          13     16           2011               1   \n",
       "\n",
       "   datetime-day  datetime-hour  datetime-dayofweek datetime-year-month  \\\n",
       "0             1              0                   5             2011-01   \n",
       "\n",
       "   year_month1  year_month2  year_month3  year_month4  hour1  hour2  hour3  \\\n",
       "0         True        False        False        False   True  False  False   \n",
       "\n",
       "  h-w  h_w1   h_w2   h_w3  \n",
       "0  00  True  False  False  "
      ]
     },
     "execution_count": 47,
     "metadata": {},
     "output_type": "execute_result"
    }
   ],
   "source": [
    "train.head(1)"
   ]
  },
  {
   "cell_type": "code",
   "execution_count": 60,
   "metadata": {},
   "outputs": [],
   "source": [
    "# target 분리, data split\n",
    "y = train['count']\n",
    "X = train[['season', 'weather', 'temp', \"atemp\", \"humidity\", \"windspeed\",\n",
    "           'year_month1', 'year_month2', 'year_month3', 'year_month4',\n",
    "           \"datetime-dayofweek\", \"datetime-year\", \"datetime-hour\",\n",
    "           'hour1', 'hour2', 'hour3',\n",
    "           'h_w1', 'h_w2', 'h_w3'\n",
    "          ]]\n",
    "X_train, X_test, y_train, y_test = train_test_split(X,y, train_size = 0.3, random_state=318)"
   ]
  },
  {
   "cell_type": "code",
   "execution_count": 61,
   "metadata": {},
   "outputs": [],
   "source": [
    "n_folds = 5\n",
    "def rmse_cv(model):\n",
    "  kf = KFold(n_folds, shuffle=True, random_state=42).get_n_splits(X_train.values)\n",
    "  rmse = np.sqrt(-cross_val_score(model, X_train.values, y_train, scoring='neg_mean_squared_error', cv=kf))\n",
    "  return (rmse)"
   ]
  },
  {
   "cell_type": "code",
   "execution_count": 62,
   "metadata": {},
   "outputs": [],
   "source": [
    "def rmse(y,y_pred):\n",
    "  return np.sqrt(mean_squared_error(y,y_pred))"
   ]
  },
  {
   "cell_type": "markdown",
   "metadata": {},
   "source": [
    "### Base models  "
   ]
  },
  {
   "cell_type": "markdown",
   "metadata": {},
   "source": [
    "**LinearRegression**"
   ]
  },
  {
   "cell_type": "code",
   "execution_count": 63,
   "metadata": {},
   "outputs": [],
   "source": [
    "lr = LinearRegression()"
   ]
  },
  {
   "cell_type": "markdown",
   "metadata": {},
   "source": [
    "**DecisionTreeRegressor**"
   ]
  },
  {
   "cell_type": "code",
   "execution_count": 70,
   "metadata": {},
   "outputs": [],
   "source": [
    "dt = DecisionTreeRegressor(max_depth=10,\n",
    "                         max_features = 0.86751,\n",
    "                         random_state=1004)"
   ]
  },
  {
   "cell_type": "code",
   "execution_count": 66,
   "metadata": {
    "scrolled": true
   },
   "outputs": [
    {
     "name": "stdout",
     "output_type": "stream",
     "text": [
      "(100, 4)\n"
     ]
    },
    {
     "data": {
      "text/html": [
       "<div>\n",
       "<style scoped>\n",
       "    .dataframe tbody tr th:only-of-type {\n",
       "        vertical-align: middle;\n",
       "    }\n",
       "\n",
       "    .dataframe tbody tr th {\n",
       "        vertical-align: top;\n",
       "    }\n",
       "\n",
       "    .dataframe thead th {\n",
       "        text-align: right;\n",
       "    }\n",
       "</style>\n",
       "<table border=\"1\" class=\"dataframe\">\n",
       "  <thead>\n",
       "    <tr style=\"text-align: right;\">\n",
       "      <th></th>\n",
       "      <th>epoch</th>\n",
       "      <th>score</th>\n",
       "      <th>max_depth</th>\n",
       "      <th>max_features</th>\n",
       "    </tr>\n",
       "  </thead>\n",
       "  <tbody>\n",
       "    <tr>\n",
       "      <th>76</th>\n",
       "      <td>76</td>\n",
       "      <td>64.96605</td>\n",
       "      <td>10</td>\n",
       "      <td>0.86751</td>\n",
       "    </tr>\n",
       "    <tr>\n",
       "      <th>19</th>\n",
       "      <td>19</td>\n",
       "      <td>65.61283</td>\n",
       "      <td>45</td>\n",
       "      <td>0.98303</td>\n",
       "    </tr>\n",
       "    <tr>\n",
       "      <th>15</th>\n",
       "      <td>15</td>\n",
       "      <td>65.61283</td>\n",
       "      <td>48</td>\n",
       "      <td>0.96093</td>\n",
       "    </tr>\n",
       "    <tr>\n",
       "      <th>71</th>\n",
       "      <td>71</td>\n",
       "      <td>65.61283</td>\n",
       "      <td>27</td>\n",
       "      <td>0.98184</td>\n",
       "    </tr>\n",
       "    <tr>\n",
       "      <th>55</th>\n",
       "      <td>55</td>\n",
       "      <td>65.61283</td>\n",
       "      <td>32</td>\n",
       "      <td>0.97826</td>\n",
       "    </tr>\n",
       "    <tr>\n",
       "      <th>35</th>\n",
       "      <td>35</td>\n",
       "      <td>65.76199</td>\n",
       "      <td>12</td>\n",
       "      <td>0.75288</td>\n",
       "    </tr>\n",
       "    <tr>\n",
       "      <th>66</th>\n",
       "      <td>66</td>\n",
       "      <td>66.16974</td>\n",
       "      <td>12</td>\n",
       "      <td>0.82316</td>\n",
       "    </tr>\n",
       "    <tr>\n",
       "      <th>2</th>\n",
       "      <td>2</td>\n",
       "      <td>67.38689</td>\n",
       "      <td>30</td>\n",
       "      <td>0.85316</td>\n",
       "    </tr>\n",
       "    <tr>\n",
       "      <th>20</th>\n",
       "      <td>20</td>\n",
       "      <td>67.38689</td>\n",
       "      <td>44</td>\n",
       "      <td>0.88385</td>\n",
       "    </tr>\n",
       "    <tr>\n",
       "      <th>37</th>\n",
       "      <td>37</td>\n",
       "      <td>67.38689</td>\n",
       "      <td>46</td>\n",
       "      <td>0.88549</td>\n",
       "    </tr>\n",
       "  </tbody>\n",
       "</table>\n",
       "</div>"
      ],
      "text/plain": [
       "    epoch    score  max_depth  max_features\n",
       "76     76 64.96605         10       0.86751\n",
       "19     19 65.61283         45       0.98303\n",
       "15     15 65.61283         48       0.96093\n",
       "71     71 65.61283         27       0.98184\n",
       "55     55 65.61283         32       0.97826\n",
       "35     35 65.76199         12       0.75288\n",
       "66     66 66.16974         12       0.82316\n",
       "2       2 67.38689         30       0.85316\n",
       "20     20 67.38689         44       0.88385\n",
       "37     37 67.38689         46       0.88549"
      ]
     },
     "execution_count": 66,
     "metadata": {},
     "output_type": "execute_result"
    }
   ],
   "source": [
    "num_epoch = 100\n",
    "\n",
    "coarse_hyperparameters_list = []\n",
    "\n",
    "for epoch in range(num_epoch):\n",
    "    max_depth = np.random.randint(low=2, high=50)\n",
    "    max_features = np.random.uniform(low=0.1, high=1.0)\n",
    "\n",
    "    dt_test = DecisionTreeRegressor(max_depth=max_depth,\n",
    "                                  max_features=max_features,\n",
    "                                  random_state=1004)\n",
    "\n",
    "    score = rmse_cv(dt_test).mean()\n",
    "    \n",
    "    hyperparameters = {\n",
    "        'epoch': epoch,\n",
    "        'score': score,\n",
    "        'max_depth': max_depth,\n",
    "        'max_features': max_features,\n",
    "    }\n",
    "\n",
    "    coarse_hyperparameters_list.append(hyperparameters)\n",
    "\n",
    "    #print(f\"{epoch:2} \\\n",
    "    #    max_depth = {max_depth:2}, max_features = {max_features:.6f}, \\\n",
    "    #    Score = {score:.5f}\")\n",
    "\n",
    "coarse_hyperparameters_list = pd.DataFrame.from_dict(coarse_hyperparameters_list)\n",
    "coarse_hyperparameters_list = coarse_hyperparameters_list.sort_values(by=\"score\")\n",
    "\n",
    "print(coarse_hyperparameters_list.shape)\n",
    "coarse_hyperparameters_list.head(10)"
   ]
  },
  {
   "cell_type": "markdown",
   "metadata": {},
   "source": [
    "**KNeighborsRegressor**"
   ]
  },
  {
   "cell_type": "code",
   "execution_count": 71,
   "metadata": {},
   "outputs": [],
   "source": [
    "knn = KNeighborsRegressor(n_neighbors = 6,\n",
    "                          weights = 'distance',\n",
    "                          metric='manhattan')"
   ]
  },
  {
   "cell_type": "code",
   "execution_count": 68,
   "metadata": {},
   "outputs": [
    {
     "name": "stdout",
     "output_type": "stream",
     "text": [
      "(100, 5)\n"
     ]
    },
    {
     "data": {
      "text/html": [
       "<div>\n",
       "<style scoped>\n",
       "    .dataframe tbody tr th:only-of-type {\n",
       "        vertical-align: middle;\n",
       "    }\n",
       "\n",
       "    .dataframe tbody tr th {\n",
       "        vertical-align: top;\n",
       "    }\n",
       "\n",
       "    .dataframe thead th {\n",
       "        text-align: right;\n",
       "    }\n",
       "</style>\n",
       "<table border=\"1\" class=\"dataframe\">\n",
       "  <thead>\n",
       "    <tr style=\"text-align: right;\">\n",
       "      <th></th>\n",
       "      <th>epoch</th>\n",
       "      <th>score</th>\n",
       "      <th>n_neighbors</th>\n",
       "      <th>weights</th>\n",
       "      <th>metric</th>\n",
       "    </tr>\n",
       "  </thead>\n",
       "  <tbody>\n",
       "    <tr>\n",
       "      <th>74</th>\n",
       "      <td>74</td>\n",
       "      <td>106.07589</td>\n",
       "      <td>6</td>\n",
       "      <td>distance</td>\n",
       "      <td>manhattan</td>\n",
       "    </tr>\n",
       "    <tr>\n",
       "      <th>32</th>\n",
       "      <td>32</td>\n",
       "      <td>107.40701</td>\n",
       "      <td>10</td>\n",
       "      <td>uniform</td>\n",
       "      <td>manhattan</td>\n",
       "    </tr>\n",
       "    <tr>\n",
       "      <th>17</th>\n",
       "      <td>17</td>\n",
       "      <td>108.84556</td>\n",
       "      <td>23</td>\n",
       "      <td>distance</td>\n",
       "      <td>manhattan</td>\n",
       "    </tr>\n",
       "    <tr>\n",
       "      <th>72</th>\n",
       "      <td>72</td>\n",
       "      <td>109.55506</td>\n",
       "      <td>26</td>\n",
       "      <td>distance</td>\n",
       "      <td>manhattan</td>\n",
       "    </tr>\n",
       "    <tr>\n",
       "      <th>22</th>\n",
       "      <td>22</td>\n",
       "      <td>110.40434</td>\n",
       "      <td>17</td>\n",
       "      <td>uniform</td>\n",
       "      <td>manhattan</td>\n",
       "    </tr>\n",
       "    <tr>\n",
       "      <th>23</th>\n",
       "      <td>23</td>\n",
       "      <td>112.21201</td>\n",
       "      <td>36</td>\n",
       "      <td>distance</td>\n",
       "      <td>manhattan</td>\n",
       "    </tr>\n",
       "    <tr>\n",
       "      <th>79</th>\n",
       "      <td>79</td>\n",
       "      <td>112.74566</td>\n",
       "      <td>23</td>\n",
       "      <td>uniform</td>\n",
       "      <td>manhattan</td>\n",
       "    </tr>\n",
       "    <tr>\n",
       "      <th>96</th>\n",
       "      <td>96</td>\n",
       "      <td>113.08062</td>\n",
       "      <td>41</td>\n",
       "      <td>distance</td>\n",
       "      <td>manhattan</td>\n",
       "    </tr>\n",
       "    <tr>\n",
       "      <th>87</th>\n",
       "      <td>87</td>\n",
       "      <td>114.36784</td>\n",
       "      <td>48</td>\n",
       "      <td>distance</td>\n",
       "      <td>manhattan</td>\n",
       "    </tr>\n",
       "    <tr>\n",
       "      <th>2</th>\n",
       "      <td>2</td>\n",
       "      <td>115.36509</td>\n",
       "      <td>54</td>\n",
       "      <td>distance</td>\n",
       "      <td>manhattan</td>\n",
       "    </tr>\n",
       "  </tbody>\n",
       "</table>\n",
       "</div>"
      ],
      "text/plain": [
       "    epoch     score  n_neighbors   weights     metric\n",
       "74     74 106.07589            6  distance  manhattan\n",
       "32     32 107.40701           10   uniform  manhattan\n",
       "17     17 108.84556           23  distance  manhattan\n",
       "72     72 109.55506           26  distance  manhattan\n",
       "22     22 110.40434           17   uniform  manhattan\n",
       "23     23 112.21201           36  distance  manhattan\n",
       "79     79 112.74566           23   uniform  manhattan\n",
       "96     96 113.08062           41  distance  manhattan\n",
       "87     87 114.36784           48  distance  manhattan\n",
       "2       2 115.36509           54  distance  manhattan"
      ]
     },
     "execution_count": 68,
     "metadata": {},
     "output_type": "execute_result"
    }
   ],
   "source": [
    "num_epoch = 100\n",
    "coarse_hyperparameters_list = []\n",
    "\n",
    "for epoch in range(num_epoch):\n",
    "    n_neighbors = np.random.randint(low=2, high=150)\n",
    "    weights = np.random.choice(['uniform', 'distance'])\n",
    "    metric = np.random.choice(['minkowski', 'euclidean', 'manhattan'])\n",
    "\n",
    "    knn_test = KNeighborsRegressor(n_neighbors=n_neighbors,\n",
    "                                  weights=weights,\n",
    "                                  metric=metric)\n",
    "\n",
    "    score = rmse_cv(knn_test).mean()\n",
    "    \n",
    "    hyperparameters = {\n",
    "        'epoch': epoch,\n",
    "        'score': score,\n",
    "        'n_neighbors': n_neighbors,\n",
    "        'weights': weights,\n",
    "        'metric': metric,\n",
    "    }\n",
    "\n",
    "    coarse_hyperparameters_list.append(hyperparameters)\n",
    "\n",
    "    #print(f\"{epoch:2} \\\n",
    "    #    n_neighbors = {n_neighbors}, weights = {weights}, metric = {metric}, \\\n",
    "    #    Score = {score:.5f}\")\n",
    "\n",
    "coarse_hyperparameters_list = pd.DataFrame.from_dict(coarse_hyperparameters_list)\n",
    "coarse_hyperparameters_list = coarse_hyperparameters_list.sort_values(by=\"score\")\n",
    "\n",
    "print(coarse_hyperparameters_list.shape)\n",
    "coarse_hyperparameters_list.head(10)"
   ]
  },
  {
   "cell_type": "markdown",
   "metadata": {},
   "source": [
    "**RandomForestRegressor**"
   ]
  },
  {
   "cell_type": "code",
   "execution_count": 72,
   "metadata": {},
   "outputs": [],
   "source": [
    "rf = make_pipeline(RandomForestRegressor(n_estimators = 1000,\n",
    "                                         max_depth = 47,\n",
    "                                         max_features = 0.61204,\n",
    "                                         min_samples_split = 19,\n",
    "                                         min_samples_leaf = 4,\n",
    "                                         random_state=37))"
   ]
  },
  {
   "cell_type": "code",
   "execution_count": 109,
   "metadata": {},
   "outputs": [
    {
     "name": "stdout",
     "output_type": "stream",
     "text": [
      " 0         n_estimators = 300, max_depth = 77, max_features = 0.707493,         min_samples_split =  7, min_samples_leaf = 33,        Score = 89.88933\n",
      " 1         n_estimators = 300, max_depth = 37, max_features = 0.767726,         min_samples_split = 36, min_samples_leaf = 10,        Score = 86.32067\n",
      " 2         n_estimators = 300, max_depth = 38, max_features = 0.565177,         min_samples_split = 21, min_samples_leaf = 45,        Score = 91.06774\n",
      " 3         n_estimators = 300, max_depth = 90, max_features = 0.903424,         min_samples_split = 45, min_samples_leaf =  2,        Score = 86.17479\n",
      " 4         n_estimators = 300, max_depth = 90, max_features = 0.271853,         min_samples_split = 20, min_samples_leaf = 47,        Score = 93.51605\n",
      " 5         n_estimators = 300, max_depth = 84, max_features = 0.800839,         min_samples_split = 47, min_samples_leaf = 42,        Score = 90.87894\n",
      " 6         n_estimators = 300, max_depth =  2, max_features = 0.588757,         min_samples_split = 21, min_samples_leaf = 46,        Score = 120.04552\n",
      " 7         n_estimators = 300, max_depth = 67, max_features = 0.659675,         min_samples_split = 46, min_samples_leaf = 11,        Score = 86.93598\n",
      " 8         n_estimators = 300, max_depth = 32, max_features = 0.426883,         min_samples_split = 37, min_samples_leaf = 39,        Score = 90.83734\n",
      " 9         n_estimators = 300, max_depth = 87, max_features = 0.244964,         min_samples_split = 13, min_samples_leaf = 24,        Score = 90.23600\n",
      "10         n_estimators = 300, max_depth = 83, max_features = 0.743481,         min_samples_split = 39, min_samples_leaf = 27,        Score = 89.18342\n",
      "11         n_estimators = 300, max_depth = 14, max_features = 0.601274,         min_samples_split =  3, min_samples_leaf = 48,        Score = 91.36747\n",
      "12         n_estimators = 300, max_depth = 73, max_features = 0.762802,         min_samples_split = 11, min_samples_leaf = 27,        Score = 89.18342\n",
      "13         n_estimators = 300, max_depth = 41, max_features = 0.845566,         min_samples_split = 38, min_samples_leaf = 30,        Score = 89.57079\n",
      "14         n_estimators = 300, max_depth = 26, max_features = 0.720271,         min_samples_split = 35, min_samples_leaf = 29,        Score = 89.44372\n",
      "15         n_estimators = 300, max_depth = 96, max_features = 0.966141,         min_samples_split = 27, min_samples_leaf = 20,        Score = 88.10697\n",
      "16         n_estimators = 300, max_depth = 38, max_features = 0.754638,         min_samples_split = 15, min_samples_leaf = 29,        Score = 89.44372\n",
      "17         n_estimators = 300, max_depth = 13, max_features = 0.627185,         min_samples_split = 26, min_samples_leaf =  2,        Score = 85.43377\n",
      "18         n_estimators = 300, max_depth = 74, max_features = 0.914661,         min_samples_split = 35, min_samples_leaf = 11,        Score = 86.39202\n",
      "19         n_estimators = 300, max_depth = 96, max_features = 0.255856,         min_samples_split =  2, min_samples_leaf =  5,        Score = 85.42354\n",
      "20         n_estimators = 300, max_depth = 64, max_features = 0.300503,         min_samples_split = 31, min_samples_leaf = 34,        Score = 91.85558\n",
      "21         n_estimators = 300, max_depth = 55, max_features = 0.910903,         min_samples_split = 22, min_samples_leaf = 46,        Score = 91.27996\n",
      "22         n_estimators = 300, max_depth = 40, max_features = 0.666292,         min_samples_split = 24, min_samples_leaf = 35,        Score = 90.10122\n",
      "23         n_estimators = 300, max_depth = 19, max_features = 0.912486,         min_samples_split =  3, min_samples_leaf = 19,        Score = 87.81772\n",
      "24         n_estimators = 300, max_depth = 73, max_features = 0.754199,         min_samples_split = 30, min_samples_leaf =  2,        Score = 85.57385\n",
      "25         n_estimators = 300, max_depth = 94, max_features = 0.669322,         min_samples_split = 41, min_samples_leaf = 30,        Score = 89.49900\n",
      "26         n_estimators = 300, max_depth = 96, max_features = 0.805228,         min_samples_split = 39, min_samples_leaf = 47,        Score = 91.28460\n",
      "27         n_estimators = 300, max_depth = 17, max_features = 0.964550,         min_samples_split = 21, min_samples_leaf =  9,        Score = 85.98346\n",
      "28         n_estimators = 300, max_depth = 40, max_features = 0.124081,         min_samples_split =  5, min_samples_leaf =  1,        Score = 88.63379\n",
      "29         n_estimators = 300, max_depth = 24, max_features = 0.417283,         min_samples_split = 38, min_samples_leaf = 48,        Score = 91.59155\n",
      "30         n_estimators = 300, max_depth = 24, max_features = 0.240827,         min_samples_split = 15, min_samples_leaf = 49,        Score = 93.68968\n",
      "31         n_estimators = 300, max_depth = 29, max_features = 0.795314,         min_samples_split = 12, min_samples_leaf = 47,        Score = 91.28460\n",
      "32         n_estimators = 300, max_depth = 64, max_features = 0.121700,         min_samples_split = 37, min_samples_leaf = 19,        Score = 91.74459\n",
      "33         n_estimators = 300, max_depth = 98, max_features = 0.210887,         min_samples_split = 40, min_samples_leaf = 17,        Score = 89.76643\n",
      "34         n_estimators = 300, max_depth = 77, max_features = 0.705293,         min_samples_split = 26, min_samples_leaf = 47,        Score = 91.27950\n",
      "35         n_estimators = 300, max_depth = 80, max_features = 0.989155,         min_samples_split =  4, min_samples_leaf =  3,        Score = 86.75086\n",
      "36         n_estimators = 300, max_depth = 41, max_features = 0.312656,         min_samples_split =  5, min_samples_leaf = 22,        Score = 89.11439\n",
      "37         n_estimators = 300, max_depth = 53, max_features = 0.897095,         min_samples_split = 23, min_samples_leaf = 39,        Score = 90.66065\n",
      "38         n_estimators = 300, max_depth =  2, max_features = 0.741645,         min_samples_split =  8, min_samples_leaf = 17,        Score = 121.55888\n",
      "39         n_estimators = 300, max_depth = 18, max_features = 0.647513,         min_samples_split =  6, min_samples_leaf =  4,        Score = 85.68762\n",
      "40         n_estimators = 300, max_depth = 27, max_features = 0.332899,         min_samples_split = 43, min_samples_leaf = 36,        Score = 90.97750\n",
      "41         n_estimators = 300, max_depth = 20, max_features = 0.732779,         min_samples_split = 31, min_samples_leaf = 14,        Score = 86.78617\n",
      "42         n_estimators = 300, max_depth = 48, max_features = 0.986781,         min_samples_split = 20, min_samples_leaf = 34,        Score = 90.13393\n",
      "43         n_estimators = 300, max_depth =  5, max_features = 0.309962,         min_samples_split = 10, min_samples_leaf = 49,        Score = 96.02478\n",
      "44         n_estimators = 300, max_depth = 55, max_features = 0.741871,         min_samples_split =  7, min_samples_leaf = 36,        Score = 90.28264\n",
      "45         n_estimators = 300, max_depth = 82, max_features = 0.489045,         min_samples_split = 36, min_samples_leaf = 29,        Score = 89.50335\n",
      "46         n_estimators = 300, max_depth = 40, max_features = 0.702585,         min_samples_split = 20, min_samples_leaf =  2,        Score = 85.51639\n",
      "47         n_estimators = 300, max_depth = 74, max_features = 0.899030,         min_samples_split = 43, min_samples_leaf = 18,        Score = 87.69115\n",
      "48         n_estimators = 300, max_depth = 73, max_features = 0.676407,         min_samples_split = 42, min_samples_leaf = 48,        Score = 91.17610\n",
      "49         n_estimators = 300, max_depth = 29, max_features = 0.409006,         min_samples_split = 11, min_samples_leaf = 49,        Score = 91.70003\n",
      "50         n_estimators = 300, max_depth =  5, max_features = 0.961015,         min_samples_split = 39, min_samples_leaf = 38,        Score = 94.49798\n",
      "51         n_estimators = 300, max_depth = 68, max_features = 0.613542,         min_samples_split = 28, min_samples_leaf = 23,        Score = 88.71072\n",
      "52         n_estimators = 300, max_depth = 77, max_features = 0.270331,         min_samples_split = 16, min_samples_leaf = 45,        Score = 93.44740\n",
      "53         n_estimators = 300, max_depth = 28, max_features = 0.405911,         min_samples_split = 40, min_samples_leaf = 41,        Score = 91.11866\n",
      "54         n_estimators = 300, max_depth = 51, max_features = 0.967876,         min_samples_split = 24, min_samples_leaf = 13,        Score = 86.49586\n"
     ]
    },
    {
     "name": "stdout",
     "output_type": "stream",
     "text": [
      "55         n_estimators = 300, max_depth = 82, max_features = 0.940643,         min_samples_split = 46, min_samples_leaf = 20,        Score = 88.14252\n",
      "56         n_estimators = 300, max_depth = 79, max_features = 0.869564,         min_samples_split = 22, min_samples_leaf =  1,        Score = 85.71718\n",
      "57         n_estimators = 300, max_depth = 13, max_features = 0.693433,         min_samples_split = 21, min_samples_leaf = 20,        Score = 88.09780\n",
      "58         n_estimators = 300, max_depth = 18, max_features = 0.877968,         min_samples_split = 37, min_samples_leaf = 18,        Score = 87.53445\n",
      "59         n_estimators = 300, max_depth = 51, max_features = 0.750765,         min_samples_split = 13, min_samples_leaf = 39,        Score = 90.63959\n",
      "60         n_estimators = 300, max_depth = 46, max_features = 0.325960,         min_samples_split = 12, min_samples_leaf = 16,        Score = 87.99326\n",
      "61         n_estimators = 300, max_depth = 44, max_features = 0.971965,         min_samples_split = 14, min_samples_leaf = 44,        Score = 91.23846\n",
      "62         n_estimators = 300, max_depth = 95, max_features = 0.974816,         min_samples_split = 26, min_samples_leaf = 14,        Score = 86.69449\n",
      "63         n_estimators = 300, max_depth = 28, max_features = 0.268432,         min_samples_split = 22, min_samples_leaf = 36,        Score = 92.12058\n",
      "64         n_estimators = 300, max_depth = 64, max_features = 0.534197,         min_samples_split = 27, min_samples_leaf = 21,        Score = 88.62737\n",
      "65         n_estimators = 300, max_depth = 58, max_features = 0.932358,         min_samples_split = 22, min_samples_leaf =  9,        Score = 86.01589\n",
      "66         n_estimators = 300, max_depth = 19, max_features = 0.778634,         min_samples_split = 20, min_samples_leaf = 18,        Score = 87.60410\n",
      "67         n_estimators = 300, max_depth = 91, max_features = 0.645524,         min_samples_split = 30, min_samples_leaf = 20,        Score = 88.08088\n",
      "68         n_estimators = 300, max_depth = 55, max_features = 0.519821,         min_samples_split = 35, min_samples_leaf = 29,        Score = 89.50335\n",
      "69         n_estimators = 300, max_depth = 38, max_features = 0.388879,         min_samples_split = 13, min_samples_leaf = 22,        Score = 88.80275\n",
      "70         n_estimators = 300, max_depth = 93, max_features = 0.981856,         min_samples_split = 15, min_samples_leaf = 46,        Score = 91.43791\n",
      "71         n_estimators = 300, max_depth = 64, max_features = 0.198523,         min_samples_split = 14, min_samples_leaf =  3,        Score = 85.58451\n",
      "72         n_estimators = 300, max_depth = 88, max_features = 0.965231,         min_samples_split = 35, min_samples_leaf = 30,        Score = 89.59417\n",
      "73         n_estimators = 300, max_depth = 48, max_features = 0.357536,         min_samples_split = 41, min_samples_leaf =  8,        Score = 87.10141\n",
      "74         n_estimators = 300, max_depth = 63, max_features = 0.111971,         min_samples_split = 20, min_samples_leaf = 35,        Score = 98.15693\n",
      "75         n_estimators = 300, max_depth = 49, max_features = 0.778964,         min_samples_split = 40, min_samples_leaf = 11,        Score = 86.64485\n",
      "76         n_estimators = 300, max_depth = 91, max_features = 0.797917,         min_samples_split = 39, min_samples_leaf = 28,        Score = 89.30072\n",
      "77         n_estimators = 300, max_depth = 22, max_features = 0.629504,         min_samples_split = 14, min_samples_leaf = 41,        Score = 90.66080\n",
      "78         n_estimators = 300, max_depth =  7, max_features = 0.648992,         min_samples_split = 49, min_samples_leaf = 30,        Score = 89.74170\n",
      "79         n_estimators = 300, max_depth = 63, max_features = 0.386227,         min_samples_split = 36, min_samples_leaf =  3,        Score = 85.97483\n",
      "80         n_estimators = 300, max_depth = 19, max_features = 0.790468,         min_samples_split = 27, min_samples_leaf = 38,        Score = 90.52838\n",
      "81         n_estimators = 300, max_depth =  7, max_features = 0.570956,         min_samples_split = 48, min_samples_leaf =  3,        Score = 87.58790\n",
      "82         n_estimators = 300, max_depth = 74, max_features = 0.580870,         min_samples_split =  7, min_samples_leaf =  7,        Score = 85.59620\n",
      "83         n_estimators = 300, max_depth = 81, max_features = 0.308888,         min_samples_split = 11, min_samples_leaf =  3,        Score = 85.62476\n",
      "84         n_estimators = 300, max_depth = 83, max_features = 0.439858,         min_samples_split =  2, min_samples_leaf = 22,        Score = 88.80275\n",
      "85         n_estimators = 300, max_depth = 79, max_features = 0.397085,         min_samples_split =  9, min_samples_leaf = 13,        Score = 87.17568\n",
      "86         n_estimators = 300, max_depth = 59, max_features = 0.552678,         min_samples_split = 44, min_samples_leaf = 21,        Score = 88.37697\n",
      "87         n_estimators = 300, max_depth = 48, max_features = 0.626303,         min_samples_split = 41, min_samples_leaf = 14,        Score = 87.19414\n",
      "88         n_estimators = 300, max_depth = 40, max_features = 0.178656,         min_samples_split = 11, min_samples_leaf = 41,        Score = 95.28042\n",
      "89         n_estimators = 300, max_depth = 55, max_features = 0.557048,         min_samples_split =  3, min_samples_leaf = 27,        Score = 89.24179\n",
      "90         n_estimators = 300, max_depth = 23, max_features = 0.191585,         min_samples_split = 34, min_samples_leaf = 22,        Score = 91.06157\n",
      "91         n_estimators = 300, max_depth = 94, max_features = 0.733831,         min_samples_split =  3, min_samples_leaf = 14,        Score = 86.70929\n",
      "92         n_estimators = 300, max_depth =  8, max_features = 0.995775,         min_samples_split = 19, min_samples_leaf =  7,        Score = 85.57863\n",
      "93         n_estimators = 300, max_depth = 85, max_features = 0.994291,         min_samples_split = 14, min_samples_leaf = 18,        Score = 87.65207\n",
      "94         n_estimators = 300, max_depth = 94, max_features = 0.935395,         min_samples_split = 44, min_samples_leaf = 28,        Score = 89.32683\n",
      "95         n_estimators = 300, max_depth = 11, max_features = 0.689233,         min_samples_split = 14, min_samples_leaf =  9,        Score = 85.76227\n",
      "96         n_estimators = 300, max_depth = 47, max_features = 0.612039,         min_samples_split = 19, min_samples_leaf =  4,        Score = 85.36623\n",
      "97         n_estimators = 300, max_depth = 95, max_features = 0.693404,         min_samples_split = 28, min_samples_leaf = 33,        Score = 89.88933\n",
      "98         n_estimators = 300, max_depth = 91, max_features = 0.281008,         min_samples_split = 44, min_samples_leaf =  3,        Score = 86.73546\n",
      "99         n_estimators = 300, max_depth = 51, max_features = 0.198585,         min_samples_split =  6, min_samples_leaf = 39,        Score = 95.06168\n",
      "(100, 7)\n"
     ]
    },
    {
     "data": {
      "text/html": [
       "<div>\n",
       "<style scoped>\n",
       "    .dataframe tbody tr th:only-of-type {\n",
       "        vertical-align: middle;\n",
       "    }\n",
       "\n",
       "    .dataframe tbody tr th {\n",
       "        vertical-align: top;\n",
       "    }\n",
       "\n",
       "    .dataframe thead th {\n",
       "        text-align: right;\n",
       "    }\n",
       "</style>\n",
       "<table border=\"1\" class=\"dataframe\">\n",
       "  <thead>\n",
       "    <tr style=\"text-align: right;\">\n",
       "      <th></th>\n",
       "      <th>epoch</th>\n",
       "      <th>score</th>\n",
       "      <th>n_estimators</th>\n",
       "      <th>max_depth</th>\n",
       "      <th>max_features</th>\n",
       "      <th>min_samples_split</th>\n",
       "      <th>min_samples_leaf</th>\n",
       "    </tr>\n",
       "  </thead>\n",
       "  <tbody>\n",
       "    <tr>\n",
       "      <th>96</th>\n",
       "      <td>96</td>\n",
       "      <td>85.36623</td>\n",
       "      <td>300</td>\n",
       "      <td>47</td>\n",
       "      <td>0.61204</td>\n",
       "      <td>19</td>\n",
       "      <td>4</td>\n",
       "    </tr>\n",
       "    <tr>\n",
       "      <th>19</th>\n",
       "      <td>19</td>\n",
       "      <td>85.42354</td>\n",
       "      <td>300</td>\n",
       "      <td>96</td>\n",
       "      <td>0.25586</td>\n",
       "      <td>2</td>\n",
       "      <td>5</td>\n",
       "    </tr>\n",
       "    <tr>\n",
       "      <th>17</th>\n",
       "      <td>17</td>\n",
       "      <td>85.43377</td>\n",
       "      <td>300</td>\n",
       "      <td>13</td>\n",
       "      <td>0.62719</td>\n",
       "      <td>26</td>\n",
       "      <td>2</td>\n",
       "    </tr>\n",
       "    <tr>\n",
       "      <th>46</th>\n",
       "      <td>46</td>\n",
       "      <td>85.51639</td>\n",
       "      <td>300</td>\n",
       "      <td>40</td>\n",
       "      <td>0.70259</td>\n",
       "      <td>20</td>\n",
       "      <td>2</td>\n",
       "    </tr>\n",
       "    <tr>\n",
       "      <th>24</th>\n",
       "      <td>24</td>\n",
       "      <td>85.57385</td>\n",
       "      <td>300</td>\n",
       "      <td>73</td>\n",
       "      <td>0.75420</td>\n",
       "      <td>30</td>\n",
       "      <td>2</td>\n",
       "    </tr>\n",
       "    <tr>\n",
       "      <th>92</th>\n",
       "      <td>92</td>\n",
       "      <td>85.57863</td>\n",
       "      <td>300</td>\n",
       "      <td>8</td>\n",
       "      <td>0.99578</td>\n",
       "      <td>19</td>\n",
       "      <td>7</td>\n",
       "    </tr>\n",
       "    <tr>\n",
       "      <th>71</th>\n",
       "      <td>71</td>\n",
       "      <td>85.58451</td>\n",
       "      <td>300</td>\n",
       "      <td>64</td>\n",
       "      <td>0.19852</td>\n",
       "      <td>14</td>\n",
       "      <td>3</td>\n",
       "    </tr>\n",
       "    <tr>\n",
       "      <th>82</th>\n",
       "      <td>82</td>\n",
       "      <td>85.59620</td>\n",
       "      <td>300</td>\n",
       "      <td>74</td>\n",
       "      <td>0.58087</td>\n",
       "      <td>7</td>\n",
       "      <td>7</td>\n",
       "    </tr>\n",
       "    <tr>\n",
       "      <th>83</th>\n",
       "      <td>83</td>\n",
       "      <td>85.62476</td>\n",
       "      <td>300</td>\n",
       "      <td>81</td>\n",
       "      <td>0.30889</td>\n",
       "      <td>11</td>\n",
       "      <td>3</td>\n",
       "    </tr>\n",
       "    <tr>\n",
       "      <th>39</th>\n",
       "      <td>39</td>\n",
       "      <td>85.68762</td>\n",
       "      <td>300</td>\n",
       "      <td>18</td>\n",
       "      <td>0.64751</td>\n",
       "      <td>6</td>\n",
       "      <td>4</td>\n",
       "    </tr>\n",
       "  </tbody>\n",
       "</table>\n",
       "</div>"
      ],
      "text/plain": [
       "    epoch    score  n_estimators  max_depth  max_features  min_samples_split  \\\n",
       "96     96 85.36623           300         47       0.61204                 19   \n",
       "19     19 85.42354           300         96       0.25586                  2   \n",
       "17     17 85.43377           300         13       0.62719                 26   \n",
       "46     46 85.51639           300         40       0.70259                 20   \n",
       "24     24 85.57385           300         73       0.75420                 30   \n",
       "92     92 85.57863           300          8       0.99578                 19   \n",
       "71     71 85.58451           300         64       0.19852                 14   \n",
       "82     82 85.59620           300         74       0.58087                  7   \n",
       "83     83 85.62476           300         81       0.30889                 11   \n",
       "39     39 85.68762           300         18       0.64751                  6   \n",
       "\n",
       "    min_samples_leaf  \n",
       "96                 4  \n",
       "19                 5  \n",
       "17                 2  \n",
       "46                 2  \n",
       "24                 2  \n",
       "92                 7  \n",
       "71                 3  \n",
       "82                 7  \n",
       "83                 3  \n",
       "39                 4  "
      ]
     },
     "execution_count": 109,
     "metadata": {},
     "output_type": "execute_result"
    }
   ],
   "source": [
    "n_estimators = 300 # 3000까지 늘려보자\n",
    "num_epoch = 100\n",
    "\n",
    "coarse_hyperparameters_list = []\n",
    "\n",
    "for epoch in range(num_epoch):\n",
    "    max_depth = np.random.randint(low=2, high=100)\n",
    "    max_features = np.random.uniform(low=0.1, high=1.0)\n",
    "    min_samples_split = np.random.randint(low=2, high=50)\n",
    "    min_samples_leaf = np.random.randint(low=1, high=50)\n",
    "    \n",
    "    rf_test = RandomForestRegressor(n_estimators=n_estimators,\n",
    "                                  max_depth=max_depth,\n",
    "                                  max_features=max_features,\n",
    "                                    min_samples_split = min_samples_split,\n",
    "                                    min_samples_leaf = min_samples_leaf,\n",
    "                                  n_jobs=-1,\n",
    "                                  random_state=37)\n",
    "\n",
    "    score = rmse_cv(rf_test).mean()\n",
    "    \n",
    "    hyperparameters = {\n",
    "        'epoch': epoch,\n",
    "        'score': score,\n",
    "        'n_estimators': n_estimators,\n",
    "        'max_depth': max_depth,\n",
    "        'max_features': max_features,\n",
    "        'min_samples_split': min_samples_split,\n",
    "        'min_samples_leaf': min_samples_leaf,\n",
    "    }\n",
    "\n",
    "    coarse_hyperparameters_list.append(hyperparameters)\n",
    "\n",
    "    print(f\"{epoch:2} \\\n",
    "        n_estimators = {n_estimators}, max_depth = {max_depth:2}, max_features = {max_features:.6f}, \\\n",
    "        min_samples_split = {min_samples_split:2}, min_samples_leaf = {min_samples_leaf:2},\\\n",
    "        Score = {score:.5f}\")\n",
    "\n",
    "coarse_hyperparameters_list = pd.DataFrame.from_dict(coarse_hyperparameters_list)\n",
    "coarse_hyperparameters_list = coarse_hyperparameters_list.sort_values(by=\"score\")\n",
    "\n",
    "print(coarse_hyperparameters_list.shape)\n",
    "coarse_hyperparameters_list.head(10)"
   ]
  },
  {
   "cell_type": "markdown",
   "metadata": {},
   "source": [
    "**GradientBoostingRegressor**"
   ]
  },
  {
   "cell_type": "code",
   "execution_count": 73,
   "metadata": {},
   "outputs": [],
   "source": [
    "gbm = make_pipeline(GradientBoostingRegressor(n_estimators = 300, learning_rate=0.00976,\n",
    "                                              max_depth=19, max_features='sqrt',\n",
    "                                              min_samples_leaf=16, min_samples_split=4,\n",
    "                                              loss = 'huber', random_state=37))"
   ]
  },
  {
   "cell_type": "code",
   "execution_count": 111,
   "metadata": {},
   "outputs": [
    {
     "name": "stdout",
     "output_type": "stream",
     "text": [
      " 0         learning_rate = 0.008201901247920855, max_depth = 53, min_samples_leaf = 19,         min_samples_split = 8,        Score = 87.39099\n",
      " 1         learning_rate = 0.009944440343880128, max_depth = 58, min_samples_leaf = 32,         min_samples_split = 18,        Score = 86.83811\n",
      " 2         learning_rate = 0.007354922939161016, max_depth = 42, min_samples_leaf = 35,         min_samples_split = 7,        Score = 89.67542\n",
      " 3         learning_rate = 0.005281394126294151, max_depth = 39, min_samples_leaf = 47,         min_samples_split = 14,        Score = 96.58578\n",
      " 4         learning_rate = 0.004091669062146108, max_depth = 75, min_samples_leaf = 31,         min_samples_split = 42,        Score = 102.47173\n",
      " 5         learning_rate = 0.0047824403774107726, max_depth = 83, min_samples_leaf = 41,         min_samples_split = 41,        Score = 98.91587\n",
      " 6         learning_rate = 0.009761741036453159, max_depth = 19, min_samples_leaf = 16,         min_samples_split = 4,        Score = 86.37184\n",
      " 7         learning_rate = 0.004151559264768772, max_depth = 95, min_samples_leaf = 19,         min_samples_split = 15,        Score = 100.37463\n",
      " 8         learning_rate = 0.0009153154017808178, max_depth = 67, min_samples_leaf = 14,         min_samples_split = 7,        Score = 153.19598\n",
      " 9         learning_rate = 0.008946732172147458, max_depth = 70, min_samples_leaf = 17,         min_samples_split = 47,        Score = 86.71955\n",
      "10         learning_rate = 0.00761898846627228, max_depth = 66, min_samples_leaf = 41,         min_samples_split = 34,        Score = 89.58948\n",
      "11         learning_rate = 0.008980112905668374, max_depth = 51, min_samples_leaf = 41,         min_samples_split = 47,        Score = 87.96901\n",
      "12         learning_rate = 0.0034348830678851672, max_depth = 58, min_samples_leaf = 48,         min_samples_split = 8,        Score = 109.91043\n",
      "13         learning_rate = 0.00679132664454452, max_depth = 79, min_samples_leaf = 25,         min_samples_split = 14,        Score = 89.99182\n",
      "14         learning_rate = 0.00024132389374735704, max_depth = 17, min_samples_leaf = 39,         min_samples_split = 11,        Score = 176.74031\n",
      "15         learning_rate = 0.005961993983318175, max_depth =  2, min_samples_leaf = 16,         min_samples_split = 42,        Score = 125.93351\n",
      "16         learning_rate = 0.0033435105858506567, max_depth = 30, min_samples_leaf = 9,         min_samples_split = 14,        Score = 105.77623\n",
      "17         learning_rate = 0.0021451165400061443, max_depth = 63, min_samples_leaf = 28,         min_samples_split = 7,        Score = 125.82281\n",
      "18         learning_rate = 0.007664495248757713, max_depth = 50, min_samples_leaf = 47,         min_samples_split = 4,        Score = 89.78481\n",
      "19         learning_rate = 0.003151779315500215, max_depth = 23, min_samples_leaf = 22,         min_samples_split = 46,        Score = 110.27416\n",
      "20         learning_rate = 0.007028779001863965, max_depth = 18, min_samples_leaf = 39,         min_samples_split = 22,        Score = 90.60053\n",
      "21         learning_rate = 0.006212051209838485, max_depth = 53, min_samples_leaf = 19,         min_samples_split = 3,        Score = 90.77810\n",
      "22         learning_rate = 0.008812610797850168, max_depth = 21, min_samples_leaf = 47,         min_samples_split = 22,        Score = 88.31184\n",
      "23         learning_rate = 0.006792860573050118, max_depth = 49, min_samples_leaf = 43,         min_samples_split = 42,        Score = 91.31219\n",
      "24         learning_rate = 0.0017334122669425721, max_depth = 81, min_samples_leaf = 44,         min_samples_split = 6,        Score = 135.35471\n",
      "25         learning_rate = 0.008461148360194116, max_depth = 86, min_samples_leaf = 47,         min_samples_split = 17,        Score = 88.67144\n",
      "26         learning_rate = 0.0038258564878387935, max_depth = 75, min_samples_leaf = 34,         min_samples_split = 21,        Score = 104.91219\n",
      "27         learning_rate = 0.0022994236216979857, max_depth = 47, min_samples_leaf = 28,         min_samples_split = 40,        Score = 123.21255\n",
      "28         learning_rate = 0.008745102410117342, max_depth = 11, min_samples_leaf = 25,         min_samples_split = 47,        Score = 87.21034\n",
      "29         learning_rate = 0.008990920168659024, max_depth = 53, min_samples_leaf = 5,         min_samples_split = 23,        Score = 88.08780\n",
      "30         learning_rate = 0.0019674412565097005, max_depth = 46, min_samples_leaf = 30,         min_samples_split = 10,        Score = 129.45428\n",
      "31         learning_rate = 0.000693477294462164, max_depth = 25, min_samples_leaf = 14,         min_samples_split = 3,        Score = 160.11352\n",
      "32         learning_rate = 0.005848875557612272, max_depth = 52, min_samples_leaf = 45,         min_samples_split = 13,        Score = 94.16967\n",
      "33         learning_rate = 0.003945569286220475, max_depth =  4, min_samples_leaf = 46,         min_samples_split = 12,        Score = 117.62438\n",
      "34         learning_rate = 0.006137425186403978, max_depth = 90, min_samples_leaf = 21,         min_samples_split = 7,        Score = 91.13995\n",
      "35         learning_rate = 0.00032739029593485816, max_depth = 27, min_samples_leaf = 39,         min_samples_split = 10,        Score = 173.68834\n",
      "36         learning_rate = 0.0028914594889137813, max_depth = 15, min_samples_leaf = 24,         min_samples_split = 9,        Score = 113.71336\n",
      "37         learning_rate = 0.006251180896337971, max_depth = 37, min_samples_leaf = 31,         min_samples_split = 37,        Score = 91.87939\n",
      "38         learning_rate = 0.005379175092182246, max_depth = 52, min_samples_leaf = 40,         min_samples_split = 34,        Score = 95.70326\n",
      "39         learning_rate = 0.004081940255714355, max_depth = 72, min_samples_leaf = 7,         min_samples_split = 30,        Score = 99.33044\n",
      "40         learning_rate = 0.004184223636085438, max_depth = 81, min_samples_leaf = 29,         min_samples_split = 27,        Score = 101.44344\n",
      "41         learning_rate = 0.004584566716019978, max_depth = 51, min_samples_leaf = 46,         min_samples_split = 12,        Score = 100.31958\n",
      "42         learning_rate = 0.0008784351322020414, max_depth = 47, min_samples_leaf = 5,         min_samples_split = 29,        Score = 153.40137\n",
      "43         learning_rate = 0.009453619580964596, max_depth = 56, min_samples_leaf = 38,         min_samples_split = 47,        Score = 87.39695\n",
      "44         learning_rate = 0.0030252964265522243, max_depth = 16, min_samples_leaf = 25,         min_samples_split = 31,        Score = 112.32330\n",
      "45         learning_rate = 0.007289902898904444, max_depth = 96, min_samples_leaf = 39,         min_samples_split = 8,        Score = 90.01834\n",
      "46         learning_rate = 0.009406622354290942, max_depth = 97, min_samples_leaf = 13,         min_samples_split = 38,        Score = 86.52571\n",
      "47         learning_rate = 0.006720399398979089, max_depth = 87, min_samples_leaf = 9,         min_samples_split = 38,        Score = 89.05107\n",
      "48         learning_rate = 0.00825237391992365, max_depth = 18, min_samples_leaf = 16,         min_samples_split = 41,        Score = 87.22470\n",
      "49         learning_rate = 0.003335563070508557, max_depth = 42, min_samples_leaf = 14,         min_samples_split = 7,        Score = 106.95576\n",
      "(50, 6)\n"
     ]
    },
    {
     "data": {
      "text/html": [
       "<div>\n",
       "<style scoped>\n",
       "    .dataframe tbody tr th:only-of-type {\n",
       "        vertical-align: middle;\n",
       "    }\n",
       "\n",
       "    .dataframe tbody tr th {\n",
       "        vertical-align: top;\n",
       "    }\n",
       "\n",
       "    .dataframe thead th {\n",
       "        text-align: right;\n",
       "    }\n",
       "</style>\n",
       "<table border=\"1\" class=\"dataframe\">\n",
       "  <thead>\n",
       "    <tr style=\"text-align: right;\">\n",
       "      <th></th>\n",
       "      <th>epoch</th>\n",
       "      <th>score</th>\n",
       "      <th>learning_rate</th>\n",
       "      <th>max_depth</th>\n",
       "      <th>min_samples_leaf</th>\n",
       "      <th>min_samples_split</th>\n",
       "    </tr>\n",
       "  </thead>\n",
       "  <tbody>\n",
       "    <tr>\n",
       "      <th>6</th>\n",
       "      <td>6</td>\n",
       "      <td>86.37184</td>\n",
       "      <td>0.00976</td>\n",
       "      <td>19</td>\n",
       "      <td>16</td>\n",
       "      <td>4</td>\n",
       "    </tr>\n",
       "    <tr>\n",
       "      <th>46</th>\n",
       "      <td>46</td>\n",
       "      <td>86.52571</td>\n",
       "      <td>0.00941</td>\n",
       "      <td>97</td>\n",
       "      <td>13</td>\n",
       "      <td>38</td>\n",
       "    </tr>\n",
       "    <tr>\n",
       "      <th>9</th>\n",
       "      <td>9</td>\n",
       "      <td>86.71955</td>\n",
       "      <td>0.00895</td>\n",
       "      <td>70</td>\n",
       "      <td>17</td>\n",
       "      <td>47</td>\n",
       "    </tr>\n",
       "    <tr>\n",
       "      <th>1</th>\n",
       "      <td>1</td>\n",
       "      <td>86.83811</td>\n",
       "      <td>0.00994</td>\n",
       "      <td>58</td>\n",
       "      <td>32</td>\n",
       "      <td>18</td>\n",
       "    </tr>\n",
       "    <tr>\n",
       "      <th>28</th>\n",
       "      <td>28</td>\n",
       "      <td>87.21034</td>\n",
       "      <td>0.00875</td>\n",
       "      <td>11</td>\n",
       "      <td>25</td>\n",
       "      <td>47</td>\n",
       "    </tr>\n",
       "    <tr>\n",
       "      <th>48</th>\n",
       "      <td>48</td>\n",
       "      <td>87.22470</td>\n",
       "      <td>0.00825</td>\n",
       "      <td>18</td>\n",
       "      <td>16</td>\n",
       "      <td>41</td>\n",
       "    </tr>\n",
       "    <tr>\n",
       "      <th>0</th>\n",
       "      <td>0</td>\n",
       "      <td>87.39099</td>\n",
       "      <td>0.00820</td>\n",
       "      <td>53</td>\n",
       "      <td>19</td>\n",
       "      <td>8</td>\n",
       "    </tr>\n",
       "    <tr>\n",
       "      <th>43</th>\n",
       "      <td>43</td>\n",
       "      <td>87.39695</td>\n",
       "      <td>0.00945</td>\n",
       "      <td>56</td>\n",
       "      <td>38</td>\n",
       "      <td>47</td>\n",
       "    </tr>\n",
       "    <tr>\n",
       "      <th>11</th>\n",
       "      <td>11</td>\n",
       "      <td>87.96901</td>\n",
       "      <td>0.00898</td>\n",
       "      <td>51</td>\n",
       "      <td>41</td>\n",
       "      <td>47</td>\n",
       "    </tr>\n",
       "    <tr>\n",
       "      <th>29</th>\n",
       "      <td>29</td>\n",
       "      <td>88.08780</td>\n",
       "      <td>0.00899</td>\n",
       "      <td>53</td>\n",
       "      <td>5</td>\n",
       "      <td>23</td>\n",
       "    </tr>\n",
       "  </tbody>\n",
       "</table>\n",
       "</div>"
      ],
      "text/plain": [
       "    epoch    score  learning_rate  max_depth  min_samples_leaf  \\\n",
       "6       6 86.37184        0.00976         19                16   \n",
       "46     46 86.52571        0.00941         97                13   \n",
       "9       9 86.71955        0.00895         70                17   \n",
       "1       1 86.83811        0.00994         58                32   \n",
       "28     28 87.21034        0.00875         11                25   \n",
       "48     48 87.22470        0.00825         18                16   \n",
       "0       0 87.39099        0.00820         53                19   \n",
       "43     43 87.39695        0.00945         56                38   \n",
       "11     11 87.96901        0.00898         51                41   \n",
       "29     29 88.08780        0.00899         53                 5   \n",
       "\n",
       "    min_samples_split  \n",
       "6                   4  \n",
       "46                 38  \n",
       "9                  47  \n",
       "1                  18  \n",
       "28                 47  \n",
       "48                 41  \n",
       "0                   8  \n",
       "43                 47  \n",
       "11                 47  \n",
       "29                 23  "
      ]
     },
     "execution_count": 111,
     "metadata": {},
     "output_type": "execute_result"
    }
   ],
   "source": [
    "n_estimators = 300 # 3000까지 늘려보자\n",
    "num_epoch = 50\n",
    "\n",
    "coarse_hyperparameters_list = []\n",
    "\n",
    "for epoch in range(num_epoch):\n",
    "    max_depth = np.random.randint(low=2, high=100)\n",
    "    learning_rate = np.random.uniform(low=0.000001, high=0.01)\n",
    "    min_samples_leaf = np.random.randint(low=5, high=50)\n",
    "    min_samples_split = np.random.randint(low=3, high=50)\n",
    "\n",
    "    gbm_test = GradientBoostingRegressor(n_estimators=n_estimators,\n",
    "                                  max_depth=max_depth,\n",
    "                                  learning_rate=learning_rate,\n",
    "                                  min_samples_leaf=min_samples_leaf,\n",
    "                                      min_samples_split = min_samples_split,\n",
    "                                      max_features='sqrt', loss = 'huber',\n",
    "                                  random_state=37)\n",
    "\n",
    "    score = rmse_cv(gbm_test).mean()\n",
    "    \n",
    "    hyperparameters = {\n",
    "        'epoch': epoch,\n",
    "        'score': score,\n",
    "        'learning_rate': learning_rate,\n",
    "        'max_depth': max_depth,\n",
    "        'min_samples_leaf': min_samples_leaf,\n",
    "        'min_samples_split': min_samples_split,\n",
    "    }\n",
    "\n",
    "    coarse_hyperparameters_list.append(hyperparameters)\n",
    "\n",
    "    print(f\"{epoch:2} \\\n",
    "        learning_rate = {learning_rate}, max_depth = {max_depth:2}, min_samples_leaf = {min_samples_leaf}, \\\n",
    "        min_samples_split = {min_samples_split},\\\n",
    "        Score = {score:.5f}\")\n",
    "\n",
    "coarse_hyperparameters_list = pd.DataFrame.from_dict(coarse_hyperparameters_list)\n",
    "coarse_hyperparameters_list = coarse_hyperparameters_list.sort_values(by=\"score\")\n",
    "\n",
    "print(coarse_hyperparameters_list.shape)\n",
    "coarse_hyperparameters_list.head(10)"
   ]
  },
  {
   "cell_type": "markdown",
   "metadata": {},
   "source": [
    "**XGBRegressor**"
   ]
  },
  {
   "cell_type": "code",
   "execution_count": 74,
   "metadata": {},
   "outputs": [],
   "source": [
    "xgb_model = xgb.XGBRegressor(colsample_bytree=0.4603, gamma=0.0468, \n",
    "                             learning_rate=0.01, max_depth=35, \n",
    "                             min_child_weight=1.7817, n_estimators=200,\n",
    "                             reg_alpha=0.4640, reg_lambda=0.8571,\n",
    "                             subsample=0.5213, silent=1,\n",
    "                             random_state =1004, nthread = -1)"
   ]
  },
  {
   "cell_type": "markdown",
   "metadata": {},
   "source": [
    "**LGBMRegressor**"
   ]
  },
  {
   "cell_type": "code",
   "execution_count": 75,
   "metadata": {},
   "outputs": [],
   "source": [
    "lgb_model = lgb.LGBMRegressor(objective='regression', max_depth= 69,\n",
    "                              num_leaves=7, learning_rate=0.08698, n_estimators=300) "
   ]
  },
  {
   "cell_type": "code",
   "execution_count": 112,
   "metadata": {
    "scrolled": true
   },
   "outputs": [
    {
     "name": "stdout",
     "output_type": "stream",
     "text": [
      " 0         learning_rate = 0.029964436762650353, max_depth = 58, num_leaves = 61,         Score = 85.27719\n",
      " 1         learning_rate = 0.0707530153390303, max_depth = 17, num_leaves = 6,         Score = 84.56765\n",
      " 2         learning_rate = 0.006919746933122154, max_depth = 23, num_leaves = 55,         Score = 88.15753\n",
      " 3         learning_rate = 0.08452332105188051, max_depth = 90, num_leaves = 28,         Score = 85.42206\n",
      " 4         learning_rate = 0.005070388834092778, max_depth = 61, num_leaves = 39,         Score = 93.74685\n",
      " 5         learning_rate = 0.0767177138536767, max_depth = 27, num_leaves = 46,         Score = 86.16198\n",
      " 6         learning_rate = 0.08112354348054403, max_depth = 84, num_leaves = 65,         Score = 87.01877\n",
      " 7         learning_rate = 0.021622407786833695, max_depth = 16, num_leaves = 30,         Score = 84.67392\n",
      " 8         learning_rate = 0.07921817479634294, max_depth = 47, num_leaves = 94,         Score = 87.98846\n",
      " 9         learning_rate = 0.09854251869195652, max_depth = 34, num_leaves = 76,         Score = 88.09998\n",
      "10         learning_rate = 0.03773459576311546, max_depth = 24, num_leaves = 34,         Score = 84.73115\n",
      "11         learning_rate = 0.09240588945216967, max_depth =  7, num_leaves = 64,         Score = 85.58318\n",
      "12         learning_rate = 0.0720982122473813, max_depth = 73, num_leaves = 33,         Score = 85.32014\n",
      "13         learning_rate = 0.03554772972176269, max_depth =  3, num_leaves = 87,         Score = 87.53141\n",
      "14         learning_rate = 0.09894267943116908, max_depth = 71, num_leaves = 23,         Score = 85.11467\n",
      "15         learning_rate = 0.09458215314384381, max_depth = 34, num_leaves = 89,         Score = 88.40251\n",
      "16         learning_rate = 0.06233886891213278, max_depth = 96, num_leaves = 95,         Score = 87.41263\n",
      "17         learning_rate = 0.032265993351658674, max_depth =  7, num_leaves = 99,         Score = 84.86230\n",
      "18         learning_rate = 0.09222648866767426, max_depth = 77, num_leaves = 85,         Score = 88.13988\n",
      "19         learning_rate = 0.06936545745737181, max_depth = 38, num_leaves = 71,         Score = 86.97642\n",
      "20         learning_rate = 0.030617250659698565, max_depth = 45, num_leaves = 90,         Score = 85.87528\n",
      "21         learning_rate = 0.0968969077112192, max_depth = 64, num_leaves = 62,         Score = 87.38905\n",
      "22         learning_rate = 0.09358615572313847, max_depth = 44, num_leaves = 62,         Score = 87.22168\n",
      "23         learning_rate = 0.0075359561325437285, max_depth = 15, num_leaves = 26,         Score = 88.47727\n",
      "24         learning_rate = 0.016887574781408305, max_depth = 28, num_leaves = 94,         Score = 85.45599\n",
      "25         learning_rate = 0.06429529550468135, max_depth = 72, num_leaves = 52,         Score = 85.99183\n",
      "26         learning_rate = 0.028701020373134663, max_depth = 10, num_leaves = 25,         Score = 84.47752\n",
      "27         learning_rate = 0.0018916144629246951, max_depth = 41, num_leaves = 20,         Score = 127.68941\n",
      "28         learning_rate = 0.08865200506410792, max_depth = 30, num_leaves = 23,         Score = 84.90294\n",
      "29         learning_rate = 0.011147330470890572, max_depth =  8, num_leaves = 53,         Score = 85.26883\n",
      "30         learning_rate = 0.05238063762267221, max_depth = 29, num_leaves = 97,         Score = 86.97060\n",
      "31         learning_rate = 0.026550264729300634, max_depth = 15, num_leaves = 40,         Score = 84.78708\n",
      "32         learning_rate = 0.010856008735174063, max_depth = 47, num_leaves = 49,         Score = 85.36747\n",
      "33         learning_rate = 0.0769529358436909, max_depth = 48, num_leaves = 36,         Score = 85.64761\n",
      "34         learning_rate = 0.09048394896895265, max_depth = 48, num_leaves = 17,         Score = 84.75505\n",
      "35         learning_rate = 0.020904711669656156, max_depth = 34, num_leaves = 2,         Score = 115.39114\n",
      "36         learning_rate = 0.07390828624209116, max_depth = 20, num_leaves = 98,         Score = 87.95665\n",
      "37         learning_rate = 0.032460297948879065, max_depth = 21, num_leaves = 15,         Score = 84.63947\n",
      "38         learning_rate = 0.0882602701755504, max_depth = 28, num_leaves = 74,         Score = 87.61804\n",
      "39         learning_rate = 0.039125153858879394, max_depth = 95, num_leaves = 25,         Score = 84.49536\n",
      "40         learning_rate = 0.07616702161037722, max_depth = 73, num_leaves = 97,         Score = 87.90469\n",
      "41         learning_rate = 0.07700922633967003, max_depth = 10, num_leaves = 18,         Score = 84.64802\n",
      "42         learning_rate = 0.019418411578270053, max_depth = 84, num_leaves = 83,         Score = 85.39219\n",
      "43         learning_rate = 0.06901517157345473, max_depth = 89, num_leaves = 44,         Score = 85.81879\n",
      "44         learning_rate = 0.08777986403703456, max_depth = 83, num_leaves = 45,         Score = 86.46021\n",
      "45         learning_rate = 0.08253894309211289, max_depth = 83, num_leaves = 79,         Score = 87.54484\n",
      "46         learning_rate = 0.021568359104135296, max_depth =  6, num_leaves = 6,         Score = 87.35035\n",
      "47         learning_rate = 0.03114693777925005, max_depth = 50, num_leaves = 86,         Score = 85.95487\n",
      "48         learning_rate = 0.01785481029116113, max_depth = 15, num_leaves = 55,         Score = 84.93519\n",
      "49         learning_rate = 0.0041286284264836935, max_depth = 38, num_leaves = 27,         Score = 100.11814\n",
      "50         learning_rate = 0.09584055201592724, max_depth = 84, num_leaves = 98,         Score = 88.53573\n",
      "51         learning_rate = 0.07076146126046916, max_depth = 68, num_leaves = 62,         Score = 86.73419\n",
      "52         learning_rate = 0.08520701493507868, max_depth = 16, num_leaves = 89,         Score = 88.00076\n",
      "53         learning_rate = 0.032925585561490105, max_depth =  8, num_leaves = 70,         Score = 84.91118\n",
      "54         learning_rate = 0.050421587062745736, max_depth = 85, num_leaves = 71,         Score = 86.29489\n",
      "55         learning_rate = 0.08774387199059419, max_depth = 32, num_leaves = 14,         Score = 84.61117\n",
      "56         learning_rate = 0.06720694442082113, max_depth = 44, num_leaves = 59,         Score = 86.38874\n",
      "57         learning_rate = 0.0024843342962317726, max_depth = 38, num_leaves = 56,         Score = 114.85600\n",
      "58         learning_rate = 0.060137200666418665, max_depth = 67, num_leaves = 19,         Score = 84.45399\n",
      "59         learning_rate = 0.04862425371831093, max_depth = 54, num_leaves = 75,         Score = 86.41306\n",
      "60         learning_rate = 0.02044177744514994, max_depth = 86, num_leaves = 60,         Score = 85.13851\n",
      "61         learning_rate = 0.02143047950800648, max_depth = 87, num_leaves = 22,         Score = 84.55248\n",
      "62         learning_rate = 0.054154961363056, max_depth = 72, num_leaves = 2,         Score = 111.97707\n",
      "63         learning_rate = 0.05695590530478529, max_depth = 11, num_leaves = 14,         Score = 84.48031\n",
      "64         learning_rate = 0.03283874438297665, max_depth = 99, num_leaves = 83,         Score = 86.00528\n",
      "65         learning_rate = 0.03054531006164721, max_depth = 24, num_leaves = 84,         Score = 85.86266\n",
      "66         learning_rate = 0.025482432858161763, max_depth = 68, num_leaves = 90,         Score = 85.69653\n",
      "67         learning_rate = 0.0010621713796979636, max_depth = 54, num_leaves = 6,         Score = 151.42168\n",
      "68         learning_rate = 0.08698487485887882, max_depth = 69, num_leaves = 7,         Score = 84.24543\n",
      "69         learning_rate = 0.0019910513128298976, max_depth = 27, num_leaves = 19,         Score = 126.12197\n",
      "70         learning_rate = 0.07550459259139038, max_depth = 34, num_leaves = 68,         Score = 87.05096\n",
      "71         learning_rate = 0.008321583829631269, max_depth = 24, num_leaves = 52,         Score = 86.62912\n",
      "72         learning_rate = 0.09771171575015238, max_depth = 70, num_leaves = 25,         Score = 85.21244\n",
      "73         learning_rate = 0.09237731717213518, max_depth = 67, num_leaves = 91,         Score = 88.41232\n",
      "74         learning_rate = 0.07620494028006322, max_depth = 25, num_leaves = 41,         Score = 85.78317\n",
      "75         learning_rate = 0.09822020226250582, max_depth = 34, num_leaves = 54,         Score = 87.08799\n",
      "76         learning_rate = 0.012590506955118416, max_depth = 22, num_leaves = 88,         Score = 85.49290\n",
      "77         learning_rate = 0.06045300868770009, max_depth = 74, num_leaves = 16,         Score = 84.52103\n"
     ]
    },
    {
     "name": "stdout",
     "output_type": "stream",
     "text": [
      "78         learning_rate = 0.06336248149449833, max_depth = 61, num_leaves = 68,         Score = 86.66330\n",
      "79         learning_rate = 0.06123165319671369, max_depth = 77, num_leaves = 79,         Score = 86.96492\n",
      "(80, 5)\n"
     ]
    },
    {
     "data": {
      "text/html": [
       "<div>\n",
       "<style scoped>\n",
       "    .dataframe tbody tr th:only-of-type {\n",
       "        vertical-align: middle;\n",
       "    }\n",
       "\n",
       "    .dataframe tbody tr th {\n",
       "        vertical-align: top;\n",
       "    }\n",
       "\n",
       "    .dataframe thead th {\n",
       "        text-align: right;\n",
       "    }\n",
       "</style>\n",
       "<table border=\"1\" class=\"dataframe\">\n",
       "  <thead>\n",
       "    <tr style=\"text-align: right;\">\n",
       "      <th></th>\n",
       "      <th>epoch</th>\n",
       "      <th>score</th>\n",
       "      <th>learning_rate</th>\n",
       "      <th>max_depth</th>\n",
       "      <th>num_leaves</th>\n",
       "    </tr>\n",
       "  </thead>\n",
       "  <tbody>\n",
       "    <tr>\n",
       "      <th>68</th>\n",
       "      <td>68</td>\n",
       "      <td>84.24543</td>\n",
       "      <td>0.08698</td>\n",
       "      <td>69</td>\n",
       "      <td>7</td>\n",
       "    </tr>\n",
       "    <tr>\n",
       "      <th>58</th>\n",
       "      <td>58</td>\n",
       "      <td>84.45399</td>\n",
       "      <td>0.06014</td>\n",
       "      <td>67</td>\n",
       "      <td>19</td>\n",
       "    </tr>\n",
       "    <tr>\n",
       "      <th>26</th>\n",
       "      <td>26</td>\n",
       "      <td>84.47752</td>\n",
       "      <td>0.02870</td>\n",
       "      <td>10</td>\n",
       "      <td>25</td>\n",
       "    </tr>\n",
       "    <tr>\n",
       "      <th>63</th>\n",
       "      <td>63</td>\n",
       "      <td>84.48031</td>\n",
       "      <td>0.05696</td>\n",
       "      <td>11</td>\n",
       "      <td>14</td>\n",
       "    </tr>\n",
       "    <tr>\n",
       "      <th>39</th>\n",
       "      <td>39</td>\n",
       "      <td>84.49536</td>\n",
       "      <td>0.03913</td>\n",
       "      <td>95</td>\n",
       "      <td>25</td>\n",
       "    </tr>\n",
       "    <tr>\n",
       "      <th>77</th>\n",
       "      <td>77</td>\n",
       "      <td>84.52103</td>\n",
       "      <td>0.06045</td>\n",
       "      <td>74</td>\n",
       "      <td>16</td>\n",
       "    </tr>\n",
       "    <tr>\n",
       "      <th>61</th>\n",
       "      <td>61</td>\n",
       "      <td>84.55248</td>\n",
       "      <td>0.02143</td>\n",
       "      <td>87</td>\n",
       "      <td>22</td>\n",
       "    </tr>\n",
       "    <tr>\n",
       "      <th>1</th>\n",
       "      <td>1</td>\n",
       "      <td>84.56765</td>\n",
       "      <td>0.07075</td>\n",
       "      <td>17</td>\n",
       "      <td>6</td>\n",
       "    </tr>\n",
       "    <tr>\n",
       "      <th>55</th>\n",
       "      <td>55</td>\n",
       "      <td>84.61117</td>\n",
       "      <td>0.08774</td>\n",
       "      <td>32</td>\n",
       "      <td>14</td>\n",
       "    </tr>\n",
       "    <tr>\n",
       "      <th>37</th>\n",
       "      <td>37</td>\n",
       "      <td>84.63947</td>\n",
       "      <td>0.03246</td>\n",
       "      <td>21</td>\n",
       "      <td>15</td>\n",
       "    </tr>\n",
       "  </tbody>\n",
       "</table>\n",
       "</div>"
      ],
      "text/plain": [
       "    epoch    score  learning_rate  max_depth  num_leaves\n",
       "68     68 84.24543        0.08698         69           7\n",
       "58     58 84.45399        0.06014         67          19\n",
       "26     26 84.47752        0.02870         10          25\n",
       "63     63 84.48031        0.05696         11          14\n",
       "39     39 84.49536        0.03913         95          25\n",
       "77     77 84.52103        0.06045         74          16\n",
       "61     61 84.55248        0.02143         87          22\n",
       "1       1 84.56765        0.07075         17           6\n",
       "55     55 84.61117        0.08774         32          14\n",
       "37     37 84.63947        0.03246         21          15"
      ]
     },
     "execution_count": 112,
     "metadata": {},
     "output_type": "execute_result"
    }
   ],
   "source": [
    "n_estimators = 300 # 3000까지 늘려보자\n",
    "num_epoch = 80\n",
    "\n",
    "coarse_hyperparameters_list = []\n",
    "\n",
    "for epoch in range(num_epoch):\n",
    "    max_depth = np.random.randint(low=2, high=100)\n",
    "    learning_rate = np.random.uniform(low=0.000001, high=0.1)\n",
    "    num_leaves = np.random.randint(low=2, high=100)\n",
    "\n",
    "    lgb_test = lgb.LGBMRegressor(objective='regression', \n",
    "                                 n_estimators = n_estimators,\n",
    "                                 num_leaves= num_leaves, \n",
    "                                 max_depth = max_depth,\n",
    "                                 learning_rate=learning_rate\n",
    "                                ) \n",
    "\n",
    "    score = rmse_cv(lgb_test).mean()\n",
    "    \n",
    "    hyperparameters = {\n",
    "        'epoch': epoch,\n",
    "        'score': score,\n",
    "        'learning_rate': learning_rate,\n",
    "        'max_depth': max_depth,\n",
    "        'num_leaves': num_leaves,\n",
    "    }\n",
    "\n",
    "    coarse_hyperparameters_list.append(hyperparameters)\n",
    "\n",
    "    print(f\"{epoch:2} \\\n",
    "        learning_rate = {learning_rate}, max_depth = {max_depth:2}, num_leaves = {num_leaves}, \\\n",
    "        Score = {score:.5f}\")\n",
    "\n",
    "coarse_hyperparameters_list = pd.DataFrame.from_dict(coarse_hyperparameters_list)\n",
    "coarse_hyperparameters_list = coarse_hyperparameters_list.sort_values(by=\"score\")\n",
    "\n",
    "print(coarse_hyperparameters_list.shape)\n",
    "coarse_hyperparameters_list.head(10)"
   ]
  },
  {
   "cell_type": "markdown",
   "metadata": {},
   "source": [
    "### score"
   ]
  },
  {
   "cell_type": "code",
   "execution_count": 77,
   "metadata": {},
   "outputs": [
    {
     "name": "stdout",
     "output_type": "stream",
     "text": [
      "\n",
      "Decision tree score: 64.9661 (3.7753)\n",
      "\n"
     ]
    }
   ],
   "source": [
    "score = rmse_cv(dt)\n",
    "print(\"\\nDecision tree score: {:.4f} ({:.4f})\\n\".format(score.mean(), score.std()))"
   ]
  },
  {
   "cell_type": "code",
   "execution_count": 78,
   "metadata": {},
   "outputs": [
    {
     "name": "stdout",
     "output_type": "stream",
     "text": [
      "\n",
      "KNN score: 106.0759 (2.6811)\n",
      "\n"
     ]
    }
   ],
   "source": [
    "score = rmse_cv(knn)    \n",
    "print(\"\\nKNN score: {:.4f} ({:.4f})\\n\".format(score.mean(), score.std()))"
   ]
  },
  {
   "cell_type": "code",
   "execution_count": 79,
   "metadata": {},
   "outputs": [
    {
     "name": "stdout",
     "output_type": "stream",
     "text": [
      "\n",
      "Random Forest score: 58.4866 (3.5351)\n",
      "\n"
     ]
    }
   ],
   "source": [
    "score = rmse_cv(rf)   \n",
    "print(\"\\nRandom Forest score: {:.4f} ({:.4f})\\n\".format(score.mean(), score.std()))"
   ]
  },
  {
   "cell_type": "code",
   "execution_count": 80,
   "metadata": {},
   "outputs": [
    {
     "name": "stdout",
     "output_type": "stream",
     "text": [
      "\n",
      "GBM score: 58.7969 (2.5224)\n",
      "\n"
     ]
    }
   ],
   "source": [
    "score = rmse_cv(gbm)\n",
    "print(\"\\nGBM score: {:.4f} ({:.4f})\\n\".format(score.mean(), score.std()))"
   ]
  },
  {
   "cell_type": "code",
   "execution_count": 81,
   "metadata": {},
   "outputs": [
    {
     "name": "stdout",
     "output_type": "stream",
     "text": [
      "[23:49:58] WARNING: /Users/travis/build/dmlc/xgboost/src/learner.cc:480: \n",
      "Parameters: { silent } might not be used.\n",
      "\n",
      "  This may not be accurate due to some parameters are only used in language bindings but\n",
      "  passed down to XGBoost core.  Or some parameters are not used but slip through this\n",
      "  verification. Please open an issue if you find above cases.\n",
      "\n",
      "\n",
      "[23:50:00] WARNING: /Users/travis/build/dmlc/xgboost/src/learner.cc:480: \n",
      "Parameters: { silent } might not be used.\n",
      "\n",
      "  This may not be accurate due to some parameters are only used in language bindings but\n",
      "  passed down to XGBoost core.  Or some parameters are not used but slip through this\n",
      "  verification. Please open an issue if you find above cases.\n",
      "\n",
      "\n",
      "[23:50:01] WARNING: /Users/travis/build/dmlc/xgboost/src/learner.cc:480: \n",
      "Parameters: { silent } might not be used.\n",
      "\n",
      "  This may not be accurate due to some parameters are only used in language bindings but\n",
      "  passed down to XGBoost core.  Or some parameters are not used but slip through this\n",
      "  verification. Please open an issue if you find above cases.\n",
      "\n",
      "\n",
      "[23:50:02] WARNING: /Users/travis/build/dmlc/xgboost/src/learner.cc:480: \n",
      "Parameters: { silent } might not be used.\n",
      "\n",
      "  This may not be accurate due to some parameters are only used in language bindings but\n",
      "  passed down to XGBoost core.  Or some parameters are not used but slip through this\n",
      "  verification. Please open an issue if you find above cases.\n",
      "\n",
      "\n",
      "[23:50:03] WARNING: /Users/travis/build/dmlc/xgboost/src/learner.cc:480: \n",
      "Parameters: { silent } might not be used.\n",
      "\n",
      "  This may not be accurate due to some parameters are only used in language bindings but\n",
      "  passed down to XGBoost core.  Or some parameters are not used but slip through this\n",
      "  verification. Please open an issue if you find above cases.\n",
      "\n",
      "\n",
      "\n",
      "XGBoost score: 75.3592 (4.6944)\n",
      "\n"
     ]
    }
   ],
   "source": [
    "score = rmse_cv(xgb_model) \n",
    "print(\"\\nXGBoost score: {:.4f} ({:.4f})\\n\".format(score.mean(), score.std()))"
   ]
  },
  {
   "cell_type": "code",
   "execution_count": 82,
   "metadata": {},
   "outputs": [
    {
     "name": "stdout",
     "output_type": "stream",
     "text": [
      "\n",
      "LGBM score: 45.6759 (2.9533)\n",
      "\n"
     ]
    }
   ],
   "source": [
    "score = rmse_cv(lgb_model) \n",
    "print(\"\\nLGBM score: {:.4f} ({:.4f})\\n\".format(score.mean(), score.std()))"
   ]
  },
  {
   "cell_type": "markdown",
   "metadata": {},
   "source": [
    "# 3. Stacking models "
   ]
  },
  {
   "cell_type": "markdown",
   "metadata": {},
   "source": [
    "### Use StackingAveragedModels"
   ]
  },
  {
   "cell_type": "code",
   "execution_count": 83,
   "metadata": {},
   "outputs": [],
   "source": [
    "class StackingAveragedModels(BaseEstimator, RegressorMixin, TransformerMixin):\n",
    "    def __init__(self, base_models, meta_model, n_folds=5):\n",
    "        self.base_models = base_models\n",
    "        self.meta_model = meta_model\n",
    "        self.n_folds = n_folds\n",
    "   \n",
    "    # We again fit the data on clones of the original models\n",
    "    def fit(self, X, y):\n",
    "        self.base_models_ = [list() for x in self.base_models]\n",
    "        self.meta_model_ = clone(self.meta_model)\n",
    "        kfold = KFold(n_splits=self.n_folds, shuffle=True, random_state=156)\n",
    "        \n",
    "        # Train cloned base models then create out-of-fold predictions\n",
    "        # that are needed to train the cloned meta-model\n",
    "        out_of_fold_predictions = np.zeros((X.shape[0], len(self.base_models)))\n",
    "        for i, model in enumerate(self.base_models):\n",
    "            for train_index, holdout_index in kfold.split(X, y):\n",
    "                instance = clone(model)\n",
    "                self.base_models_[i].append(instance)\n",
    "                instance.fit(X.iloc[train_index], y.iloc[train_index])\n",
    "                y_pred = instance.predict(X.iloc[holdout_index])\n",
    "                out_of_fold_predictions[holdout_index, i] = y_pred\n",
    "                \n",
    "        # Now train the cloned  meta-model using the out-of-fold predictions as new feature\n",
    "        self.meta_model_.fit(out_of_fold_predictions, y)\n",
    "        return self\n",
    "   \n",
    "    #Do the predictions of all base models on the test data and use the averaged predictions as \n",
    "    #meta-features for the final prediction which is done by the meta-model \n",
    "    def predict(self, X):\n",
    "        meta_features = np.column_stack([\n",
    "            np.column_stack([model.predict(X) for model in base_models]).mean(axis=1)\n",
    "            for base_models in self.base_models_ ])\n",
    "        return self.meta_model_.predict(meta_features)"
   ]
  },
  {
   "cell_type": "code",
   "execution_count": 84,
   "metadata": {},
   "outputs": [
    {
     "data": {
      "text/plain": [
       "StackingAveragedModels(base_models=[Pipeline(steps=[('randomforestregressor',\n",
       "                                                     RandomForestRegressor(max_depth=47,\n",
       "                                                                           max_features=0.61204,\n",
       "                                                                           min_samples_leaf=4,\n",
       "                                                                           min_samples_split=19,\n",
       "                                                                           n_estimators=1000,\n",
       "                                                                           random_state=37))]),\n",
       "                                    KNeighborsRegressor(metric='manhattan',\n",
       "                                                        n_neighbors=6,\n",
       "                                                        weights='distance'),\n",
       "                                    LGBMRegressor(learning_rate=0.08698,\n",
       "                                                  max_depth=69,\n",
       "                                                  n_estimators=300,\n",
       "                                                  num_leaves=7,\n",
       "                                                  objective='regression')],\n",
       "                       meta_model=Pipeline(steps=[('randomforestregressor',\n",
       "                                                   RandomForestRegressor(max_depth=47,\n",
       "                                                                         max_features=0.61204,\n",
       "                                                                         min_samples_leaf=4,\n",
       "                                                                         min_samples_split=19,\n",
       "                                                                         n_estimators=1000,\n",
       "                                                                         random_state=37))]))"
      ]
     },
     "execution_count": 84,
     "metadata": {},
     "output_type": "execute_result"
    }
   ],
   "source": [
    "stacked_averaged_models = StackingAveragedModels(base_models = [rf, knn ,lgb_model],\n",
    "                                                 meta_model = rf)\n",
    "\n",
    "stacked_averaged_models.fit(X_train, y_train)"
   ]
  },
  {
   "cell_type": "code",
   "execution_count": 85,
   "metadata": {},
   "outputs": [
    {
     "name": "stdout",
     "output_type": "stream",
     "text": [
      "48.758673814647395\n"
     ]
    }
   ],
   "source": [
    "stacked_train_pred = stacked_averaged_models.predict(X_test)\n",
    "print(rmse(y_test, stacked_train_pred))"
   ]
  },
  {
   "cell_type": "markdown",
   "metadata": {},
   "source": [
    "### Use StackingRegressor"
   ]
  },
  {
   "cell_type": "code",
   "execution_count": 86,
   "metadata": {},
   "outputs": [
    {
     "data": {
      "text/plain": [
       "StackingRegressor(cv=10,\n",
       "                  estimators=[('knn',\n",
       "                               KNeighborsRegressor(metric='manhattan',\n",
       "                                                   n_neighbors=6,\n",
       "                                                   weights='distance')),\n",
       "                              ('rf',\n",
       "                               Pipeline(steps=[('randomforestregressor',\n",
       "                                                RandomForestRegressor(max_depth=47,\n",
       "                                                                      max_features=0.61204,\n",
       "                                                                      min_samples_leaf=4,\n",
       "                                                                      min_samples_split=19,\n",
       "                                                                      n_estimators=1000,\n",
       "                                                                      random_state=37))])),\n",
       "                              ('lgb',\n",
       "                               LGBMRegressor(learning_rate=0.08698,\n",
       "                                             max_depth=69, n_estimators=300,\n",
       "                                             num_leaves=7,\n",
       "                                             objective='regression'))],\n",
       "                  final_estimator=RandomForestRegressor(max_depth=47,\n",
       "                                                        max_features=0.61204,\n",
       "                                                        min_samples_leaf=4,\n",
       "                                                        min_samples_split=19,\n",
       "                                                        n_estimators=1000,\n",
       "                                                        random_state=37),\n",
       "                  n_jobs=3, verbose=3)"
      ]
     },
     "execution_count": 86,
     "metadata": {},
     "output_type": "execute_result"
    }
   ],
   "source": [
    "from sklearn.ensemble import StackingRegressor\n",
    "\n",
    "# 파라미터 설정\n",
    "estimators = [\n",
    "              ('knn', knn),\n",
    "              ('rf',rf),\n",
    "              ('lgb',lgb_model)\n",
    "]\n",
    "              \n",
    "# Stacking\n",
    "reg = StackingRegressor(\n",
    "    estimators = estimators,\n",
    "    final_estimator = RandomForestRegressor(n_estimators = 1000,\n",
    "                                         max_depth = 47,\n",
    "                                         max_features = 0.61204,\n",
    "                                         min_samples_split = 19,\n",
    "                                         min_samples_leaf = 4,\n",
    "                                         random_state=37),\n",
    "    cv = 10,\n",
    "    n_jobs=3,\n",
    "    verbose=3\n",
    "    )\n",
    "\n",
    "# fit\n",
    "reg.fit(X_train, y_train)"
   ]
  },
  {
   "cell_type": "code",
   "execution_count": 87,
   "metadata": {},
   "outputs": [
    {
     "data": {
      "text/plain": [
       "48.44268869988874"
      ]
     },
     "execution_count": 87,
     "metadata": {},
     "output_type": "execute_result"
    }
   ],
   "source": [
    "rmse(y_test, reg.predict(X_test))"
   ]
  },
  {
   "cell_type": "code",
   "execution_count": null,
   "metadata": {},
   "outputs": [],
   "source": []
  }
 ],
 "metadata": {
  "kernelspec": {
   "display_name": "Python 3",
   "language": "python",
   "name": "python3"
  },
  "language_info": {
   "codemirror_mode": {
    "name": "ipython",
    "version": 3
   },
   "file_extension": ".py",
   "mimetype": "text/x-python",
   "name": "python",
   "nbconvert_exporter": "python",
   "pygments_lexer": "ipython3",
   "version": "3.7.4"
  },
  "latex_envs": {
   "LaTeX_envs_menu_present": true,
   "autoclose": true,
   "autocomplete": true,
   "bibliofile": "biblio.bib",
   "cite_by": "apalike",
   "current_citInitial": 1,
   "eqLabelWithNumbers": true,
   "eqNumInitial": 1,
   "hotkeys": {
    "equation": "Ctrl-E",
    "itemize": "Ctrl-I"
   },
   "labels_anchors": false,
   "latex_user_defs": false,
   "report_style_numbering": false,
   "user_envs_cfg": false
  }
 },
 "nbformat": 4,
 "nbformat_minor": 1
}
