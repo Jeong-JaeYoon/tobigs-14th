{
 "cells": [
  {
   "cell_type": "markdown",
   "metadata": {},
   "source": [
    "# 네이버 자주 본 뉴스 크롤링\n",
    "\n",
    "1) 수집내용\n",
    "\n",
    "    1) 많이본뉴스–섹션별(정치~IT/과학)Top5기사제목,신문사,뷰 \n",
    "    2) 해당 기사별 기사 내용, 리액션 (좋아요 ~ 후속기사 원해요)\n",
    "    \n",
    "2) 수집방법(택1)\n",
    "\n",
    "    1) [기본] Requests , BeautifulSoup, Selenium\n",
    "    2) [심화] Requests, BeautifulSoup (+ 멀티프로세싱)\n",
    "    \n",
    "3) 수집범위 및 저장\n",
    "\n",
    "    1) 2019년7월21일~2020년8월20일(동작가능,실제구동x)\n",
    "    2) 하나의 파일로 저장 (방식 자유)\n",
    "    3) Ex)총6섹션*Top5*365일=10950rows"
   ]
  },
  {
   "cell_type": "code",
   "execution_count": 1,
   "metadata": {},
   "outputs": [],
   "source": [
    "import requests\n",
    "import pandas as pd\n",
    "from bs4 import BeautifulSoup\n",
    "\n",
    "from selenium import webdriver\n",
    "from IPython.display import Image\n",
    "import os\n",
    "from pathlib import Path\n",
    "import glob\n",
    "\n",
    "import datetime\n",
    "\n",
    "from multiprocess import Pool\n",
    "import concurrent\n",
    "\n",
    "from tqdm import tqdm"
   ]
  },
  {
   "cell_type": "markdown",
   "metadata": {},
   "source": [
    "## 날짜 String 생성"
   ]
  },
  {
   "cell_type": "code",
   "execution_count": 2,
   "metadata": {},
   "outputs": [
    {
     "data": {
      "text/plain": [
       "'20190721'"
      ]
     },
     "execution_count": 2,
     "metadata": {},
     "output_type": "execute_result"
    }
   ],
   "source": [
    "start_date = datetime.datetime(2019, 7, 21, 3, 22, 32)\n",
    "start_date.strftime(\"%Y%m%d\") #strftime 활용 예시"
   ]
  },
  {
   "cell_type": "code",
   "execution_count": 3,
   "metadata": {},
   "outputs": [],
   "source": [
    "def get_date_string(start_date, period=365):\n",
    "    # 20190721 형태의 Date String List 생성\n",
    "    return [\n",
    "        (start_date + datetime.timedelta(days=day)).strftime(\"%Y%m%d\")\n",
    "        for day in range(period)\n",
    "    ]"
   ]
  },
  {
   "cell_type": "code",
   "execution_count": 4,
   "metadata": {},
   "outputs": [],
   "source": [
    "date_string_list = get_date_string(start_date, 365)"
   ]
  },
  {
   "cell_type": "code",
   "execution_count": 5,
   "metadata": {},
   "outputs": [
    {
     "data": {
      "text/plain": [
       "('20190721', '20200719')"
      ]
     },
     "execution_count": 5,
     "metadata": {},
     "output_type": "execute_result"
    }
   ],
   "source": [
    "date_string_list[0], date_string_list[-1] # 생성 완료"
   ]
  },
  {
   "cell_type": "markdown",
   "metadata": {},
   "source": [
    "## Part 1. Request를 이용한 크롤링"
   ]
  },
  {
   "cell_type": "code",
   "execution_count": 6,
   "metadata": {},
   "outputs": [],
   "source": [
    "def get_top_news(date):\n",
    "    \n",
    "    # window에서 multiprocess 사용하기 위해 함수 안에서도 임포트\n",
    "    import requests\n",
    "    from bs4 import BeautifulSoup\n",
    "    \n",
    "    \"\"\"\n",
    "    해당 날짜의 자주 본 뉴스 25개에 대한 정보를 반환하는 함수입니다.\n",
    "    \"\"\"\n",
    "    url = f\"https://news.naver.com/main/ranking/popularDay.nhn?rankingType=popular_day&date={date}\" # 이부분을 잘 채워넣어주세요 (네이버 뉴스 자주보는 뉴스 링크에서 date를 제외한 부분)\n",
    "    res = requests.get(url)\n",
    "    soup = BeautifulSoup(res.text, \"html.parser\")\n",
    "    \n",
    "    result = []\n",
    "    \n",
    "    for section in range(4, 10):\n",
    "        for i in range(1, 6):\n",
    "            # 특정 뉴스 박스 선택\n",
    "            box = soup.select(f'#wrap > table > tr > td.content > div > div:nth-child({section}) > ol > li.num{i}')[0]\n",
    "            # 그 중 제목과 링크 있는 부분 선택 후 추출\n",
    "            tmp = box.select('dl > dt > a')[0]\n",
    "            title = tmp.text\n",
    "            link = tmp['href']\n",
    "            # 신문사와 조회수도 추출\n",
    "            company = box.select('span')[-2].text.strip()\n",
    "            views = box.select('.count_view')[0].text\n",
    "            # result에 추가\n",
    "            result.append([title, link, company, views])\n",
    "                \n",
    "    return result"
   ]
  },
  {
   "cell_type": "code",
   "execution_count": 7,
   "metadata": {},
   "outputs": [
    {
     "name": "stderr",
     "output_type": "stream",
     "text": [
      "100%|████████████████████████████████████████████████████████████████████████████████| 365/365 [00:15<00:00, 24.30it/s]\n"
     ]
    }
   ],
   "source": [
    "with Pool(14) as pool:\n",
    "    news_data = list(tqdm(pool.imap(get_top_news, date_string_list), total=len(date_string_list)))"
   ]
  },
  {
   "cell_type": "code",
   "execution_count": 8,
   "metadata": {},
   "outputs": [],
   "source": [
    "def flatten(l):\n",
    "    return [y for x in l for y in x]\n",
    "\n",
    "news_data = flatten(news_data)"
   ]
  },
  {
   "cell_type": "code",
   "execution_count": 9,
   "metadata": {},
   "outputs": [
    {
     "data": {
      "text/plain": [
       "10950"
      ]
     },
     "execution_count": 9,
     "metadata": {},
     "output_type": "execute_result"
    }
   ],
   "source": [
    "len(news_data)"
   ]
  },
  {
   "cell_type": "code",
   "execution_count": 10,
   "metadata": {},
   "outputs": [
    {
     "data": {
      "text/plain": [
       "[['[단독] 황교안 딸 운영 사이트, 대학 진학 후 왜 문 닫았나',\n",
       "  '/main/ranking/read.nhn?mid=etc&sid1=111&rankingType=popular_day&oid=032&aid=0002952683&date=20190721&type=1&rankingSectionId=100&rankingSeq=1',\n",
       "  '경향신문',\n",
       "  '201,039'],\n",
       " ['조국 폭풍페북, 日주장 정면반박…\"친일파\" 표현은 野 반발',\n",
       "  '/main/ranking/read.nhn?mid=etc&sid1=111&rankingType=popular_day&oid=008&aid=0004251344&date=20190721&type=1&rankingSectionId=100&rankingSeq=2',\n",
       "  '머니투데이',\n",
       "  '185,396'],\n",
       " ['조국, 연일 對日 \\'항전\\' 주문…\"겁먹고 쫄지말자…싸워 이겨…',\n",
       "  '/main/ranking/read.nhn?mid=etc&sid1=111&rankingType=popular_day&oid=001&aid=0010969325&date=20190721&type=1&rankingSectionId=100&rankingSeq=3',\n",
       "  '연합뉴스',\n",
       "  '130,198'],\n",
       " ['[김순덕의 도발]복수를 하려면 아일랜드처럼!',\n",
       "  '/main/ranking/read.nhn?mid=etc&sid1=111&rankingType=popular_day&oid=020&aid=0003230442&date=20190721&type=1&rankingSectionId=100&rankingSeq=4',\n",
       "  '동아일보',\n",
       "  '120,897'],\n",
       " ['조국, 또 페북에 反日 선전전...\"文정부, 서희·이순신 역할…',\n",
       "  '/main/ranking/read.nhn?mid=etc&sid1=111&rankingType=popular_day&oid=023&aid=0003462170&date=20190721&type=1&rankingSectionId=100&rankingSeq=5',\n",
       "  '조선일보',\n",
       "  '119,463']]"
      ]
     },
     "execution_count": 10,
     "metadata": {},
     "output_type": "execute_result"
    }
   ],
   "source": [
    "news_data[:5] # 결과 예시"
   ]
  },
  {
   "cell_type": "code",
   "execution_count": 11,
   "metadata": {},
   "outputs": [],
   "source": [
    "# 결과물을 데이터 프레임으로 변환 및 Column Name 부여\n",
    "df_top_news = pd.DataFrame(news_data, columns=[\"title\", \"url\", \"press\", \"views\"])"
   ]
  },
  {
   "cell_type": "code",
   "execution_count": 12,
   "metadata": {},
   "outputs": [],
   "source": [
    "# URL 앞에  \"https://news.naver.com\" 붙이기\n",
    "df_top_news['url'] = df_top_news['url'].apply(lambda x: 'https://news.naver.com'+x)"
   ]
  },
  {
   "cell_type": "code",
   "execution_count": 13,
   "metadata": {},
   "outputs": [
    {
     "data": {
      "text/html": [
       "<div>\n",
       "<style scoped>\n",
       "    .dataframe tbody tr th:only-of-type {\n",
       "        vertical-align: middle;\n",
       "    }\n",
       "\n",
       "    .dataframe tbody tr th {\n",
       "        vertical-align: top;\n",
       "    }\n",
       "\n",
       "    .dataframe thead th {\n",
       "        text-align: right;\n",
       "    }\n",
       "</style>\n",
       "<table border=\"1\" class=\"dataframe\">\n",
       "  <thead>\n",
       "    <tr style=\"text-align: right;\">\n",
       "      <th></th>\n",
       "      <th>title</th>\n",
       "      <th>url</th>\n",
       "      <th>press</th>\n",
       "      <th>views</th>\n",
       "    </tr>\n",
       "  </thead>\n",
       "  <tbody>\n",
       "    <tr>\n",
       "      <th>0</th>\n",
       "      <td>[단독] 황교안 딸 운영 사이트, 대학 진학 후 왜 문 닫았나</td>\n",
       "      <td>https://news.naver.com/main/ranking/read.nhn?m...</td>\n",
       "      <td>경향신문</td>\n",
       "      <td>201,039</td>\n",
       "    </tr>\n",
       "    <tr>\n",
       "      <th>1</th>\n",
       "      <td>조국 폭풍페북, 日주장 정면반박…\"친일파\" 표현은 野 반발</td>\n",
       "      <td>https://news.naver.com/main/ranking/read.nhn?m...</td>\n",
       "      <td>머니투데이</td>\n",
       "      <td>185,396</td>\n",
       "    </tr>\n",
       "    <tr>\n",
       "      <th>2</th>\n",
       "      <td>조국, 연일 對日 '항전' 주문…\"겁먹고 쫄지말자…싸워 이겨…</td>\n",
       "      <td>https://news.naver.com/main/ranking/read.nhn?m...</td>\n",
       "      <td>연합뉴스</td>\n",
       "      <td>130,198</td>\n",
       "    </tr>\n",
       "    <tr>\n",
       "      <th>3</th>\n",
       "      <td>[김순덕의 도발]복수를 하려면 아일랜드처럼!</td>\n",
       "      <td>https://news.naver.com/main/ranking/read.nhn?m...</td>\n",
       "      <td>동아일보</td>\n",
       "      <td>120,897</td>\n",
       "    </tr>\n",
       "    <tr>\n",
       "      <th>4</th>\n",
       "      <td>조국, 또 페북에 反日 선전전...\"文정부, 서희·이순신 역할…</td>\n",
       "      <td>https://news.naver.com/main/ranking/read.nhn?m...</td>\n",
       "      <td>조선일보</td>\n",
       "      <td>119,463</td>\n",
       "    </tr>\n",
       "    <tr>\n",
       "      <th>...</th>\n",
       "      <td>...</td>\n",
       "      <td>...</td>\n",
       "      <td>...</td>\n",
       "      <td>...</td>\n",
       "    </tr>\n",
       "    <tr>\n",
       "      <th>10945</th>\n",
       "      <td>다시 출몰한 관악산 UFO 소동, 정체가 밝혀졌다?</td>\n",
       "      <td>https://news.naver.com/main/ranking/read.nhn?m...</td>\n",
       "      <td>경향신문</td>\n",
       "      <td>344,464</td>\n",
       "    </tr>\n",
       "    <tr>\n",
       "      <th>10946</th>\n",
       "      <td>\"내가 알던 그 '한컴'이 맞나요?\"… 4차산업혁명 유망주로 …</td>\n",
       "      <td>https://news.naver.com/main/ranking/read.nhn?m...</td>\n",
       "      <td>조선비즈</td>\n",
       "      <td>133,197</td>\n",
       "    </tr>\n",
       "    <tr>\n",
       "      <th>10947</th>\n",
       "      <td>합격보너스 5000만원·기본 재택근무…코로나시국 귀한 직종…</td>\n",
       "      <td>https://news.naver.com/main/ranking/read.nhn?m...</td>\n",
       "      <td>머니투데이</td>\n",
       "      <td>108,515</td>\n",
       "    </tr>\n",
       "    <tr>\n",
       "      <th>10948</th>\n",
       "      <td>[이기자의 유레카!] 中·日 덮친 폭우가 이것 때문?…코로나…</td>\n",
       "      <td>https://news.naver.com/main/ranking/read.nhn?m...</td>\n",
       "      <td>매일경제</td>\n",
       "      <td>90,614</td>\n",
       "    </tr>\n",
       "    <tr>\n",
       "      <th>10949</th>\n",
       "      <td>국내 10명 중 1명 이통사 거치지 않고 스마트폰 직접 산다</td>\n",
       "      <td>https://news.naver.com/main/ranking/read.nhn?m...</td>\n",
       "      <td>연합뉴스</td>\n",
       "      <td>81,760</td>\n",
       "    </tr>\n",
       "  </tbody>\n",
       "</table>\n",
       "<p>10950 rows × 4 columns</p>\n",
       "</div>"
      ],
      "text/plain": [
       "                                     title  \\\n",
       "0       [단독] 황교안 딸 운영 사이트, 대학 진학 후 왜 문 닫았나   \n",
       "1         조국 폭풍페북, 日주장 정면반박…\"친일파\" 표현은 野 반발   \n",
       "2       조국, 연일 對日 '항전' 주문…\"겁먹고 쫄지말자…싸워 이겨…   \n",
       "3                 [김순덕의 도발]복수를 하려면 아일랜드처럼!   \n",
       "4      조국, 또 페북에 反日 선전전...\"文정부, 서희·이순신 역할…   \n",
       "...                                    ...   \n",
       "10945         다시 출몰한 관악산 UFO 소동, 정체가 밝혀졌다?   \n",
       "10946  \"내가 알던 그 '한컴'이 맞나요?\"… 4차산업혁명 유망주로 …   \n",
       "10947    합격보너스 5000만원·기본 재택근무…코로나시국 귀한 직종…   \n",
       "10948   [이기자의 유레카!] 中·日 덮친 폭우가 이것 때문?…코로나…   \n",
       "10949    국내 10명 중 1명 이통사 거치지 않고 스마트폰 직접 산다   \n",
       "\n",
       "                                                     url  press    views  \n",
       "0      https://news.naver.com/main/ranking/read.nhn?m...   경향신문  201,039  \n",
       "1      https://news.naver.com/main/ranking/read.nhn?m...  머니투데이  185,396  \n",
       "2      https://news.naver.com/main/ranking/read.nhn?m...   연합뉴스  130,198  \n",
       "3      https://news.naver.com/main/ranking/read.nhn?m...   동아일보  120,897  \n",
       "4      https://news.naver.com/main/ranking/read.nhn?m...   조선일보  119,463  \n",
       "...                                                  ...    ...      ...  \n",
       "10945  https://news.naver.com/main/ranking/read.nhn?m...   경향신문  344,464  \n",
       "10946  https://news.naver.com/main/ranking/read.nhn?m...   조선비즈  133,197  \n",
       "10947  https://news.naver.com/main/ranking/read.nhn?m...  머니투데이  108,515  \n",
       "10948  https://news.naver.com/main/ranking/read.nhn?m...   매일경제   90,614  \n",
       "10949  https://news.naver.com/main/ranking/read.nhn?m...   연합뉴스   81,760  \n",
       "\n",
       "[10950 rows x 4 columns]"
      ]
     },
     "execution_count": 13,
     "metadata": {},
     "output_type": "execute_result"
    }
   ],
   "source": [
    "df_top_news"
   ]
  },
  {
   "cell_type": "markdown",
   "metadata": {},
   "source": [
    "## Part 2. Selenium을 이용한 크롤링"
   ]
  },
  {
   "cell_type": "code",
   "execution_count": 14,
   "metadata": {},
   "outputs": [],
   "source": [
    "df1 = df_top_news.copy()"
   ]
  },
  {
   "cell_type": "code",
   "execution_count": 15,
   "metadata": {},
   "outputs": [
    {
     "data": {
      "text/plain": [
       "0     https://news.naver.com/main/ranking/read.nhn?m...\n",
       "1     https://news.naver.com/main/ranking/read.nhn?m...\n",
       "2     https://news.naver.com/main/ranking/read.nhn?m...\n",
       "3     https://news.naver.com/main/ranking/read.nhn?m...\n",
       "4     https://news.naver.com/main/ranking/read.nhn?m...\n",
       "5     https://news.naver.com/main/ranking/read.nhn?m...\n",
       "6     https://news.naver.com/main/ranking/read.nhn?m...\n",
       "7     https://news.naver.com/main/ranking/read.nhn?m...\n",
       "8     https://news.naver.com/main/ranking/read.nhn?m...\n",
       "9     https://news.naver.com/main/ranking/read.nhn?m...\n",
       "10    https://news.naver.com/main/ranking/read.nhn?m...\n",
       "Name: url, dtype: object"
      ]
     },
     "execution_count": 15,
     "metadata": {},
     "output_type": "execute_result"
    }
   ],
   "source": [
    "df1.loc[:10, 'url']"
   ]
  },
  {
   "cell_type": "code",
   "execution_count": 15,
   "metadata": {},
   "outputs": [],
   "source": [
    "driver_path = 'chromedriver'\n",
    "# headless\n",
    "options = webdriver.ChromeOptions()\n",
    "options.add_argument('headless')\n",
    "driver = webdriver.Chrome(driver_path, options=options)"
   ]
  },
  {
   "cell_type": "markdown",
   "metadata": {},
   "source": [
    "여기서는 일반 뉴스 형식에 안맞는 페이지들은 except 처리해서 크롤링하지 않고 그냥 링크를 프린트하도록 하였다.\n",
    "\n",
    "아래 bs를 활용하여 크롤링한 코드에서는 다양한 예외를 처리한다."
   ]
  },
  {
   "cell_type": "code",
   "execution_count": 18,
   "metadata": {},
   "outputs": [
    {
     "name": "stderr",
     "output_type": "stream",
     "text": [
      "  3%|██▏                                                                         | 319/10950 [02:48<1:27:16,  2.03it/s]"
     ]
    },
    {
     "name": "stdout",
     "output_type": "stream",
     "text": [
      "content https://news.naver.com/main/ranking/read.nhn?mid=etc&sid1=111&rankingType=popular_day&oid=001&aid=0010994889&date=20190731&type=1&rankingSectionId=103&rankingSeq=4\n",
      "good https://news.naver.com/main/ranking/read.nhn?mid=etc&sid1=111&rankingType=popular_day&oid=001&aid=0010994889&date=20190731&type=1&rankingSectionId=103&rankingSeq=4\n",
      "warm https://news.naver.com/main/ranking/read.nhn?mid=etc&sid1=111&rankingType=popular_day&oid=001&aid=0010994889&date=20190731&type=1&rankingSectionId=103&rankingSeq=4\n",
      "sad https://news.naver.com/main/ranking/read.nhn?mid=etc&sid1=111&rankingType=popular_day&oid=001&aid=0010994889&date=20190731&type=1&rankingSectionId=103&rankingSeq=4\n",
      "angry https://news.naver.com/main/ranking/read.nhn?mid=etc&sid1=111&rankingType=popular_day&oid=001&aid=0010994889&date=20190731&type=1&rankingSectionId=103&rankingSeq=4\n",
      "want https://news.naver.com/main/ranking/read.nhn?mid=etc&sid1=111&rankingType=popular_day&oid=001&aid=0010994889&date=20190731&type=1&rankingSectionId=103&rankingSeq=4\n"
     ]
    },
    {
     "name": "stderr",
     "output_type": "stream",
     "text": [
      "  3%|██▌                                                                         | 378/10950 [03:16<1:12:14,  2.44it/s]"
     ]
    },
    {
     "name": "stdout",
     "output_type": "stream",
     "text": [
      "content https://news.naver.com/main/ranking/read.nhn?mid=etc&sid1=111&rankingType=popular_day&oid=025&aid=0002926865&date=20190802&type=1&rankingSectionId=103&rankingSeq=3\n",
      "good https://news.naver.com/main/ranking/read.nhn?mid=etc&sid1=111&rankingType=popular_day&oid=025&aid=0002926865&date=20190802&type=1&rankingSectionId=103&rankingSeq=3\n",
      "warm https://news.naver.com/main/ranking/read.nhn?mid=etc&sid1=111&rankingType=popular_day&oid=025&aid=0002926865&date=20190802&type=1&rankingSectionId=103&rankingSeq=3\n",
      "sad https://news.naver.com/main/ranking/read.nhn?mid=etc&sid1=111&rankingType=popular_day&oid=025&aid=0002926865&date=20190802&type=1&rankingSectionId=103&rankingSeq=3\n",
      "angry https://news.naver.com/main/ranking/read.nhn?mid=etc&sid1=111&rankingType=popular_day&oid=025&aid=0002926865&date=20190802&type=1&rankingSectionId=103&rankingSeq=3\n",
      "want https://news.naver.com/main/ranking/read.nhn?mid=etc&sid1=111&rankingType=popular_day&oid=025&aid=0002926865&date=20190802&type=1&rankingSectionId=103&rankingSeq=3\n"
     ]
    },
    {
     "name": "stderr",
     "output_type": "stream",
     "text": [
      " 12%|████████▉                                                                  | 1308/10950 [11:36<1:24:17,  1.91it/s]"
     ]
    },
    {
     "name": "stdout",
     "output_type": "stream",
     "text": [
      "content https://news.naver.com/main/ranking/read.nhn?mid=etc&sid1=111&rankingType=popular_day&oid=032&aid=0002960805&date=20190902&type=1&rankingSectionId=103&rankingSeq=3\n",
      "good https://news.naver.com/main/ranking/read.nhn?mid=etc&sid1=111&rankingType=popular_day&oid=032&aid=0002960805&date=20190902&type=1&rankingSectionId=103&rankingSeq=3\n",
      "warm https://news.naver.com/main/ranking/read.nhn?mid=etc&sid1=111&rankingType=popular_day&oid=032&aid=0002960805&date=20190902&type=1&rankingSectionId=103&rankingSeq=3\n",
      "sad https://news.naver.com/main/ranking/read.nhn?mid=etc&sid1=111&rankingType=popular_day&oid=032&aid=0002960805&date=20190902&type=1&rankingSectionId=103&rankingSeq=3\n",
      "angry https://news.naver.com/main/ranking/read.nhn?mid=etc&sid1=111&rankingType=popular_day&oid=032&aid=0002960805&date=20190902&type=1&rankingSectionId=103&rankingSeq=3\n",
      "want https://news.naver.com/main/ranking/read.nhn?mid=etc&sid1=111&rankingType=popular_day&oid=032&aid=0002960805&date=20190902&type=1&rankingSectionId=103&rankingSeq=3\n"
     ]
    },
    {
     "name": "stderr",
     "output_type": "stream",
     "text": [
      " 12%|█████████▏                                                                 | 1338/10950 [11:52<1:31:55,  1.74it/s]"
     ]
    },
    {
     "name": "stdout",
     "output_type": "stream",
     "text": [
      "content https://news.naver.com/main/ranking/read.nhn?mid=etc&sid1=111&rankingType=popular_day&oid=032&aid=0002960805&date=20190903&type=1&rankingSectionId=103&rankingSeq=3\n",
      "good https://news.naver.com/main/ranking/read.nhn?mid=etc&sid1=111&rankingType=popular_day&oid=032&aid=0002960805&date=20190903&type=1&rankingSectionId=103&rankingSeq=3\n",
      "warm https://news.naver.com/main/ranking/read.nhn?mid=etc&sid1=111&rankingType=popular_day&oid=032&aid=0002960805&date=20190903&type=1&rankingSectionId=103&rankingSeq=3\n",
      "sad https://news.naver.com/main/ranking/read.nhn?mid=etc&sid1=111&rankingType=popular_day&oid=032&aid=0002960805&date=20190903&type=1&rankingSectionId=103&rankingSeq=3\n",
      "angry https://news.naver.com/main/ranking/read.nhn?mid=etc&sid1=111&rankingType=popular_day&oid=032&aid=0002960805&date=20190903&type=1&rankingSectionId=103&rankingSeq=3\n",
      "want https://news.naver.com/main/ranking/read.nhn?mid=etc&sid1=111&rankingType=popular_day&oid=032&aid=0002960805&date=20190903&type=1&rankingSectionId=103&rankingSeq=3\n"
     ]
    },
    {
     "name": "stderr",
     "output_type": "stream",
     "text": [
      " 24%|█████████████████▊                                                         | 2606/10950 [23:24<1:02:47,  2.21it/s]"
     ]
    },
    {
     "name": "stdout",
     "output_type": "stream",
     "text": [
      "content https://news.naver.com/main/ranking/read.nhn?mid=etc&sid1=111&rankingType=popular_day&oid=444&aid=0000001280&date=20191015&type=1&rankingSectionId=105&rankingSeq=1\n",
      "good https://news.naver.com/main/ranking/read.nhn?mid=etc&sid1=111&rankingType=popular_day&oid=444&aid=0000001280&date=20191015&type=1&rankingSectionId=105&rankingSeq=1\n",
      "warm https://news.naver.com/main/ranking/read.nhn?mid=etc&sid1=111&rankingType=popular_day&oid=444&aid=0000001280&date=20191015&type=1&rankingSectionId=105&rankingSeq=1\n",
      "sad https://news.naver.com/main/ranking/read.nhn?mid=etc&sid1=111&rankingType=popular_day&oid=444&aid=0000001280&date=20191015&type=1&rankingSectionId=105&rankingSeq=1\n",
      "angry https://news.naver.com/main/ranking/read.nhn?mid=etc&sid1=111&rankingType=popular_day&oid=444&aid=0000001280&date=20191015&type=1&rankingSectionId=105&rankingSeq=1\n",
      "want https://news.naver.com/main/ranking/read.nhn?mid=etc&sid1=111&rankingType=popular_day&oid=444&aid=0000001280&date=20191015&type=1&rankingSectionId=105&rankingSeq=1\n"
     ]
    },
    {
     "name": "stderr",
     "output_type": "stream",
     "text": [
      " 24%|██████████████████▌                                                          | 2636/10950 [23:40<59:38,  2.32it/s]"
     ]
    },
    {
     "name": "stdout",
     "output_type": "stream",
     "text": [
      "content https://news.naver.com/main/ranking/read.nhn?mid=etc&sid1=111&rankingType=popular_day&oid=444&aid=0000001280&date=20191016&type=1&rankingSectionId=105&rankingSeq=1\n",
      "good https://news.naver.com/main/ranking/read.nhn?mid=etc&sid1=111&rankingType=popular_day&oid=444&aid=0000001280&date=20191016&type=1&rankingSectionId=105&rankingSeq=1\n",
      "warm https://news.naver.com/main/ranking/read.nhn?mid=etc&sid1=111&rankingType=popular_day&oid=444&aid=0000001280&date=20191016&type=1&rankingSectionId=105&rankingSeq=1\n",
      "sad https://news.naver.com/main/ranking/read.nhn?mid=etc&sid1=111&rankingType=popular_day&oid=444&aid=0000001280&date=20191016&type=1&rankingSectionId=105&rankingSeq=1\n",
      "angry https://news.naver.com/main/ranking/read.nhn?mid=etc&sid1=111&rankingType=popular_day&oid=444&aid=0000001280&date=20191016&type=1&rankingSectionId=105&rankingSeq=1\n",
      "want https://news.naver.com/main/ranking/read.nhn?mid=etc&sid1=111&rankingType=popular_day&oid=444&aid=0000001280&date=20191016&type=1&rankingSectionId=105&rankingSeq=1\n"
     ]
    },
    {
     "name": "stderr",
     "output_type": "stream",
     "text": [
      " 24%|██████████████████▏                                                        | 2657/10950 [23:51<1:02:20,  2.22it/s]"
     ]
    },
    {
     "name": "stdout",
     "output_type": "stream",
     "text": [
      "content https://news.naver.com/main/ranking/read.nhn?mid=etc&sid1=111&rankingType=popular_day&oid=009&aid=0004445870&date=20191017&type=1&rankingSectionId=103&rankingSeq=2\n",
      "good https://news.naver.com/main/ranking/read.nhn?mid=etc&sid1=111&rankingType=popular_day&oid=009&aid=0004445870&date=20191017&type=1&rankingSectionId=103&rankingSeq=2\n",
      "warm https://news.naver.com/main/ranking/read.nhn?mid=etc&sid1=111&rankingType=popular_day&oid=009&aid=0004445870&date=20191017&type=1&rankingSectionId=103&rankingSeq=2\n",
      "sad https://news.naver.com/main/ranking/read.nhn?mid=etc&sid1=111&rankingType=popular_day&oid=009&aid=0004445870&date=20191017&type=1&rankingSectionId=103&rankingSeq=2\n",
      "angry https://news.naver.com/main/ranking/read.nhn?mid=etc&sid1=111&rankingType=popular_day&oid=009&aid=0004445870&date=20191017&type=1&rankingSectionId=103&rankingSeq=2\n",
      "want https://news.naver.com/main/ranking/read.nhn?mid=etc&sid1=111&rankingType=popular_day&oid=009&aid=0004445870&date=20191017&type=1&rankingSectionId=103&rankingSeq=2\n"
     ]
    },
    {
     "name": "stderr",
     "output_type": "stream",
     "text": [
      " 25%|██████████████████▌                                                        | 2712/10950 [24:24<1:14:33,  1.84it/s]"
     ]
    },
    {
     "name": "stdout",
     "output_type": "stream",
     "text": [
      "content https://news.naver.com/main/ranking/read.nhn?mid=etc&sid1=111&rankingType=popular_day&oid=081&aid=0003037020&date=20191019&type=1&rankingSectionId=102&rankingSeq=2\n",
      "good https://news.naver.com/main/ranking/read.nhn?mid=etc&sid1=111&rankingType=popular_day&oid=081&aid=0003037020&date=20191019&type=1&rankingSectionId=102&rankingSeq=2\n",
      "warm https://news.naver.com/main/ranking/read.nhn?mid=etc&sid1=111&rankingType=popular_day&oid=081&aid=0003037020&date=20191019&type=1&rankingSectionId=102&rankingSeq=2\n",
      "sad https://news.naver.com/main/ranking/read.nhn?mid=etc&sid1=111&rankingType=popular_day&oid=081&aid=0003037020&date=20191019&type=1&rankingSectionId=102&rankingSeq=2\n",
      "angry https://news.naver.com/main/ranking/read.nhn?mid=etc&sid1=111&rankingType=popular_day&oid=081&aid=0003037020&date=20191019&type=1&rankingSectionId=102&rankingSeq=2\n",
      "want https://news.naver.com/main/ranking/read.nhn?mid=etc&sid1=111&rankingType=popular_day&oid=081&aid=0003037020&date=20191019&type=1&rankingSectionId=102&rankingSeq=2\n"
     ]
    },
    {
     "name": "stderr",
     "output_type": "stream",
     "text": [
      " 25%|██████████████████▊                                                        | 2745/10950 [24:41<1:07:13,  2.03it/s]"
     ]
    },
    {
     "name": "stdout",
     "output_type": "stream",
     "text": [
      "content https://news.naver.com/main/ranking/read.nhn?mid=etc&sid1=111&rankingType=popular_day&oid=005&aid=0001250536&date=20191020&type=1&rankingSectionId=102&rankingSeq=5\n",
      "good https://news.naver.com/main/ranking/read.nhn?mid=etc&sid1=111&rankingType=popular_day&oid=005&aid=0001250536&date=20191020&type=1&rankingSectionId=102&rankingSeq=5\n",
      "warm https://news.naver.com/main/ranking/read.nhn?mid=etc&sid1=111&rankingType=popular_day&oid=005&aid=0001250536&date=20191020&type=1&rankingSectionId=102&rankingSeq=5\n",
      "sad https://news.naver.com/main/ranking/read.nhn?mid=etc&sid1=111&rankingType=popular_day&oid=005&aid=0001250536&date=20191020&type=1&rankingSectionId=102&rankingSeq=5\n",
      "angry https://news.naver.com/main/ranking/read.nhn?mid=etc&sid1=111&rankingType=popular_day&oid=005&aid=0001250536&date=20191020&type=1&rankingSectionId=102&rankingSeq=5\n",
      "want https://news.naver.com/main/ranking/read.nhn?mid=etc&sid1=111&rankingType=popular_day&oid=005&aid=0001250536&date=20191020&type=1&rankingSectionId=102&rankingSeq=5\n"
     ]
    },
    {
     "name": "stderr",
     "output_type": "stream",
     "text": [
      " 29%|█████████████████████▊                                                     | 3183/10950 [28:46<1:33:45,  1.38it/s]"
     ]
    },
    {
     "name": "stdout",
     "output_type": "stream",
     "text": [
      "content https://news.naver.com/main/ranking/read.nhn?mid=etc&sid1=111&rankingType=popular_day&oid=001&aid=0011187676&date=20191104&type=1&rankingSectionId=100&rankingSeq=3\n",
      "good https://news.naver.com/main/ranking/read.nhn?mid=etc&sid1=111&rankingType=popular_day&oid=001&aid=0011187676&date=20191104&type=1&rankingSectionId=100&rankingSeq=3\n",
      "warm https://news.naver.com/main/ranking/read.nhn?mid=etc&sid1=111&rankingType=popular_day&oid=001&aid=0011187676&date=20191104&type=1&rankingSectionId=100&rankingSeq=3\n",
      "sad https://news.naver.com/main/ranking/read.nhn?mid=etc&sid1=111&rankingType=popular_day&oid=001&aid=0011187676&date=20191104&type=1&rankingSectionId=100&rankingSeq=3\n",
      "angry https://news.naver.com/main/ranking/read.nhn?mid=etc&sid1=111&rankingType=popular_day&oid=001&aid=0011187676&date=20191104&type=1&rankingSectionId=100&rankingSeq=3\n",
      "want https://news.naver.com/main/ranking/read.nhn?mid=etc&sid1=111&rankingType=popular_day&oid=001&aid=0011187676&date=20191104&type=1&rankingSectionId=100&rankingSeq=3\n"
     ]
    },
    {
     "name": "stderr",
     "output_type": "stream",
     "text": [
      " 30%|██████████████████████▌                                                    | 3288/10950 [29:45<1:09:27,  1.84it/s]"
     ]
    },
    {
     "name": "stdout",
     "output_type": "stream",
     "text": [
      "content https://news.naver.com/main/ranking/read.nhn?mid=etc&sid1=111&rankingType=popular_day&oid=018&aid=0004511119&date=20191107&type=1&rankingSectionId=103&rankingSeq=3\n",
      "good https://news.naver.com/main/ranking/read.nhn?mid=etc&sid1=111&rankingType=popular_day&oid=018&aid=0004511119&date=20191107&type=1&rankingSectionId=103&rankingSeq=3\n",
      "warm https://news.naver.com/main/ranking/read.nhn?mid=etc&sid1=111&rankingType=popular_day&oid=018&aid=0004511119&date=20191107&type=1&rankingSectionId=103&rankingSeq=3\n",
      "sad https://news.naver.com/main/ranking/read.nhn?mid=etc&sid1=111&rankingType=popular_day&oid=018&aid=0004511119&date=20191107&type=1&rankingSectionId=103&rankingSeq=3\n",
      "angry https://news.naver.com/main/ranking/read.nhn?mid=etc&sid1=111&rankingType=popular_day&oid=018&aid=0004511119&date=20191107&type=1&rankingSectionId=103&rankingSeq=3\n",
      "want https://news.naver.com/main/ranking/read.nhn?mid=etc&sid1=111&rankingType=popular_day&oid=018&aid=0004511119&date=20191107&type=1&rankingSectionId=103&rankingSeq=3\n"
     ]
    },
    {
     "name": "stderr",
     "output_type": "stream",
     "text": [
      " 54%|█████████████████████████████████████████▉                                   | 5960/10950 [54:43<51:51,  1.60it/s]"
     ]
    },
    {
     "name": "stdout",
     "output_type": "stream",
     "text": [
      "content https://news.naver.com/main/ranking/read.nhn?mid=etc&sid1=111&rankingType=popular_day&oid=081&aid=0003063149&date=20200204&type=1&rankingSectionId=103&rankingSeq=5\n",
      "good https://news.naver.com/main/ranking/read.nhn?mid=etc&sid1=111&rankingType=popular_day&oid=081&aid=0003063149&date=20200204&type=1&rankingSectionId=103&rankingSeq=5\n",
      "warm https://news.naver.com/main/ranking/read.nhn?mid=etc&sid1=111&rankingType=popular_day&oid=081&aid=0003063149&date=20200204&type=1&rankingSectionId=103&rankingSeq=5\n",
      "sad https://news.naver.com/main/ranking/read.nhn?mid=etc&sid1=111&rankingType=popular_day&oid=081&aid=0003063149&date=20200204&type=1&rankingSectionId=103&rankingSeq=5\n",
      "angry https://news.naver.com/main/ranking/read.nhn?mid=etc&sid1=111&rankingType=popular_day&oid=081&aid=0003063149&date=20200204&type=1&rankingSectionId=103&rankingSeq=5\n",
      "want https://news.naver.com/main/ranking/read.nhn?mid=etc&sid1=111&rankingType=popular_day&oid=081&aid=0003063149&date=20200204&type=1&rankingSectionId=103&rankingSeq=5\n"
     ]
    },
    {
     "name": "stderr",
     "output_type": "stream",
     "text": [
      " 67%|██████████████████████████████████████████████████                         | 7306/10950 [1:06:49<30:34,  1.99it/s]"
     ]
    },
    {
     "name": "stdout",
     "output_type": "stream",
     "text": [
      "content https://news.naver.com/main/ranking/read.nhn?mid=etc&sid1=111&rankingType=popular_day&oid=005&aid=0001301587&date=20200320&type=1&rankingSectionId=103&rankingSeq=1\n",
      "good https://news.naver.com/main/ranking/read.nhn?mid=etc&sid1=111&rankingType=popular_day&oid=005&aid=0001301587&date=20200320&type=1&rankingSectionId=103&rankingSeq=1\n",
      "warm https://news.naver.com/main/ranking/read.nhn?mid=etc&sid1=111&rankingType=popular_day&oid=005&aid=0001301587&date=20200320&type=1&rankingSectionId=103&rankingSeq=1\n",
      "sad https://news.naver.com/main/ranking/read.nhn?mid=etc&sid1=111&rankingType=popular_day&oid=005&aid=0001301587&date=20200320&type=1&rankingSectionId=103&rankingSeq=1\n",
      "angry https://news.naver.com/main/ranking/read.nhn?mid=etc&sid1=111&rankingType=popular_day&oid=005&aid=0001301587&date=20200320&type=1&rankingSectionId=103&rankingSeq=1\n",
      "want https://news.naver.com/main/ranking/read.nhn?mid=etc&sid1=111&rankingType=popular_day&oid=005&aid=0001301587&date=20200320&type=1&rankingSectionId=103&rankingSeq=1\n"
     ]
    },
    {
     "name": "stderr",
     "output_type": "stream",
     "text": [
      " 82%|█████████████████████████████████████████████████████████████▊             | 9018/10950 [1:22:11<17:13,  1.87it/s]"
     ]
    },
    {
     "name": "stdout",
     "output_type": "stream",
     "text": [
      "content https://news.naver.com/main/ranking/read.nhn?mid=etc&sid1=111&rankingType=popular_day&oid=005&aid=0001321801&date=20200516&type=1&rankingSectionId=103&rankingSeq=3\n",
      "good https://news.naver.com/main/ranking/read.nhn?mid=etc&sid1=111&rankingType=popular_day&oid=005&aid=0001321801&date=20200516&type=1&rankingSectionId=103&rankingSeq=3\n",
      "warm https://news.naver.com/main/ranking/read.nhn?mid=etc&sid1=111&rankingType=popular_day&oid=005&aid=0001321801&date=20200516&type=1&rankingSectionId=103&rankingSeq=3\n",
      "sad https://news.naver.com/main/ranking/read.nhn?mid=etc&sid1=111&rankingType=popular_day&oid=005&aid=0001321801&date=20200516&type=1&rankingSectionId=103&rankingSeq=3\n",
      "angry https://news.naver.com/main/ranking/read.nhn?mid=etc&sid1=111&rankingType=popular_day&oid=005&aid=0001321801&date=20200516&type=1&rankingSectionId=103&rankingSeq=3\n",
      "want https://news.naver.com/main/ranking/read.nhn?mid=etc&sid1=111&rankingType=popular_day&oid=005&aid=0001321801&date=20200516&type=1&rankingSectionId=103&rankingSeq=3\n"
     ]
    },
    {
     "name": "stderr",
     "output_type": "stream",
     "text": [
      " 85%|████████████████████████████████████████████████████████████████           | 9346/10950 [1:25:12<13:56,  1.92it/s]"
     ]
    },
    {
     "name": "stdout",
     "output_type": "stream",
     "text": [
      "content https://news.naver.com/main/ranking/read.nhn?mid=etc&sid1=111&rankingType=popular_day&oid=023&aid=0003534279&date=20200527&type=1&rankingSectionId=103&rankingSeq=1\n",
      "good https://news.naver.com/main/ranking/read.nhn?mid=etc&sid1=111&rankingType=popular_day&oid=023&aid=0003534279&date=20200527&type=1&rankingSectionId=103&rankingSeq=1\n",
      "warm https://news.naver.com/main/ranking/read.nhn?mid=etc&sid1=111&rankingType=popular_day&oid=023&aid=0003534279&date=20200527&type=1&rankingSectionId=103&rankingSeq=1\n",
      "sad https://news.naver.com/main/ranking/read.nhn?mid=etc&sid1=111&rankingType=popular_day&oid=023&aid=0003534279&date=20200527&type=1&rankingSectionId=103&rankingSeq=1\n",
      "angry https://news.naver.com/main/ranking/read.nhn?mid=etc&sid1=111&rankingType=popular_day&oid=023&aid=0003534279&date=20200527&type=1&rankingSectionId=103&rankingSeq=1\n",
      "want https://news.naver.com/main/ranking/read.nhn?mid=etc&sid1=111&rankingType=popular_day&oid=023&aid=0003534279&date=20200527&type=1&rankingSectionId=103&rankingSeq=1\n"
     ]
    },
    {
     "name": "stderr",
     "output_type": "stream",
     "text": [
      " 90%|███████████████████████████████████████████████████████████████████▎       | 9826/10950 [1:29:41<09:02,  2.07it/s]"
     ]
    },
    {
     "name": "stdout",
     "output_type": "stream",
     "text": [
      "content https://news.naver.com/main/ranking/read.nhn?mid=etc&sid1=111&rankingType=popular_day&oid=005&aid=0001331111&date=20200612&type=1&rankingSectionId=103&rankingSeq=1\n",
      "good https://news.naver.com/main/ranking/read.nhn?mid=etc&sid1=111&rankingType=popular_day&oid=005&aid=0001331111&date=20200612&type=1&rankingSectionId=103&rankingSeq=1\n",
      "warm https://news.naver.com/main/ranking/read.nhn?mid=etc&sid1=111&rankingType=popular_day&oid=005&aid=0001331111&date=20200612&type=1&rankingSectionId=103&rankingSeq=1\n",
      "sad https://news.naver.com/main/ranking/read.nhn?mid=etc&sid1=111&rankingType=popular_day&oid=005&aid=0001331111&date=20200612&type=1&rankingSectionId=103&rankingSeq=1\n",
      "angry https://news.naver.com/main/ranking/read.nhn?mid=etc&sid1=111&rankingType=popular_day&oid=005&aid=0001331111&date=20200612&type=1&rankingSectionId=103&rankingSeq=1\n",
      "want https://news.naver.com/main/ranking/read.nhn?mid=etc&sid1=111&rankingType=popular_day&oid=005&aid=0001331111&date=20200612&type=1&rankingSectionId=103&rankingSeq=1\n"
     ]
    },
    {
     "name": "stderr",
     "output_type": "stream",
     "text": [
      " 90%|███████████████████████████████████████████████████████████████████▌       | 9857/10950 [1:29:59<10:02,  1.81it/s]"
     ]
    },
    {
     "name": "stdout",
     "output_type": "stream",
     "text": [
      "content https://news.naver.com/main/ranking/read.nhn?mid=etc&sid1=111&rankingType=popular_day&oid=005&aid=0001331111&date=20200613&type=1&rankingSectionId=103&rankingSeq=2\n",
      "good https://news.naver.com/main/ranking/read.nhn?mid=etc&sid1=111&rankingType=popular_day&oid=005&aid=0001331111&date=20200613&type=1&rankingSectionId=103&rankingSeq=2\n",
      "warm https://news.naver.com/main/ranking/read.nhn?mid=etc&sid1=111&rankingType=popular_day&oid=005&aid=0001331111&date=20200613&type=1&rankingSectionId=103&rankingSeq=2\n",
      "sad https://news.naver.com/main/ranking/read.nhn?mid=etc&sid1=111&rankingType=popular_day&oid=005&aid=0001331111&date=20200613&type=1&rankingSectionId=103&rankingSeq=2\n",
      "angry https://news.naver.com/main/ranking/read.nhn?mid=etc&sid1=111&rankingType=popular_day&oid=005&aid=0001331111&date=20200613&type=1&rankingSectionId=103&rankingSeq=2\n",
      "want https://news.naver.com/main/ranking/read.nhn?mid=etc&sid1=111&rankingType=popular_day&oid=005&aid=0001331111&date=20200613&type=1&rankingSectionId=103&rankingSeq=2\n"
     ]
    },
    {
     "name": "stderr",
     "output_type": "stream",
     "text": [
      " 92%|████████████████████████████████████████████████████████████████████      | 10066/10950 [1:31:49<06:57,  2.12it/s]"
     ]
    },
    {
     "name": "stdout",
     "output_type": "stream",
     "text": [
      "content https://news.naver.com/main/ranking/read.nhn?mid=etc&sid1=111&rankingType=popular_day&oid=005&aid=0001333664&date=20200620&type=1&rankingSectionId=103&rankingSeq=1\n",
      "good https://news.naver.com/main/ranking/read.nhn?mid=etc&sid1=111&rankingType=popular_day&oid=005&aid=0001333664&date=20200620&type=1&rankingSectionId=103&rankingSeq=1\n",
      "warm https://news.naver.com/main/ranking/read.nhn?mid=etc&sid1=111&rankingType=popular_day&oid=005&aid=0001333664&date=20200620&type=1&rankingSectionId=103&rankingSeq=1\n",
      "sad https://news.naver.com/main/ranking/read.nhn?mid=etc&sid1=111&rankingType=popular_day&oid=005&aid=0001333664&date=20200620&type=1&rankingSectionId=103&rankingSeq=1\n",
      "angry https://news.naver.com/main/ranking/read.nhn?mid=etc&sid1=111&rankingType=popular_day&oid=005&aid=0001333664&date=20200620&type=1&rankingSectionId=103&rankingSeq=1\n",
      "want https://news.naver.com/main/ranking/read.nhn?mid=etc&sid1=111&rankingType=popular_day&oid=005&aid=0001333664&date=20200620&type=1&rankingSectionId=103&rankingSeq=1\n"
     ]
    },
    {
     "name": "stderr",
     "output_type": "stream",
     "text": [
      " 94%|█████████████████████████████████████████████████████████████████████▍    | 10279/10950 [1:33:45<06:00,  1.86it/s]"
     ]
    },
    {
     "name": "stdout",
     "output_type": "stream",
     "text": [
      "content https://news.naver.com/main/ranking/read.nhn?mid=etc&sid1=111&rankingType=popular_day&oid=023&aid=0003542126&date=20200627&type=1&rankingSectionId=103&rankingSeq=4\n",
      "good https://news.naver.com/main/ranking/read.nhn?mid=etc&sid1=111&rankingType=popular_day&oid=023&aid=0003542126&date=20200627&type=1&rankingSectionId=103&rankingSeq=4\n",
      "warm https://news.naver.com/main/ranking/read.nhn?mid=etc&sid1=111&rankingType=popular_day&oid=023&aid=0003542126&date=20200627&type=1&rankingSectionId=103&rankingSeq=4\n",
      "sad https://news.naver.com/main/ranking/read.nhn?mid=etc&sid1=111&rankingType=popular_day&oid=023&aid=0003542126&date=20200627&type=1&rankingSectionId=103&rankingSeq=4\n",
      "angry https://news.naver.com/main/ranking/read.nhn?mid=etc&sid1=111&rankingType=popular_day&oid=023&aid=0003542126&date=20200627&type=1&rankingSectionId=103&rankingSeq=4\n",
      "want https://news.naver.com/main/ranking/read.nhn?mid=etc&sid1=111&rankingType=popular_day&oid=023&aid=0003542126&date=20200627&type=1&rankingSectionId=103&rankingSeq=4\n"
     ]
    },
    {
     "name": "stderr",
     "output_type": "stream",
     "text": [
      " 95%|██████████████████████████████████████████████████████████████████████▍   | 10421/10950 [1:34:58<04:10,  2.11it/s]"
     ]
    },
    {
     "name": "stdout",
     "output_type": "stream",
     "text": [
      "content https://news.naver.com/main/ranking/read.nhn?mid=etc&sid1=111&rankingType=popular_day&oid=025&aid=0003014141&date=20200702&type=1&rankingSectionId=102&rankingSeq=1\n",
      "good https://news.naver.com/main/ranking/read.nhn?mid=etc&sid1=111&rankingType=popular_day&oid=025&aid=0003014141&date=20200702&type=1&rankingSectionId=102&rankingSeq=1\n",
      "warm https://news.naver.com/main/ranking/read.nhn?mid=etc&sid1=111&rankingType=popular_day&oid=025&aid=0003014141&date=20200702&type=1&rankingSectionId=102&rankingSeq=1\n",
      "sad https://news.naver.com/main/ranking/read.nhn?mid=etc&sid1=111&rankingType=popular_day&oid=025&aid=0003014141&date=20200702&type=1&rankingSectionId=102&rankingSeq=1\n",
      "angry https://news.naver.com/main/ranking/read.nhn?mid=etc&sid1=111&rankingType=popular_day&oid=025&aid=0003014141&date=20200702&type=1&rankingSectionId=102&rankingSeq=1\n",
      "want https://news.naver.com/main/ranking/read.nhn?mid=etc&sid1=111&rankingType=popular_day&oid=025&aid=0003014141&date=20200702&type=1&rankingSectionId=102&rankingSeq=1\n"
     ]
    },
    {
     "name": "stderr",
     "output_type": "stream",
     "text": [
      " 96%|██████████████████████████████████████████████████████████████████████▊   | 10487/10950 [1:35:35<04:22,  1.76it/s]"
     ]
    },
    {
     "name": "stdout",
     "output_type": "stream",
     "text": [
      "content https://news.naver.com/main/ranking/read.nhn?mid=etc&sid1=111&rankingType=popular_day&oid=025&aid=0003014675&date=20200704&type=1&rankingSectionId=103&rankingSeq=2\n",
      "good https://news.naver.com/main/ranking/read.nhn?mid=etc&sid1=111&rankingType=popular_day&oid=025&aid=0003014675&date=20200704&type=1&rankingSectionId=103&rankingSeq=2\n",
      "warm https://news.naver.com/main/ranking/read.nhn?mid=etc&sid1=111&rankingType=popular_day&oid=025&aid=0003014675&date=20200704&type=1&rankingSectionId=103&rankingSeq=2\n",
      "sad https://news.naver.com/main/ranking/read.nhn?mid=etc&sid1=111&rankingType=popular_day&oid=025&aid=0003014675&date=20200704&type=1&rankingSectionId=103&rankingSeq=2\n",
      "angry https://news.naver.com/main/ranking/read.nhn?mid=etc&sid1=111&rankingType=popular_day&oid=025&aid=0003014675&date=20200704&type=1&rankingSectionId=103&rankingSeq=2\n",
      "want https://news.naver.com/main/ranking/read.nhn?mid=etc&sid1=111&rankingType=popular_day&oid=025&aid=0003014675&date=20200704&type=1&rankingSectionId=103&rankingSeq=2\n"
     ]
    },
    {
     "name": "stderr",
     "output_type": "stream",
     "text": [
      " 96%|███████████████████████████████████████████████████████████████████████   | 10519/10950 [1:35:53<03:51,  1.87it/s]"
     ]
    },
    {
     "name": "stdout",
     "output_type": "stream",
     "text": [
      "content https://news.naver.com/main/ranking/read.nhn?mid=etc&sid1=111&rankingType=popular_day&oid=023&aid=0003544102&date=20200705&type=1&rankingSectionId=103&rankingSeq=4\n",
      "good https://news.naver.com/main/ranking/read.nhn?mid=etc&sid1=111&rankingType=popular_day&oid=023&aid=0003544102&date=20200705&type=1&rankingSectionId=103&rankingSeq=4\n",
      "warm https://news.naver.com/main/ranking/read.nhn?mid=etc&sid1=111&rankingType=popular_day&oid=023&aid=0003544102&date=20200705&type=1&rankingSectionId=103&rankingSeq=4\n",
      "sad https://news.naver.com/main/ranking/read.nhn?mid=etc&sid1=111&rankingType=popular_day&oid=023&aid=0003544102&date=20200705&type=1&rankingSectionId=103&rankingSeq=4\n",
      "angry https://news.naver.com/main/ranking/read.nhn?mid=etc&sid1=111&rankingType=popular_day&oid=023&aid=0003544102&date=20200705&type=1&rankingSectionId=103&rankingSeq=4\n",
      "want https://news.naver.com/main/ranking/read.nhn?mid=etc&sid1=111&rankingType=popular_day&oid=023&aid=0003544102&date=20200705&type=1&rankingSectionId=103&rankingSeq=4\n"
     ]
    },
    {
     "name": "stderr",
     "output_type": "stream",
     "text": [
      "100%|██████████████████████████████████████████████████████████████████████████| 10950/10950 [1:39:45<00:00,  1.83it/s]\n"
     ]
    }
   ],
   "source": [
    "for idx, news_url in tqdm(list(enumerate(df_top_news['url'].values))):\n",
    "    # 드라이버 내에서 해당 URL로 이동\n",
    "    driver.get(news_url)    \n",
    "    # 기사 내용\n",
    "    try:\n",
    "        df1.loc[idx, 'content'] = driver.find_element_by_css_selector('#articleBodyContents').text.strip()\n",
    "    except:\n",
    "        print('content', news_url)\n",
    "    # 리액션\n",
    "    for emotion in ['good', 'warm', 'sad', 'angry', 'want']:\n",
    "        try:\n",
    "            df1.loc[idx, emotion] = driver.find_element_by_css_selector(\n",
    "                f'#spiLayer > div._reactionModule.u_likeit > ul > li.u_likeit_list.{emotion} > a > span.u_likeit_list_count._count'\n",
    "            ).text.strip()\n",
    "        except:\n",
    "            print(emotion, news_url)"
   ]
  },
  {
   "cell_type": "markdown",
   "metadata": {},
   "source": [
    "## Part3. bs"
   ]
  },
  {
   "cell_type": "code",
   "execution_count": 16,
   "metadata": {},
   "outputs": [],
   "source": [
    "def get_content_reactions(url):\n",
    "    \n",
    "    # window에서 multiprocess 사용하기 위해 함수 안에서도 임포트\n",
    "    import requests\n",
    "    from bs4 import BeautifulSoup\n",
    "    import pandas as pd\n",
    "    \n",
    "    # 일반 기사, 연예 기사, 스포츠 기사마다 조금씩 포맷이 다르다. 우선 골격 함수 만들자.\n",
    "    def crawl(content_selector, q, q2):\n",
    "        # content\n",
    "        response = requests.request('GET', url)\n",
    "        soup = BeautifulSoup(response.text, 'html.parser')\n",
    "        content = soup.select(content_selector)[0].text.strip()\n",
    "        # reactions api url 만들고, reaction별 개수 pd.Series로\n",
    "        s = url.find('oid')\n",
    "        oid = url[s+4:s+7]\n",
    "        aid = url[s+12:s+22]\n",
    "        url_reaction = f'https://news-like.naver.com/v1/search/contents?q={q}%5Bne_{oid}_{aid}%5D%7C{q2}%5B{oid}_{aid}'\n",
    "        response = requests.request(\"GET\", url_reaction).json()\n",
    "        reactions = pd.Series(0, index=response['contents'][0]['reactionTextMap']['zh-hans'].keys())\n",
    "        for reaction in response['contents'][0]['reactions']:\n",
    "            reactions.loc[reaction['reactionType']] = reaction['count']  \n",
    "        return content, reactions\n",
    "\n",
    "    try:\n",
    "        try:\n",
    "            try:\n",
    "                # 일반 기사\n",
    "                content, reactions = crawl('#articleBodyContents', 'NEWS', 'NEWS_SUMMARY')\n",
    "\n",
    "            except:\n",
    "                # 연예 기사\n",
    "                content, reactions = crawl('#articeBody', 'ENTERTAIN', 'ENTERTAIN_MAIN')\n",
    "                print('ENTERTAIN')\n",
    "\n",
    "        except:\n",
    "            # 스포츠 기사\n",
    "            content, reactions = crawl('#newsEndContents', 'SPORTS', 'SPORTS_MAIN')\n",
    "            print('SPORTS')\n",
    "    \n",
    "    except:\n",
    "        # 삭제된 기사\n",
    "        content = None\n",
    "        reactions = None\n",
    "        print('DELETED')\n",
    "    \n",
    "    return content, reactions"
   ]
  },
  {
   "cell_type": "code",
   "execution_count": 17,
   "metadata": {},
   "outputs": [
    {
     "name": "stderr",
     "output_type": "stream",
     "text": [
      "100%|████████████████████████████████████████████████████████████████████████████| 10950/10950 [02:45<00:00, 66.27it/s]\n"
     ]
    }
   ],
   "source": [
    "with Pool(14) as pool:\n",
    "    content_reactions = list(tqdm(pool.imap(get_content_reactions, df_top_news['url'].values), total=len(df_top_news)))"
   ]
  },
  {
   "cell_type": "code",
   "execution_count": 18,
   "metadata": {},
   "outputs": [
    {
     "name": "stderr",
     "output_type": "stream",
     "text": [
      "100%|███████████████████████████████████████████████████████████████████████████| 10950/10950 [00:17<00:00, 628.16it/s]\n"
     ]
    }
   ],
   "source": [
    "# 크롤링한 정보를 데이터프레임으로 저장\n",
    "df2 = df_top_news.copy()\n",
    "for i, (content, reactions) in tqdm(list(enumerate(content_reactions))):\n",
    "    df2.loc[i, 'content'] = content\n",
    "    if content is None:\n",
    "        # 삭제된 기사의 경우\n",
    "        continue\n",
    "    for reaction in reactions.index:\n",
    "        df2.loc[i, reaction] = reactions.loc[reaction]"
   ]
  },
  {
   "cell_type": "code",
   "execution_count": 19,
   "metadata": {},
   "outputs": [
    {
     "data": {
      "text/html": [
       "<div>\n",
       "<style scoped>\n",
       "    .dataframe tbody tr th:only-of-type {\n",
       "        vertical-align: middle;\n",
       "    }\n",
       "\n",
       "    .dataframe tbody tr th {\n",
       "        vertical-align: top;\n",
       "    }\n",
       "\n",
       "    .dataframe thead th {\n",
       "        text-align: right;\n",
       "    }\n",
       "</style>\n",
       "<table border=\"1\" class=\"dataframe\">\n",
       "  <thead>\n",
       "    <tr style=\"text-align: right;\">\n",
       "      <th></th>\n",
       "      <th>title</th>\n",
       "      <th>url</th>\n",
       "      <th>press</th>\n",
       "      <th>views</th>\n",
       "      <th>content</th>\n",
       "      <th>like</th>\n",
       "      <th>sad</th>\n",
       "      <th>angry</th>\n",
       "      <th>want</th>\n",
       "      <th>warm</th>\n",
       "      <th>cheer</th>\n",
       "      <th>congrats</th>\n",
       "      <th>expect</th>\n",
       "      <th>surprise</th>\n",
       "      <th>fan</th>\n",
       "    </tr>\n",
       "  </thead>\n",
       "  <tbody>\n",
       "    <tr>\n",
       "      <th>0</th>\n",
       "      <td>[단독] 황교안 딸 운영 사이트, 대학 진학 후 왜 문 닫았나</td>\n",
       "      <td>https://news.naver.com/main/ranking/read.nhn?m...</td>\n",
       "      <td>경향신문</td>\n",
       "      <td>201,039</td>\n",
       "      <td>중 3 때 오빠와 장관상이어 고3 때도 ‘장함모’ 활동으로 자원봉사대회 금상“대체로...</td>\n",
       "      <td>131.0</td>\n",
       "      <td>17.0</td>\n",
       "      <td>2605.0</td>\n",
       "      <td>121.0</td>\n",
       "      <td>16.0</td>\n",
       "      <td>NaN</td>\n",
       "      <td>NaN</td>\n",
       "      <td>NaN</td>\n",
       "      <td>NaN</td>\n",
       "      <td>NaN</td>\n",
       "    </tr>\n",
       "    <tr>\n",
       "      <th>1</th>\n",
       "      <td>조국 폭풍페북, 日주장 정면반박…\"친일파\" 표현은 野 반발</td>\n",
       "      <td>https://news.naver.com/main/ranking/read.nhn?m...</td>\n",
       "      <td>머니투데이</td>\n",
       "      <td>185,396</td>\n",
       "      <td>[머니투데이 김성휘 ,백지수  기자] [[the300]징용판결 해설 글 \"대통령 법...</td>\n",
       "      <td>1710.0</td>\n",
       "      <td>13.0</td>\n",
       "      <td>6058.0</td>\n",
       "      <td>48.0</td>\n",
       "      <td>32.0</td>\n",
       "      <td>NaN</td>\n",
       "      <td>NaN</td>\n",
       "      <td>NaN</td>\n",
       "      <td>NaN</td>\n",
       "      <td>NaN</td>\n",
       "    </tr>\n",
       "    <tr>\n",
       "      <th>2</th>\n",
       "      <td>조국, 연일 對日 '항전' 주문…\"겁먹고 쫄지말자…싸워 이겨…</td>\n",
       "      <td>https://news.naver.com/main/ranking/read.nhn?m...</td>\n",
       "      <td>연합뉴스</td>\n",
       "      <td>130,198</td>\n",
       "      <td>\"文정부, 서희와 이순신 역할 함께 수행…지레 겁먹지 말아야\"\"文정부 매도 정치인·...</td>\n",
       "      <td>1799.0</td>\n",
       "      <td>13.0</td>\n",
       "      <td>9120.0</td>\n",
       "      <td>30.0</td>\n",
       "      <td>19.0</td>\n",
       "      <td>NaN</td>\n",
       "      <td>NaN</td>\n",
       "      <td>NaN</td>\n",
       "      <td>NaN</td>\n",
       "      <td>NaN</td>\n",
       "    </tr>\n",
       "    <tr>\n",
       "      <th>3</th>\n",
       "      <td>[김순덕의 도발]복수를 하려면 아일랜드처럼!</td>\n",
       "      <td>https://news.naver.com/main/ranking/read.nhn?m...</td>\n",
       "      <td>동아일보</td>\n",
       "      <td>120,897</td>\n",
       "      <td>친일잔재를 청산하고 한번도 경험하지 못한 나라로 가는 것이 목적이라면, 문재인 정부...</td>\n",
       "      <td>3017.0</td>\n",
       "      <td>16.0</td>\n",
       "      <td>623.0</td>\n",
       "      <td>37.0</td>\n",
       "      <td>19.0</td>\n",
       "      <td>NaN</td>\n",
       "      <td>NaN</td>\n",
       "      <td>NaN</td>\n",
       "      <td>NaN</td>\n",
       "      <td>NaN</td>\n",
       "    </tr>\n",
       "    <tr>\n",
       "      <th>4</th>\n",
       "      <td>조국, 또 페북에 反日 선전전...\"文정부, 서희·이순신 역할…</td>\n",
       "      <td>https://news.naver.com/main/ranking/read.nhn?m...</td>\n",
       "      <td>조선일보</td>\n",
       "      <td>119,463</td>\n",
       "      <td>\"문재인 정부, 국익 수호 위해 '서희' '이순신' 역할 함께 수행\"\"법적·외교적 ...</td>\n",
       "      <td>374.0</td>\n",
       "      <td>14.0</td>\n",
       "      <td>11468.0</td>\n",
       "      <td>38.0</td>\n",
       "      <td>13.0</td>\n",
       "      <td>NaN</td>\n",
       "      <td>NaN</td>\n",
       "      <td>NaN</td>\n",
       "      <td>NaN</td>\n",
       "      <td>NaN</td>\n",
       "    </tr>\n",
       "  </tbody>\n",
       "</table>\n",
       "</div>"
      ],
      "text/plain": [
       "                                 title  \\\n",
       "0   [단독] 황교안 딸 운영 사이트, 대학 진학 후 왜 문 닫았나   \n",
       "1     조국 폭풍페북, 日주장 정면반박…\"친일파\" 표현은 野 반발   \n",
       "2   조국, 연일 對日 '항전' 주문…\"겁먹고 쫄지말자…싸워 이겨…   \n",
       "3             [김순덕의 도발]복수를 하려면 아일랜드처럼!   \n",
       "4  조국, 또 페북에 反日 선전전...\"文정부, 서희·이순신 역할…   \n",
       "\n",
       "                                                 url  press    views  \\\n",
       "0  https://news.naver.com/main/ranking/read.nhn?m...   경향신문  201,039   \n",
       "1  https://news.naver.com/main/ranking/read.nhn?m...  머니투데이  185,396   \n",
       "2  https://news.naver.com/main/ranking/read.nhn?m...   연합뉴스  130,198   \n",
       "3  https://news.naver.com/main/ranking/read.nhn?m...   동아일보  120,897   \n",
       "4  https://news.naver.com/main/ranking/read.nhn?m...   조선일보  119,463   \n",
       "\n",
       "                                             content    like   sad    angry  \\\n",
       "0  중 3 때 오빠와 장관상이어 고3 때도 ‘장함모’ 활동으로 자원봉사대회 금상“대체로...   131.0  17.0   2605.0   \n",
       "1  [머니투데이 김성휘 ,백지수  기자] [[the300]징용판결 해설 글 \"대통령 법...  1710.0  13.0   6058.0   \n",
       "2  \"文정부, 서희와 이순신 역할 함께 수행…지레 겁먹지 말아야\"\"文정부 매도 정치인·...  1799.0  13.0   9120.0   \n",
       "3  친일잔재를 청산하고 한번도 경험하지 못한 나라로 가는 것이 목적이라면, 문재인 정부...  3017.0  16.0    623.0   \n",
       "4  \"문재인 정부, 국익 수호 위해 '서희' '이순신' 역할 함께 수행\"\"법적·외교적 ...   374.0  14.0  11468.0   \n",
       "\n",
       "    want  warm  cheer  congrats  expect  surprise  fan  \n",
       "0  121.0  16.0    NaN       NaN     NaN       NaN  NaN  \n",
       "1   48.0  32.0    NaN       NaN     NaN       NaN  NaN  \n",
       "2   30.0  19.0    NaN       NaN     NaN       NaN  NaN  \n",
       "3   37.0  19.0    NaN       NaN     NaN       NaN  NaN  \n",
       "4   38.0  13.0    NaN       NaN     NaN       NaN  NaN  "
      ]
     },
     "execution_count": 19,
     "metadata": {},
     "output_type": "execute_result"
    }
   ],
   "source": [
    "df2.head()"
   ]
  },
  {
   "cell_type": "code",
   "execution_count": 20,
   "metadata": {},
   "outputs": [
    {
     "data": {
      "text/plain": [
       "array(['https://news.naver.com/main/ranking/read.nhn?mid=etc&sid1=111&rankingType=popular_day&oid=444&aid=0000001280&date=20191015&type=1&rankingSectionId=105&rankingSeq=1',\n",
       "       'https://news.naver.com/main/ranking/read.nhn?mid=etc&sid1=111&rankingType=popular_day&oid=444&aid=0000001280&date=20191016&type=1&rankingSectionId=105&rankingSeq=1'],\n",
       "      dtype=object)"
      ]
     },
     "execution_count": 20,
     "metadata": {},
     "output_type": "execute_result"
    }
   ],
   "source": [
    "# 삭제된 기사 링크\n",
    "df2[df2['content'].isnull()]['url'].values"
   ]
  },
  {
   "cell_type": "code",
   "execution_count": 21,
   "metadata": {},
   "outputs": [
    {
     "data": {
      "text/plain": [
       "array(['https://news.naver.com/main/ranking/read.nhn?mid=etc&sid1=111&rankingType=popular_day&oid=001&aid=0010994889&date=20190731&type=1&rankingSectionId=103&rankingSeq=4',\n",
       "       'https://news.naver.com/main/ranking/read.nhn?mid=etc&sid1=111&rankingType=popular_day&oid=025&aid=0002926865&date=20190802&type=1&rankingSectionId=103&rankingSeq=3',\n",
       "       'https://news.naver.com/main/ranking/read.nhn?mid=etc&sid1=111&rankingType=popular_day&oid=032&aid=0002960805&date=20190902&type=1&rankingSectionId=103&rankingSeq=3',\n",
       "       'https://news.naver.com/main/ranking/read.nhn?mid=etc&sid1=111&rankingType=popular_day&oid=032&aid=0002960805&date=20190903&type=1&rankingSectionId=103&rankingSeq=3',\n",
       "       'https://news.naver.com/main/ranking/read.nhn?mid=etc&sid1=111&rankingType=popular_day&oid=009&aid=0004445870&date=20191017&type=1&rankingSectionId=103&rankingSeq=2',\n",
       "       'https://news.naver.com/main/ranking/read.nhn?mid=etc&sid1=111&rankingType=popular_day&oid=081&aid=0003037020&date=20191019&type=1&rankingSectionId=102&rankingSeq=2',\n",
       "       'https://news.naver.com/main/ranking/read.nhn?mid=etc&sid1=111&rankingType=popular_day&oid=005&aid=0001250536&date=20191020&type=1&rankingSectionId=102&rankingSeq=5',\n",
       "       'https://news.naver.com/main/ranking/read.nhn?mid=etc&sid1=111&rankingType=popular_day&oid=018&aid=0004511119&date=20191107&type=1&rankingSectionId=103&rankingSeq=3',\n",
       "       'https://news.naver.com/main/ranking/read.nhn?mid=etc&sid1=111&rankingType=popular_day&oid=081&aid=0003063149&date=20200204&type=1&rankingSectionId=103&rankingSeq=5',\n",
       "       'https://news.naver.com/main/ranking/read.nhn?mid=etc&sid1=111&rankingType=popular_day&oid=005&aid=0001301587&date=20200320&type=1&rankingSectionId=103&rankingSeq=1',\n",
       "       'https://news.naver.com/main/ranking/read.nhn?mid=etc&sid1=111&rankingType=popular_day&oid=005&aid=0001321801&date=20200516&type=1&rankingSectionId=103&rankingSeq=3',\n",
       "       'https://news.naver.com/main/ranking/read.nhn?mid=etc&sid1=111&rankingType=popular_day&oid=023&aid=0003534279&date=20200527&type=1&rankingSectionId=103&rankingSeq=1',\n",
       "       'https://news.naver.com/main/ranking/read.nhn?mid=etc&sid1=111&rankingType=popular_day&oid=005&aid=0001331111&date=20200612&type=1&rankingSectionId=103&rankingSeq=1',\n",
       "       'https://news.naver.com/main/ranking/read.nhn?mid=etc&sid1=111&rankingType=popular_day&oid=005&aid=0001331111&date=20200613&type=1&rankingSectionId=103&rankingSeq=2',\n",
       "       'https://news.naver.com/main/ranking/read.nhn?mid=etc&sid1=111&rankingType=popular_day&oid=005&aid=0001333664&date=20200620&type=1&rankingSectionId=103&rankingSeq=1',\n",
       "       'https://news.naver.com/main/ranking/read.nhn?mid=etc&sid1=111&rankingType=popular_day&oid=023&aid=0003542126&date=20200627&type=1&rankingSectionId=103&rankingSeq=4',\n",
       "       'https://news.naver.com/main/ranking/read.nhn?mid=etc&sid1=111&rankingType=popular_day&oid=025&aid=0003014141&date=20200702&type=1&rankingSectionId=102&rankingSeq=1',\n",
       "       'https://news.naver.com/main/ranking/read.nhn?mid=etc&sid1=111&rankingType=popular_day&oid=025&aid=0003014675&date=20200704&type=1&rankingSectionId=103&rankingSeq=2',\n",
       "       'https://news.naver.com/main/ranking/read.nhn?mid=etc&sid1=111&rankingType=popular_day&oid=023&aid=0003544102&date=20200705&type=1&rankingSectionId=103&rankingSeq=4'],\n",
       "      dtype=object)"
      ]
     },
     "execution_count": 21,
     "metadata": {},
     "output_type": "execute_result"
    }
   ],
   "source": [
    "# 연예 기사 링크\n",
    "df2[~df2['cheer'].isnull()]['url'].values"
   ]
  },
  {
   "cell_type": "code",
   "execution_count": 22,
   "metadata": {},
   "outputs": [
    {
     "data": {
      "text/plain": [
       "array(['https://news.naver.com/main/ranking/read.nhn?mid=etc&sid1=111&rankingType=popular_day&oid=001&aid=0011187676&date=20191104&type=1&rankingSectionId=100&rankingSeq=3'],\n",
       "      dtype=object)"
      ]
     },
     "execution_count": 22,
     "metadata": {},
     "output_type": "execute_result"
    }
   ],
   "source": [
    "# 스포츠 기사\n",
    "df2[~df2['fan'].isnull()]['url'].values"
   ]
  },
  {
   "cell_type": "markdown",
   "metadata": {},
   "source": [
    "# 데이터 저장\n",
    "\n",
    "> 파일 형태로 크롤링한 데이터를 저장"
   ]
  },
  {
   "cell_type": "code",
   "execution_count": 23,
   "metadata": {},
   "outputs": [],
   "source": [
    "df2.to_csv('naver_top_news.csv')"
   ]
  },
  {
   "cell_type": "code",
   "execution_count": null,
   "metadata": {},
   "outputs": [],
   "source": []
  }
 ],
 "metadata": {
  "kernelspec": {
   "display_name": "Python 3",
   "language": "python",
   "name": "python3"
  },
  "language_info": {
   "codemirror_mode": {
    "name": "ipython",
    "version": 3
   },
   "file_extension": ".py",
   "mimetype": "text/x-python",
   "name": "python",
   "nbconvert_exporter": "python",
   "pygments_lexer": "ipython3",
   "version": "3.8.5"
  }
 },
 "nbformat": 4,
 "nbformat_minor": 4
}
